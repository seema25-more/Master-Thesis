{
 "cells": [
  {
   "cell_type": "markdown",
   "id": "a57a8c9b",
   "metadata": {},
   "source": [
    "***This file contains LSTM model***"
   ]
  },
  {
   "cell_type": "code",
   "execution_count": 1,
   "id": "cf304279",
   "metadata": {
    "ExecuteTime": {
     "end_time": "2023-10-04T08:03:57.299045700Z",
     "start_time": "2023-10-04T08:03:57.255037900Z"
    }
   },
   "outputs": [],
   "source": [
    "import pandas as pd\n",
    "import matplotlib.pyplot as plt\n",
    "import seaborn as sns\n",
    "import numpy as np\n",
    "from tensorflow.keras.models import Sequential\n",
    "from tensorflow.keras.layers import Dense, Input, Activation, Dropout\n",
    "from tensorflow.keras.callbacks import EarlyStopping, ModelCheckpoint, Callback\n",
    "import tensorflow.keras as keras\n",
    "from tensorflow.keras.layers import LSTM, Dense\n",
    "from tensorflow.keras.optimizers import Adam"
   ]
  },
  {
   "cell_type": "code",
   "execution_count": 2,
   "id": "e542e215-804d-43e9-b7c6-5df19a8b2e98",
   "metadata": {
    "ExecuteTime": {
     "end_time": "2023-10-04T08:04:02.705422400Z",
     "start_time": "2023-10-04T08:04:02.552894600Z"
    }
   },
   "outputs": [
    {
     "data": {
      "text/html": [
       "<div>\n",
       "<style scoped>\n",
       "    .dataframe tbody tr th:only-of-type {\n",
       "        vertical-align: middle;\n",
       "    }\n",
       "\n",
       "    .dataframe tbody tr th {\n",
       "        vertical-align: top;\n",
       "    }\n",
       "\n",
       "    .dataframe thead th {\n",
       "        text-align: right;\n",
       "    }\n",
       "</style>\n",
       "<table border=\"1\" class=\"dataframe\">\n",
       "  <thead>\n",
       "    <tr style=\"text-align: right;\">\n",
       "      <th></th>\n",
       "      <th>fips</th>\n",
       "      <th>lat</th>\n",
       "      <th>lon</th>\n",
       "      <th>elevation</th>\n",
       "      <th>slope1</th>\n",
       "      <th>slope2</th>\n",
       "      <th>slope3</th>\n",
       "      <th>slope4</th>\n",
       "      <th>slope5</th>\n",
       "      <th>slope6</th>\n",
       "      <th>...</th>\n",
       "      <th>CULTRF_LAND</th>\n",
       "      <th>CULTIR_LAND</th>\n",
       "      <th>CULT_LAND</th>\n",
       "      <th>SQ1</th>\n",
       "      <th>SQ2</th>\n",
       "      <th>SQ3</th>\n",
       "      <th>SQ4</th>\n",
       "      <th>SQ5</th>\n",
       "      <th>SQ6</th>\n",
       "      <th>SQ7</th>\n",
       "    </tr>\n",
       "  </thead>\n",
       "  <tbody>\n",
       "    <tr>\n",
       "      <th>0</th>\n",
       "      <td>1001</td>\n",
       "      <td>32.536382</td>\n",
       "      <td>-86.644490</td>\n",
       "      <td>63</td>\n",
       "      <td>0.0419</td>\n",
       "      <td>0.2788</td>\n",
       "      <td>0.2984</td>\n",
       "      <td>0.2497</td>\n",
       "      <td>0.1142</td>\n",
       "      <td>0.0170</td>\n",
       "      <td>...</td>\n",
       "      <td>56.293411</td>\n",
       "      <td>1.014811</td>\n",
       "      <td>57.308224</td>\n",
       "      <td>1</td>\n",
       "      <td>1</td>\n",
       "      <td>1</td>\n",
       "      <td>1</td>\n",
       "      <td>1</td>\n",
       "      <td>1</td>\n",
       "      <td>2</td>\n",
       "    </tr>\n",
       "    <tr>\n",
       "      <th>1</th>\n",
       "      <td>1005</td>\n",
       "      <td>31.870670</td>\n",
       "      <td>-85.405456</td>\n",
       "      <td>146</td>\n",
       "      <td>0.0158</td>\n",
       "      <td>0.1868</td>\n",
       "      <td>0.5441</td>\n",
       "      <td>0.2424</td>\n",
       "      <td>0.0106</td>\n",
       "      <td>0.0003</td>\n",
       "      <td>...</td>\n",
       "      <td>72.578804</td>\n",
       "      <td>1.828159</td>\n",
       "      <td>74.406960</td>\n",
       "      <td>3</td>\n",
       "      <td>2</td>\n",
       "      <td>1</td>\n",
       "      <td>1</td>\n",
       "      <td>1</td>\n",
       "      <td>1</td>\n",
       "      <td>1</td>\n",
       "    </tr>\n",
       "    <tr>\n",
       "      <th>2</th>\n",
       "      <td>1003</td>\n",
       "      <td>30.659218</td>\n",
       "      <td>-87.746067</td>\n",
       "      <td>52</td>\n",
       "      <td>0.0746</td>\n",
       "      <td>0.4370</td>\n",
       "      <td>0.4415</td>\n",
       "      <td>0.0469</td>\n",
       "      <td>0.0000</td>\n",
       "      <td>0.0000</td>\n",
       "      <td>...</td>\n",
       "      <td>59.843639</td>\n",
       "      <td>2.996914</td>\n",
       "      <td>62.840553</td>\n",
       "      <td>3</td>\n",
       "      <td>2</td>\n",
       "      <td>1</td>\n",
       "      <td>2</td>\n",
       "      <td>1</td>\n",
       "      <td>1</td>\n",
       "      <td>1</td>\n",
       "    </tr>\n",
       "    <tr>\n",
       "      <th>3</th>\n",
       "      <td>1007</td>\n",
       "      <td>33.015893</td>\n",
       "      <td>-87.127148</td>\n",
       "      <td>93</td>\n",
       "      <td>0.0144</td>\n",
       "      <td>0.1617</td>\n",
       "      <td>0.3714</td>\n",
       "      <td>0.3493</td>\n",
       "      <td>0.0898</td>\n",
       "      <td>0.0134</td>\n",
       "      <td>...</td>\n",
       "      <td>1.916593</td>\n",
       "      <td>0.008330</td>\n",
       "      <td>1.924924</td>\n",
       "      <td>3</td>\n",
       "      <td>2</td>\n",
       "      <td>1</td>\n",
       "      <td>1</td>\n",
       "      <td>1</td>\n",
       "      <td>1</td>\n",
       "      <td>1</td>\n",
       "    </tr>\n",
       "    <tr>\n",
       "      <th>4</th>\n",
       "      <td>1009</td>\n",
       "      <td>33.977448</td>\n",
       "      <td>-86.567246</td>\n",
       "      <td>198</td>\n",
       "      <td>0.0050</td>\n",
       "      <td>0.0872</td>\n",
       "      <td>0.2799</td>\n",
       "      <td>0.3576</td>\n",
       "      <td>0.1477</td>\n",
       "      <td>0.1037</td>\n",
       "      <td>...</td>\n",
       "      <td>1.891909</td>\n",
       "      <td>0.027488</td>\n",
       "      <td>1.919397</td>\n",
       "      <td>3</td>\n",
       "      <td>2</td>\n",
       "      <td>1</td>\n",
       "      <td>1</td>\n",
       "      <td>1</td>\n",
       "      <td>1</td>\n",
       "      <td>1</td>\n",
       "    </tr>\n",
       "    <tr>\n",
       "      <th>...</th>\n",
       "      <td>...</td>\n",
       "      <td>...</td>\n",
       "      <td>...</td>\n",
       "      <td>...</td>\n",
       "      <td>...</td>\n",
       "      <td>...</td>\n",
       "      <td>...</td>\n",
       "      <td>...</td>\n",
       "      <td>...</td>\n",
       "      <td>...</td>\n",
       "      <td>...</td>\n",
       "      <td>...</td>\n",
       "      <td>...</td>\n",
       "      <td>...</td>\n",
       "      <td>...</td>\n",
       "      <td>...</td>\n",
       "      <td>...</td>\n",
       "      <td>...</td>\n",
       "      <td>...</td>\n",
       "      <td>...</td>\n",
       "      <td>...</td>\n",
       "    </tr>\n",
       "    <tr>\n",
       "      <th>3104</th>\n",
       "      <td>56037</td>\n",
       "      <td>41.660339</td>\n",
       "      <td>-108.875676</td>\n",
       "      <td>2085</td>\n",
       "      <td>0.0016</td>\n",
       "      <td>0.0281</td>\n",
       "      <td>0.1763</td>\n",
       "      <td>0.3554</td>\n",
       "      <td>0.2121</td>\n",
       "      <td>0.2097</td>\n",
       "      <td>...</td>\n",
       "      <td>0.000000</td>\n",
       "      <td>0.000000</td>\n",
       "      <td>0.000000</td>\n",
       "      <td>1</td>\n",
       "      <td>1</td>\n",
       "      <td>3</td>\n",
       "      <td>1</td>\n",
       "      <td>1</td>\n",
       "      <td>1</td>\n",
       "      <td>3</td>\n",
       "    </tr>\n",
       "    <tr>\n",
       "      <th>3105</th>\n",
       "      <td>56039</td>\n",
       "      <td>44.049321</td>\n",
       "      <td>-110.588102</td>\n",
       "      <td>2564</td>\n",
       "      <td>0.0003</td>\n",
       "      <td>0.0026</td>\n",
       "      <td>0.0166</td>\n",
       "      <td>0.0722</td>\n",
       "      <td>0.1489</td>\n",
       "      <td>0.5005</td>\n",
       "      <td>...</td>\n",
       "      <td>2.922309</td>\n",
       "      <td>0.000000</td>\n",
       "      <td>2.922309</td>\n",
       "      <td>1</td>\n",
       "      <td>1</td>\n",
       "      <td>1</td>\n",
       "      <td>1</td>\n",
       "      <td>1</td>\n",
       "      <td>1</td>\n",
       "      <td>1</td>\n",
       "    </tr>\n",
       "    <tr>\n",
       "      <th>3106</th>\n",
       "      <td>56043</td>\n",
       "      <td>43.878831</td>\n",
       "      <td>-107.669052</td>\n",
       "      <td>1417</td>\n",
       "      <td>0.0034</td>\n",
       "      <td>0.0470</td>\n",
       "      <td>0.2331</td>\n",
       "      <td>0.4099</td>\n",
       "      <td>0.2064</td>\n",
       "      <td>0.0999</td>\n",
       "      <td>...</td>\n",
       "      <td>0.000000</td>\n",
       "      <td>0.000000</td>\n",
       "      <td>0.000000</td>\n",
       "      <td>1</td>\n",
       "      <td>1</td>\n",
       "      <td>1</td>\n",
       "      <td>1</td>\n",
       "      <td>1</td>\n",
       "      <td>1</td>\n",
       "      <td>1</td>\n",
       "    </tr>\n",
       "    <tr>\n",
       "      <th>3107</th>\n",
       "      <td>56041</td>\n",
       "      <td>41.284726</td>\n",
       "      <td>-110.558947</td>\n",
       "      <td>2327</td>\n",
       "      <td>0.0050</td>\n",
       "      <td>0.2009</td>\n",
       "      <td>0.4063</td>\n",
       "      <td>0.1858</td>\n",
       "      <td>0.0964</td>\n",
       "      <td>0.1031</td>\n",
       "      <td>...</td>\n",
       "      <td>1.013702</td>\n",
       "      <td>10.755590</td>\n",
       "      <td>11.769293</td>\n",
       "      <td>1</td>\n",
       "      <td>1</td>\n",
       "      <td>2</td>\n",
       "      <td>1</td>\n",
       "      <td>1</td>\n",
       "      <td>1</td>\n",
       "      <td>2</td>\n",
       "    </tr>\n",
       "    <tr>\n",
       "      <th>3108</th>\n",
       "      <td>56045</td>\n",
       "      <td>43.846213</td>\n",
       "      <td>-104.570020</td>\n",
       "      <td>1276</td>\n",
       "      <td>0.0158</td>\n",
       "      <td>0.1958</td>\n",
       "      <td>0.6160</td>\n",
       "      <td>0.1688</td>\n",
       "      <td>0.0036</td>\n",
       "      <td>0.0000</td>\n",
       "      <td>...</td>\n",
       "      <td>0.000000</td>\n",
       "      <td>0.007074</td>\n",
       "      <td>0.007074</td>\n",
       "      <td>1</td>\n",
       "      <td>1</td>\n",
       "      <td>2</td>\n",
       "      <td>1</td>\n",
       "      <td>1</td>\n",
       "      <td>1</td>\n",
       "      <td>2</td>\n",
       "    </tr>\n",
       "  </tbody>\n",
       "</table>\n",
       "<p>3109 rows × 32 columns</p>\n",
       "</div>"
      ],
      "text/plain": [
       "       fips        lat         lon  elevation  slope1  slope2  slope3  slope4  \\\n",
       "0      1001  32.536382  -86.644490         63  0.0419  0.2788  0.2984  0.2497   \n",
       "1      1005  31.870670  -85.405456        146  0.0158  0.1868  0.5441  0.2424   \n",
       "2      1003  30.659218  -87.746067         52  0.0746  0.4370  0.4415  0.0469   \n",
       "3      1007  33.015893  -87.127148         93  0.0144  0.1617  0.3714  0.3493   \n",
       "4      1009  33.977448  -86.567246        198  0.0050  0.0872  0.2799  0.3576   \n",
       "...     ...        ...         ...        ...     ...     ...     ...     ...   \n",
       "3104  56037  41.660339 -108.875676       2085  0.0016  0.0281  0.1763  0.3554   \n",
       "3105  56039  44.049321 -110.588102       2564  0.0003  0.0026  0.0166  0.0722   \n",
       "3106  56043  43.878831 -107.669052       1417  0.0034  0.0470  0.2331  0.4099   \n",
       "3107  56041  41.284726 -110.558947       2327  0.0050  0.2009  0.4063  0.1858   \n",
       "3108  56045  43.846213 -104.570020       1276  0.0158  0.1958  0.6160  0.1688   \n",
       "\n",
       "      slope5  slope6  ...  CULTRF_LAND  CULTIR_LAND  CULT_LAND  SQ1  SQ2  SQ3  \\\n",
       "0     0.1142  0.0170  ...    56.293411     1.014811  57.308224    1    1    1   \n",
       "1     0.0106  0.0003  ...    72.578804     1.828159  74.406960    3    2    1   \n",
       "2     0.0000  0.0000  ...    59.843639     2.996914  62.840553    3    2    1   \n",
       "3     0.0898  0.0134  ...     1.916593     0.008330   1.924924    3    2    1   \n",
       "4     0.1477  0.1037  ...     1.891909     0.027488   1.919397    3    2    1   \n",
       "...      ...     ...  ...          ...          ...        ...  ...  ...  ...   \n",
       "3104  0.2121  0.2097  ...     0.000000     0.000000   0.000000    1    1    3   \n",
       "3105  0.1489  0.5005  ...     2.922309     0.000000   2.922309    1    1    1   \n",
       "3106  0.2064  0.0999  ...     0.000000     0.000000   0.000000    1    1    1   \n",
       "3107  0.0964  0.1031  ...     1.013702    10.755590  11.769293    1    1    2   \n",
       "3108  0.0036  0.0000  ...     0.000000     0.007074   0.007074    1    1    2   \n",
       "\n",
       "      SQ4  SQ5  SQ6  SQ7  \n",
       "0       1    1    1    2  \n",
       "1       1    1    1    1  \n",
       "2       2    1    1    1  \n",
       "3       1    1    1    1  \n",
       "4       1    1    1    1  \n",
       "...   ...  ...  ...  ...  \n",
       "3104    1    1    1    3  \n",
       "3105    1    1    1    1  \n",
       "3106    1    1    1    1  \n",
       "3107    1    1    1    2  \n",
       "3108    1    1    1    2  \n",
       "\n",
       "[3109 rows x 32 columns]"
      ]
     },
     "execution_count": 2,
     "metadata": {},
     "output_type": "execute_result"
    }
   ],
   "source": [
    "data = pd.read_csv(\"./soil_data.csv\")\n",
    "data"
   ]
  },
  {
   "cell_type": "code",
   "execution_count": null,
   "id": "18a28c3a",
   "metadata": {
    "ExecuteTime": {
     "end_time": "2023-10-04T08:04:30.312690300Z",
     "start_time": "2023-10-04T08:04:04.090415200Z"
    }
   },
   "outputs": [],
   "source": [
    "train_data = pd.read_csv(\"./train_timeseries.csv\") #taking only train data\n",
    "train_data"
   ]
  },
  {
   "cell_type": "code",
   "execution_count": 8,
   "id": "1c700688-7d89-45d6-b312-e501a0306091",
   "metadata": {
    "ExecuteTime": {
     "end_time": "2023-10-04T08:05:37.694895200Z",
     "start_time": "2023-10-04T08:05:33.941060Z"
    }
   },
   "outputs": [],
   "source": [
    "result = pd.merge(train_data, data, on='fips', how='inner')"
   ]
  },
  {
   "cell_type": "code",
   "execution_count": 9,
   "id": "2fdcf015-c596-4110-b41d-e793d5078da5",
   "metadata": {
    "ExecuteTime": {
     "end_time": "2023-10-04T08:05:56.724031Z",
     "start_time": "2023-10-04T08:05:53.324195800Z"
    }
   },
   "outputs": [
    {
     "data": {
      "text/html": [
       "<div>\n",
       "<style scoped>\n",
       "    .dataframe tbody tr th:only-of-type {\n",
       "        vertical-align: middle;\n",
       "    }\n",
       "\n",
       "    .dataframe tbody tr th {\n",
       "        vertical-align: top;\n",
       "    }\n",
       "\n",
       "    .dataframe thead th {\n",
       "        text-align: right;\n",
       "    }\n",
       "</style>\n",
       "<table border=\"1\" class=\"dataframe\">\n",
       "  <thead>\n",
       "    <tr style=\"text-align: right;\">\n",
       "      <th></th>\n",
       "      <th>fips</th>\n",
       "      <th>date</th>\n",
       "      <th>PRECTOT</th>\n",
       "      <th>PS</th>\n",
       "      <th>QV2M</th>\n",
       "      <th>T2M</th>\n",
       "      <th>T2MDEW</th>\n",
       "      <th>T2MWET</th>\n",
       "      <th>T2M_MAX</th>\n",
       "      <th>T2M_MIN</th>\n",
       "      <th>...</th>\n",
       "      <th>CULTRF_LAND</th>\n",
       "      <th>CULTIR_LAND</th>\n",
       "      <th>CULT_LAND</th>\n",
       "      <th>SQ1</th>\n",
       "      <th>SQ2</th>\n",
       "      <th>SQ3</th>\n",
       "      <th>SQ4</th>\n",
       "      <th>SQ5</th>\n",
       "      <th>SQ6</th>\n",
       "      <th>SQ7</th>\n",
       "    </tr>\n",
       "  </thead>\n",
       "  <tbody>\n",
       "    <tr>\n",
       "      <th>0</th>\n",
       "      <td>1001</td>\n",
       "      <td>2000-01-01</td>\n",
       "      <td>0.22</td>\n",
       "      <td>100.51</td>\n",
       "      <td>9.65</td>\n",
       "      <td>14.74</td>\n",
       "      <td>13.51</td>\n",
       "      <td>13.51</td>\n",
       "      <td>20.96</td>\n",
       "      <td>11.46</td>\n",
       "      <td>...</td>\n",
       "      <td>56.293411</td>\n",
       "      <td>1.014811</td>\n",
       "      <td>57.308224</td>\n",
       "      <td>1</td>\n",
       "      <td>1</td>\n",
       "      <td>1</td>\n",
       "      <td>1</td>\n",
       "      <td>1</td>\n",
       "      <td>1</td>\n",
       "      <td>2</td>\n",
       "    </tr>\n",
       "    <tr>\n",
       "      <th>1</th>\n",
       "      <td>1001</td>\n",
       "      <td>2000-01-02</td>\n",
       "      <td>0.20</td>\n",
       "      <td>100.55</td>\n",
       "      <td>10.42</td>\n",
       "      <td>16.69</td>\n",
       "      <td>14.71</td>\n",
       "      <td>14.71</td>\n",
       "      <td>22.80</td>\n",
       "      <td>12.61</td>\n",
       "      <td>...</td>\n",
       "      <td>56.293411</td>\n",
       "      <td>1.014811</td>\n",
       "      <td>57.308224</td>\n",
       "      <td>1</td>\n",
       "      <td>1</td>\n",
       "      <td>1</td>\n",
       "      <td>1</td>\n",
       "      <td>1</td>\n",
       "      <td>1</td>\n",
       "      <td>2</td>\n",
       "    </tr>\n",
       "    <tr>\n",
       "      <th>2</th>\n",
       "      <td>1001</td>\n",
       "      <td>2000-01-03</td>\n",
       "      <td>3.65</td>\n",
       "      <td>100.15</td>\n",
       "      <td>11.76</td>\n",
       "      <td>18.49</td>\n",
       "      <td>16.52</td>\n",
       "      <td>16.52</td>\n",
       "      <td>22.73</td>\n",
       "      <td>15.32</td>\n",
       "      <td>...</td>\n",
       "      <td>56.293411</td>\n",
       "      <td>1.014811</td>\n",
       "      <td>57.308224</td>\n",
       "      <td>1</td>\n",
       "      <td>1</td>\n",
       "      <td>1</td>\n",
       "      <td>1</td>\n",
       "      <td>1</td>\n",
       "      <td>1</td>\n",
       "      <td>2</td>\n",
       "    </tr>\n",
       "    <tr>\n",
       "      <th>3</th>\n",
       "      <td>1001</td>\n",
       "      <td>2000-01-04</td>\n",
       "      <td>15.95</td>\n",
       "      <td>100.29</td>\n",
       "      <td>6.42</td>\n",
       "      <td>11.40</td>\n",
       "      <td>6.09</td>\n",
       "      <td>6.10</td>\n",
       "      <td>18.09</td>\n",
       "      <td>2.16</td>\n",
       "      <td>...</td>\n",
       "      <td>56.293411</td>\n",
       "      <td>1.014811</td>\n",
       "      <td>57.308224</td>\n",
       "      <td>1</td>\n",
       "      <td>1</td>\n",
       "      <td>1</td>\n",
       "      <td>1</td>\n",
       "      <td>1</td>\n",
       "      <td>1</td>\n",
       "      <td>2</td>\n",
       "    </tr>\n",
       "    <tr>\n",
       "      <th>4</th>\n",
       "      <td>1001</td>\n",
       "      <td>2000-01-05</td>\n",
       "      <td>0.00</td>\n",
       "      <td>101.15</td>\n",
       "      <td>2.95</td>\n",
       "      <td>3.86</td>\n",
       "      <td>-3.29</td>\n",
       "      <td>-3.20</td>\n",
       "      <td>10.82</td>\n",
       "      <td>-2.66</td>\n",
       "      <td>...</td>\n",
       "      <td>56.293411</td>\n",
       "      <td>1.014811</td>\n",
       "      <td>57.308224</td>\n",
       "      <td>1</td>\n",
       "      <td>1</td>\n",
       "      <td>1</td>\n",
       "      <td>1</td>\n",
       "      <td>1</td>\n",
       "      <td>1</td>\n",
       "      <td>2</td>\n",
       "    </tr>\n",
       "    <tr>\n",
       "      <th>...</th>\n",
       "      <td>...</td>\n",
       "      <td>...</td>\n",
       "      <td>...</td>\n",
       "      <td>...</td>\n",
       "      <td>...</td>\n",
       "      <td>...</td>\n",
       "      <td>...</td>\n",
       "      <td>...</td>\n",
       "      <td>...</td>\n",
       "      <td>...</td>\n",
       "      <td>...</td>\n",
       "      <td>...</td>\n",
       "      <td>...</td>\n",
       "      <td>...</td>\n",
       "      <td>...</td>\n",
       "      <td>...</td>\n",
       "      <td>...</td>\n",
       "      <td>...</td>\n",
       "      <td>...</td>\n",
       "      <td>...</td>\n",
       "      <td>...</td>\n",
       "    </tr>\n",
       "    <tr>\n",
       "      <th>19300675</th>\n",
       "      <td>56043</td>\n",
       "      <td>2016-12-27</td>\n",
       "      <td>0.16</td>\n",
       "      <td>82.88</td>\n",
       "      <td>1.63</td>\n",
       "      <td>-7.97</td>\n",
       "      <td>-13.49</td>\n",
       "      <td>-12.81</td>\n",
       "      <td>-1.39</td>\n",
       "      <td>-13.60</td>\n",
       "      <td>...</td>\n",
       "      <td>0.000000</td>\n",
       "      <td>0.000000</td>\n",
       "      <td>0.000000</td>\n",
       "      <td>1</td>\n",
       "      <td>1</td>\n",
       "      <td>1</td>\n",
       "      <td>1</td>\n",
       "      <td>1</td>\n",
       "      <td>1</td>\n",
       "      <td>1</td>\n",
       "    </tr>\n",
       "    <tr>\n",
       "      <th>19300676</th>\n",
       "      <td>56043</td>\n",
       "      <td>2016-12-28</td>\n",
       "      <td>0.02</td>\n",
       "      <td>83.33</td>\n",
       "      <td>1.41</td>\n",
       "      <td>-8.71</td>\n",
       "      <td>-14.10</td>\n",
       "      <td>-13.84</td>\n",
       "      <td>-2.49</td>\n",
       "      <td>-13.56</td>\n",
       "      <td>...</td>\n",
       "      <td>0.000000</td>\n",
       "      <td>0.000000</td>\n",
       "      <td>0.000000</td>\n",
       "      <td>1</td>\n",
       "      <td>1</td>\n",
       "      <td>1</td>\n",
       "      <td>1</td>\n",
       "      <td>1</td>\n",
       "      <td>1</td>\n",
       "      <td>1</td>\n",
       "    </tr>\n",
       "    <tr>\n",
       "      <th>19300677</th>\n",
       "      <td>56043</td>\n",
       "      <td>2016-12-29</td>\n",
       "      <td>0.00</td>\n",
       "      <td>83.75</td>\n",
       "      <td>1.59</td>\n",
       "      <td>-7.96</td>\n",
       "      <td>-13.30</td>\n",
       "      <td>-13.03</td>\n",
       "      <td>0.42</td>\n",
       "      <td>-14.51</td>\n",
       "      <td>...</td>\n",
       "      <td>0.000000</td>\n",
       "      <td>0.000000</td>\n",
       "      <td>0.000000</td>\n",
       "      <td>1</td>\n",
       "      <td>1</td>\n",
       "      <td>1</td>\n",
       "      <td>1</td>\n",
       "      <td>1</td>\n",
       "      <td>1</td>\n",
       "      <td>1</td>\n",
       "    </tr>\n",
       "    <tr>\n",
       "      <th>19300678</th>\n",
       "      <td>56043</td>\n",
       "      <td>2016-12-30</td>\n",
       "      <td>1.22</td>\n",
       "      <td>82.49</td>\n",
       "      <td>2.63</td>\n",
       "      <td>-2.94</td>\n",
       "      <td>-7.40</td>\n",
       "      <td>-7.33</td>\n",
       "      <td>3.76</td>\n",
       "      <td>-6.86</td>\n",
       "      <td>...</td>\n",
       "      <td>0.000000</td>\n",
       "      <td>0.000000</td>\n",
       "      <td>0.000000</td>\n",
       "      <td>1</td>\n",
       "      <td>1</td>\n",
       "      <td>1</td>\n",
       "      <td>1</td>\n",
       "      <td>1</td>\n",
       "      <td>1</td>\n",
       "      <td>1</td>\n",
       "    </tr>\n",
       "    <tr>\n",
       "      <th>19300679</th>\n",
       "      <td>56043</td>\n",
       "      <td>2016-12-31</td>\n",
       "      <td>0.44</td>\n",
       "      <td>82.19</td>\n",
       "      <td>1.75</td>\n",
       "      <td>-7.56</td>\n",
       "      <td>-11.98</td>\n",
       "      <td>-11.82</td>\n",
       "      <td>-0.95</td>\n",
       "      <td>-11.61</td>\n",
       "      <td>...</td>\n",
       "      <td>0.000000</td>\n",
       "      <td>0.000000</td>\n",
       "      <td>0.000000</td>\n",
       "      <td>1</td>\n",
       "      <td>1</td>\n",
       "      <td>1</td>\n",
       "      <td>1</td>\n",
       "      <td>1</td>\n",
       "      <td>1</td>\n",
       "      <td>1</td>\n",
       "    </tr>\n",
       "  </tbody>\n",
       "</table>\n",
       "<p>19300680 rows × 52 columns</p>\n",
       "</div>"
      ],
      "text/plain": [
       "           fips        date  PRECTOT      PS   QV2M    T2M  T2MDEW  T2MWET  \\\n",
       "0          1001  2000-01-01     0.22  100.51   9.65  14.74   13.51   13.51   \n",
       "1          1001  2000-01-02     0.20  100.55  10.42  16.69   14.71   14.71   \n",
       "2          1001  2000-01-03     3.65  100.15  11.76  18.49   16.52   16.52   \n",
       "3          1001  2000-01-04    15.95  100.29   6.42  11.40    6.09    6.10   \n",
       "4          1001  2000-01-05     0.00  101.15   2.95   3.86   -3.29   -3.20   \n",
       "...         ...         ...      ...     ...    ...    ...     ...     ...   \n",
       "19300675  56043  2016-12-27     0.16   82.88   1.63  -7.97  -13.49  -12.81   \n",
       "19300676  56043  2016-12-28     0.02   83.33   1.41  -8.71  -14.10  -13.84   \n",
       "19300677  56043  2016-12-29     0.00   83.75   1.59  -7.96  -13.30  -13.03   \n",
       "19300678  56043  2016-12-30     1.22   82.49   2.63  -2.94   -7.40   -7.33   \n",
       "19300679  56043  2016-12-31     0.44   82.19   1.75  -7.56  -11.98  -11.82   \n",
       "\n",
       "          T2M_MAX  T2M_MIN  ...  CULTRF_LAND  CULTIR_LAND  CULT_LAND  SQ1  \\\n",
       "0           20.96    11.46  ...    56.293411     1.014811  57.308224    1   \n",
       "1           22.80    12.61  ...    56.293411     1.014811  57.308224    1   \n",
       "2           22.73    15.32  ...    56.293411     1.014811  57.308224    1   \n",
       "3           18.09     2.16  ...    56.293411     1.014811  57.308224    1   \n",
       "4           10.82    -2.66  ...    56.293411     1.014811  57.308224    1   \n",
       "...           ...      ...  ...          ...          ...        ...  ...   \n",
       "19300675    -1.39   -13.60  ...     0.000000     0.000000   0.000000    1   \n",
       "19300676    -2.49   -13.56  ...     0.000000     0.000000   0.000000    1   \n",
       "19300677     0.42   -14.51  ...     0.000000     0.000000   0.000000    1   \n",
       "19300678     3.76    -6.86  ...     0.000000     0.000000   0.000000    1   \n",
       "19300679    -0.95   -11.61  ...     0.000000     0.000000   0.000000    1   \n",
       "\n",
       "          SQ2  SQ3  SQ4  SQ5  SQ6  SQ7  \n",
       "0           1    1    1    1    1    2  \n",
       "1           1    1    1    1    1    2  \n",
       "2           1    1    1    1    1    2  \n",
       "3           1    1    1    1    1    2  \n",
       "4           1    1    1    1    1    2  \n",
       "...       ...  ...  ...  ...  ...  ...  \n",
       "19300675    1    1    1    1    1    1  \n",
       "19300676    1    1    1    1    1    1  \n",
       "19300677    1    1    1    1    1    1  \n",
       "19300678    1    1    1    1    1    1  \n",
       "19300679    1    1    1    1    1    1  \n",
       "\n",
       "[19300680 rows x 52 columns]"
      ]
     },
     "execution_count": 9,
     "metadata": {},
     "output_type": "execute_result"
    }
   ],
   "source": [
    "result"
   ]
  },
  {
   "cell_type": "code",
   "execution_count": 10,
   "id": "30771d67-94c3-4261-9251-675f880bf0bf",
   "metadata": {
    "ExecuteTime": {
     "end_time": "2023-10-04T08:06:58.315047700Z",
     "start_time": "2023-10-04T08:06:56.461795800Z"
    }
   },
   "outputs": [
    {
     "data": {
      "text/plain": [
       "fips                    0\n",
       "date                    0\n",
       "PRECTOT                 0\n",
       "PS                      0\n",
       "QV2M                    0\n",
       "T2M                     0\n",
       "T2MDEW                  0\n",
       "T2MWET                  0\n",
       "T2M_MAX                 0\n",
       "T2M_MIN                 0\n",
       "T2M_RANGE               0\n",
       "TS                      0\n",
       "WS10M                   0\n",
       "WS10M_MAX               0\n",
       "WS10M_MIN               0\n",
       "WS10M_RANGE             0\n",
       "WS50M                   0\n",
       "WS50M_MAX               0\n",
       "WS50M_MIN               0\n",
       "WS50M_RANGE             0\n",
       "score            16543884\n",
       "lat                     0\n",
       "lon                     0\n",
       "elevation               0\n",
       "slope1                  0\n",
       "slope2                  0\n",
       "slope3                  0\n",
       "slope4                  0\n",
       "slope5                  0\n",
       "slope6                  0\n",
       "slope7                  0\n",
       "slope8                  0\n",
       "aspectN                 0\n",
       "aspectE                 0\n",
       "aspectS                 0\n",
       "aspectW                 0\n",
       "aspectUnknown           0\n",
       "WAT_LAND                0\n",
       "NVG_LAND                0\n",
       "URB_LAND                0\n",
       "GRS_LAND                0\n",
       "FOR_LAND                0\n",
       "CULTRF_LAND             0\n",
       "CULTIR_LAND             0\n",
       "CULT_LAND               0\n",
       "SQ1                     0\n",
       "SQ2                     0\n",
       "SQ3                     0\n",
       "SQ4                     0\n",
       "SQ5                     0\n",
       "SQ6                     0\n",
       "SQ7                     0\n",
       "dtype: int64"
      ]
     },
     "execution_count": 10,
     "metadata": {},
     "output_type": "execute_result"
    }
   ],
   "source": [
    "result.isnull().sum()"
   ]
  },
  {
   "cell_type": "code",
   "execution_count": 11,
   "id": "07efd753-3e2c-4ed5-abb4-991474511848",
   "metadata": {
    "ExecuteTime": {
     "end_time": "2023-10-04T08:07:00.012678900Z",
     "start_time": "2023-10-04T08:06:58.315047700Z"
    }
   },
   "outputs": [],
   "source": [
    "result =  result.drop(['score'], axis=1)"
   ]
  },
  {
   "cell_type": "code",
   "execution_count": 12,
   "id": "36eceb4e-3e08-4542-a6b8-ac0e3993f9b8",
   "metadata": {
    "ExecuteTime": {
     "end_time": "2023-10-04T08:08:44.207255900Z",
     "start_time": "2023-10-04T08:08:38.119812100Z"
    }
   },
   "outputs": [],
   "source": [
    "train = result[(result['date'] >= '2000-01-01') & (result['date'] <= '2008-12-31')]\n",
    "validation = result[(result['date'] >= '2009-01-01') & (result['date'] <= '2010-12-31')]\n",
    "test = result[(result['date'] >= '2011-01-01') & (result['date'] <= '2012-12-31')]"
   ]
  },
  {
   "cell_type": "code",
   "execution_count": 14,
   "id": "df73dba2-e968-47ba-b4ef-761291eff026",
   "metadata": {
    "ExecuteTime": {
     "end_time": "2023-10-04T08:09:11.985523700Z",
     "start_time": "2023-10-04T08:09:10.532363700Z"
    }
   },
   "outputs": [],
   "source": [
    "train = train.reset_index(drop=True)\n",
    "validation = validation.reset_index(drop=True)\n",
    "test = test.reset_index(drop=True)"
   ]
  },
  {
   "cell_type": "code",
   "execution_count": 15,
   "id": "37f8cb4a-7cba-409e-abd1-6fc8b457b999",
   "metadata": {
    "ExecuteTime": {
     "end_time": "2023-10-04T08:09:22.414137400Z",
     "start_time": "2023-10-04T08:09:16.615531700Z"
    }
   },
   "outputs": [],
   "source": [
    "train['date'] = pd.to_datetime(train['date'])\n",
    "\n",
    "\n",
    "train['Year'] = train['date'].dt.year\n",
    "train['Month'] = train['date'].dt.month\n",
    "train['Day'] = train['date'].dt.day\n",
    "\n",
    "train = train.drop(columns=['date'])"
   ]
  },
  {
   "cell_type": "code",
   "execution_count": 16,
   "id": "8ad19672-20d7-4551-a45e-a11395089485",
   "metadata": {
    "ExecuteTime": {
     "end_time": "2023-10-04T08:09:23.710227200Z",
     "start_time": "2023-10-04T08:09:23.176046100Z"
    }
   },
   "outputs": [],
   "source": [
    "validation['date'] = pd.to_datetime(validation['date'])\n",
    "\n",
    "validation['Year'] = validation['date'].dt.year\n",
    "validation['Month'] = validation['date'].dt.month\n",
    "validation['Day'] = validation['date'].dt.day\n",
    "\n",
    "validation = validation.drop(columns=['date'])"
   ]
  },
  {
   "cell_type": "code",
   "execution_count": 17,
   "id": "613b7713-9c67-43d7-ad7d-206956b0c16e",
   "metadata": {
    "ExecuteTime": {
     "end_time": "2023-10-04T08:09:24.981713200Z",
     "start_time": "2023-10-04T08:09:23.711226700Z"
    }
   },
   "outputs": [],
   "source": [
    "test['date'] = pd.to_datetime(test['date'])\n",
    "\n",
    "\n",
    "test['Year'] = test['date'].dt.year\n",
    "test['Month'] = test['date'].dt.month\n",
    "test['Day'] = test['date'].dt.day\n",
    "\n",
    "test = test.drop(columns=['date'])"
   ]
  },
  {
   "cell_type": "code",
   "execution_count": 25,
   "id": "c6371cd7-c747-4edf-8695-442fdd60efea",
   "metadata": {
    "ExecuteTime": {
     "end_time": "2023-10-04T08:51:07.808575700Z",
     "start_time": "2023-10-04T08:50:54.076016600Z"
    }
   },
   "outputs": [],
   "source": [
    "window_size = 7\n",
    "\n",
    "train_values = train.drop(['PRECTOT'], axis=1).values\n",
    "train_target = train['PRECTOT'].values\n",
    "\n",
    "validation_values = validation.drop(['PRECTOT'], axis=1).values\n",
    "validation_target = validation['PRECTOT'].values\n",
    "\n",
    "test_values = test.drop(['PRECTOT'], axis=1).values\n",
    "test_target = test['PRECTOT'].values"
   ]
  },
  {
   "cell_type": "code",
   "execution_count": 36,
   "id": "29b635542e0783f1",
   "metadata": {
    "ExecuteTime": {
     "end_time": "2023-10-04T09:00:04.417356Z",
     "start_time": "2023-10-04T09:00:04.360320400Z"
    }
   },
   "outputs": [],
   "source": [
    "def data_generator(dataset, target, window_size, batch_size=32):\n",
    "    n_features = dataset.shape[1]  # number of features\n",
    "    while True:\n",
    "        for i in range(0, len(dataset) - window_size, batch_size):\n",
    "            X_batch = []\n",
    "            y_batch = []\n",
    "\n",
    "            for j in range(i, min(i + batch_size, len(dataset) - window_size)):\n",
    "                X_batch.append(dataset[j:j+window_size])\n",
    "                y_batch.append(target[j + window_size])\n",
    "\n",
    "            yield np.array(X_batch), np.array(y_batch)"
   ]
  },
  {
   "cell_type": "code",
   "execution_count": 43,
   "id": "66e82ebfd691a1f5",
   "metadata": {
    "ExecuteTime": {
     "end_time": "2023-10-04T09:02:06.630263800Z",
     "start_time": "2023-10-04T09:02:06.573146700Z"
    }
   },
   "outputs": [],
   "source": [
    "window_size = 7  \n",
    "n_features = train_values.shape[1]\n",
    "batch_size = 32"
   ]
  },
  {
   "cell_type": "code",
   "execution_count": 44,
   "id": "d607cef9892ac4b3",
   "metadata": {
    "ExecuteTime": {
     "end_time": "2023-10-04T09:02:11.015633500Z",
     "start_time": "2023-10-04T09:02:10.887112600Z"
    }
   },
   "outputs": [
    {
     "name": "stdout",
     "output_type": "stream",
     "text": [
      "WARNING:tensorflow:Layer lstm_4 will not use cuDNN kernels since it doesn't meet the criteria. It will use a generic GPU kernel as fallback when running on GPU.\n",
      "WARNING:tensorflow:Layer lstm_5 will not use cuDNN kernels since it doesn't meet the criteria. It will use a generic GPU kernel as fallback when running on GPU.\n"
     ]
    }
   ],
   "source": [
    "model = Sequential()\n",
    "model.add(LSTM(64, activation='relu', return_sequences=True, input_shape=(window_size, n_features)))\n",
    "model.add(LSTM(32, activation='relu'))\n",
    "model.add(Dense(1))\n",
    "model.compile(loss='mean_absolute_error', optimizer='adam')"
   ]
  },
  {
   "cell_type": "code",
   "execution_count": 45,
   "id": "17c5833f7976b2b0",
   "metadata": {
    "ExecuteTime": {
     "end_time": "2023-10-04T09:02:15.423201700Z",
     "start_time": "2023-10-04T09:02:15.407203500Z"
    }
   },
   "outputs": [],
   "source": [
    "train_gen = data_generator(train_values, train_target, window_size, batch_size)\n",
    "valid_gen = data_generator(validation_values, validation_target, window_size, batch_size)"
   ]
  },
  {
   "cell_type": "code",
   "execution_count": 47,
   "id": "15a8f5ca6cfd6526",
   "metadata": {
    "ExecuteTime": {
     "end_time": "2023-10-04T09:02:32.574288100Z",
     "start_time": "2023-10-04T09:02:32.542279200Z"
    }
   },
   "outputs": [],
   "source": [
    "train_steps = (len(train_values) - window_size) // batch_size\n",
    "valid_steps = (len(validation_values) - window_size) // batch_size"
   ]
  },
  {
   "cell_type": "code",
   "execution_count": 49,
   "id": "2c8691d4da99f9be",
   "metadata": {
    "ExecuteTime": {
     "end_time": "2023-10-07T00:05:41.524514900Z",
     "start_time": "2023-10-04T10:54:13.386356800Z"
    }
   },
   "outputs": [
    {
     "name": "stdout",
     "output_type": "stream",
     "text": [
      "Epoch 1/20\n",
      "319346/319346 [==============================] - 9378s 29ms/step - loss: 2.5567 - val_loss: 2.8204\n",
      "Epoch 2/20\n",
      "319346/319346 [==============================] - 14095s 44ms/step - loss: 2.5566 - val_loss: 2.7965\n",
      "Epoch 3/20\n",
      "319346/319346 [==============================] - 12441s 39ms/step - loss: 2.5565 - val_loss: 2.7965\n",
      "Epoch 4/20\n",
      "319346/319346 [==============================] - 9751s 31ms/step - loss: 2.5565 - val_loss: 2.7965\n",
      "Epoch 5/20\n",
      "319346/319346 [==============================] - 9691s 30ms/step - loss: 2.5565 - val_loss: 2.7965\n",
      "Epoch 6/20\n",
      "319346/319346 [==============================] - 9770s 31ms/step - loss: 2.5565 - val_loss: 2.7964\n",
      "Epoch 7/20\n",
      "319346/319346 [==============================] - 9823s 31ms/step - loss: 2.5565 - val_loss: 2.7964\n",
      "Epoch 8/20\n",
      "319346/319346 [==============================] - 9777s 31ms/step - loss: 2.5565 - val_loss: 2.7964\n",
      "Epoch 9/20\n",
      "319346/319346 [==============================] - 9939s 31ms/step - loss: 2.5565 - val_loss: 2.7964\n",
      "Epoch 10/20\n",
      "319346/319346 [==============================] - 10266s 32ms/step - loss: 2.5565 - val_loss: 2.7964\n",
      "Epoch 11/20\n",
      "319346/319346 [==============================] - 10256s 32ms/step - loss: 2.5565 - val_loss: 2.7964\n",
      "Epoch 12/20\n",
      "319346/319346 [==============================] - 11513s 36ms/step - loss: 2.5565 - val_loss: 2.7964\n",
      "Epoch 13/20\n",
      "319346/319346 [==============================] - 11055s 35ms/step - loss: 2.5565 - val_loss: 2.7964\n",
      "Epoch 14/20\n",
      "319346/319346 [==============================] - 11090s 35ms/step - loss: 2.5565 - val_loss: 2.7963\n",
      "Epoch 15/20\n",
      "319346/319346 [==============================] - 11308s 35ms/step - loss: 2.5565 - val_loss: 2.7963\n",
      "Epoch 16/20\n",
      "319346/319346 [==============================] - 11767s 37ms/step - loss: 2.5565 - val_loss: 2.7963\n",
      "Epoch 17/20\n",
      "319346/319346 [==============================] - 11431s 36ms/step - loss: 2.5565 - val_loss: 2.7962\n",
      "Epoch 18/20\n",
      "319346/319346 [==============================] - 11789s 37ms/step - loss: 2.5565 - val_loss: 2.7962\n",
      "Epoch 19/20\n",
      "319346/319346 [==============================] - 14473s 45ms/step - loss: 2.5565 - val_loss: 2.7962\n",
      "Epoch 20/20\n",
      "319346/319346 [==============================] - 10676s 33ms/step - loss: 2.5565 - val_loss: 2.7962\n"
     ]
    }
   ],
   "source": [
    "history = model.fit(train_gen, steps_per_epoch=train_steps, validation_data=valid_gen, validation_steps=valid_steps, epochs=20)"
   ]
  },
  {
   "cell_type": "code",
   "execution_count": 53,
   "id": "171905081ecf07ec",
   "metadata": {
    "ExecuteTime": {
     "end_time": "2023-10-07T15:00:23.741518800Z",
     "start_time": "2023-10-07T15:00:23.536521Z"
    }
   },
   "outputs": [],
   "source": [
    "#Define function for plotting loss\n",
    "def plot_loss(history, model_name):\n",
    "    model_history = pd.DataFrame(history.history)\n",
    "    model_history['epoch'] = history.epoch\n",
    "\n",
    "    fig, ax = plt.subplots(2,1, figsize=(12,8))\n",
    "\n",
    "    ax[0].semilogy(model_history['epoch'], model_history['loss'], label='Training Loss')\n",
    "    ax[0].set_xlabel('Epochs')\n",
    "    ax[0].set_ylabel('Loss')\n",
    "    ax[0].set_title(f'{model_name} Training Loss')\n",
    "    ax[0].legend()\n",
    "\n",
    "    ax[1].semilogy(model_history['epoch'], model_history['val_loss'], label='Validation Loss')\n",
    "    ax[1].set_xlabel('Epochs')\n",
    "    ax[1].set_ylabel('Loss')\n",
    "    ax[1].set_title(f'{model_name} Validation Loss')\n",
    "    ax[1].legend()\n",
    "\n",
    "    plt.tight_layout()\n",
    "    plt.show()"
   ]
  },
  {
   "cell_type": "code",
   "execution_count": 51,
   "id": "e00c3e061f2e9606",
   "metadata": {
    "ExecuteTime": {
     "end_time": "2023-10-07T14:47:23.309789500Z",
     "start_time": "2023-10-07T14:47:23.073065800Z"
    }
   },
   "outputs": [],
   "source": [
    "test_steps = (len(test_values) - window_size) // batch_size"
   ]
  },
  {
   "cell_type": "code",
   "execution_count": 50,
   "id": "db056c90f56cba6",
   "metadata": {
    "ExecuteTime": {
     "end_time": "2023-10-07T14:42:15.412444900Z",
     "start_time": "2023-10-07T14:42:15.208135400Z"
    }
   },
   "outputs": [],
   "source": [
    "test_gen = data_generator(test_values, test_target, window_size, batch_size)"
   ]
  },
  {
   "cell_type": "code",
   "execution_count": 52,
   "id": "57ed23abe8ecacd7",
   "metadata": {
    "ExecuteTime": {
     "end_time": "2023-10-07T14:55:06.640626400Z",
     "start_time": "2023-10-07T14:48:01.737935700Z"
    }
   },
   "outputs": [
    {
     "name": "stdout",
     "output_type": "stream",
     "text": [
      "70998/70998 [==============================] - 422s 6ms/step - loss: 2.4978\n",
      "Test loss: 2.4977645874023438\n"
     ]
    }
   ],
   "source": [
    "test_loss = model.evaluate(test_gen, steps=test_steps)\n",
    "print(f'Test loss: {test_loss}')"
   ]
  },
  {
   "cell_type": "code",
   "execution_count": 54,
   "id": "c44460e3db2e165c",
   "metadata": {
    "ExecuteTime": {
     "end_time": "2023-10-07T15:00:30.252407200Z",
     "start_time": "2023-10-07T15:00:29.193402300Z"
    }
   },
   "outputs": [
    {
     "data": {
      "image/png": "[encoded data removed]",
      "text/plain": [
       "<Figure size 1200x800 with 2 Axes>"
      ]
     },
     "metadata": {},
     "output_type": "display_data"
    }
   ],
   "source": [
    "plot_loss(history, 'model')"
   ]
  },
  {
   "cell_type": "code",
   "execution_count": 55,
   "id": "faa11d4f45962105",
   "metadata": {
    "ExecuteTime": {
     "end_time": "2023-10-07T15:07:23.618888700Z",
     "start_time": "2023-10-07T15:00:34.420623500Z"
    }
   },
   "outputs": [
    {
     "name": "stdout",
     "output_type": "stream",
     "text": [
      "70998/70998 [==============================] - 370s 5ms/step\n"
     ]
    }
   ],
   "source": [
    "y_pred_lstm = model.predict(test_gen, steps=test_steps)"
   ]
  },
  {
   "cell_type": "code",
   "execution_count": 56,
   "id": "aab69a2974764737",
   "metadata": {
    "ExecuteTime": {
     "end_time": "2023-10-07T15:08:09.665925500Z",
     "start_time": "2023-10-07T15:08:09.624250200Z"
    }
   },
   "outputs": [],
   "source": [
    "actual_test_target = test_target[window_size:window_size + y_pred_lstm.shape[0]]"
   ]
  },
  {
   "cell_type": "code",
   "execution_count": 57,
   "id": "4d7e37fe47be9cd8",
   "metadata": {
    "ExecuteTime": {
     "end_time": "2023-10-07T15:08:14.754692400Z",
     "start_time": "2023-10-07T15:08:14.207424Z"
    }
   },
   "outputs": [
    {
     "name": "stdout",
     "output_type": "stream",
     "text": [
      "Mean Absolute Error on Test Data: 2.497757951568557\n"
     ]
    }
   ],
   "source": [
    "from sklearn.metrics import mean_absolute_error\n",
    "\n",
    "mae = mean_absolute_error(actual_test_target, y_pred_lstm)\n",
    "print(f\"Mean Absolute Error on Test Data: {mae}\")"
   ]
  },
  {
   "cell_type": "code",
   "execution_count": 58,
   "id": "f6ece3a5a0b1b597",
   "metadata": {
    "ExecuteTime": {
     "end_time": "2023-10-07T15:08:19.182369Z",
     "start_time": "2023-10-07T15:08:19.170368100Z"
    }
   },
   "outputs": [],
   "source": [
    "# Calculate the absolute errors\n",
    "abs_error = np.abs(y_pred_lstm.flatten() - actual_test_target)"
   ]
  },
  {
   "cell_type": "code",
   "execution_count": 59,
   "id": "dbad5019b830d55e",
   "metadata": {
    "ExecuteTime": {
     "end_time": "2023-10-07T15:08:23.493953700Z",
     "start_time": "2023-10-07T15:08:23.274369800Z"
    }
   },
   "outputs": [
    {
     "data": {
      "image/png": "[encoded data removed]",
      "text/plain": [
       "<Figure size 640x480 with 1 Axes>"
      ]
     },
     "metadata": {},
     "output_type": "display_data"
    }
   ],
   "source": [
    "plt.hist(abs_error, bins=15, color='blue', alpha=0.7)\n",
    "plt.title('Distribution of Absolute Errors')\n",
    "plt.xlabel('Absolute Error')\n",
    "plt.ylabel('Frequency')\n",
    "plt.show()"
   ]
  },
  {
   "cell_type": "code",
   "execution_count": 61,
   "id": "e3e58818c968b613",
   "metadata": {
    "ExecuteTime": {
     "end_time": "2023-10-07T15:14:52.633138700Z",
     "start_time": "2023-10-07T15:14:51.549656400Z"
    }
   },
   "outputs": [
    {
     "data": {
      "image/png": "[encoded data removed]",
      "text/plain": [
       "<Figure size 1500x300 with 5 Axes>"
      ]
     },
     "metadata": {},
     "output_type": "display_data"
    }
   ],
   "source": [
    "absolute_errors = np.abs(y_pred_lstm.flatten() - actual_test_target)\n",
    "\n",
    "region_columns = ['aspectN', 'aspectW', 'aspectS', 'aspectE', 'aspectUnknown']\n",
    "threshold = 0.1\n",
    "\n",
    "fig, axes = plt.subplots(nrows=1, ncols=len(region_columns), figsize=(15, 3))\n",
    "axes = axes.flatten()\n",
    "\n",
    "aligned_test_df = test.iloc[window_size:window_size + y_pred_lstm.shape[0]]\n",
    "\n",
    "for i, region in enumerate(region_columns):\n",
    "    idx = aligned_test_df[region] > threshold\n",
    "\n",
    "    region_abs_errors = absolute_errors[idx.values] \n",
    "\n",
    "    if idx.sum() == 0 or np.isnan(region_abs_errors).all():\n",
    "        axes[i].set_title(f\"{region} - No Data\", fontsize=14)\n",
    "        continue\n",
    "\n",
    "    axes[i].hist(region_abs_errors, bins=30, histtype=\"barstacked\", color=\"blue\", rwidth=0.6, edgecolor=\"white\")\n",
    "    axes[i].set_title(f\"{region}\", fontsize=14)\n",
    "    axes[i].set_xlabel(\"Absolute Error\", fontsize=10)\n",
    "    axes[i].set_ylabel(\"Frequency\", fontsize=10)\n",
    "    axes[i].tick_params(axis='both', which='major', labelsize=8)\n",
    "\n",
    "plt.tight_layout()\n",
    "plt.show()"
   ]
  },
  {
   "cell_type": "code",
   "execution_count": 64,
   "id": "aa41c1e872852167",
   "metadata": {
    "ExecuteTime": {
     "end_time": "2023-10-07T15:18:55.873233Z",
     "start_time": "2023-10-07T15:18:54.653626300Z"
    }
   },
   "outputs": [
    {
     "data": {
      "image/png": "[encoded data removed]",
      "text/plain": [
       "<Figure size 1500x300 with 5 Axes>"
      ]
     },
     "metadata": {},
     "output_type": "display_data"
    }
   ],
   "source": [
    "region_columns = ['aspectN', 'aspectW', 'aspectS', 'aspectE', 'aspectUnknown']\n",
    "threshold = 0.1\n",
    "\n",
    "fig, axes = plt.subplots(nrows=1, ncols=len(region_columns), figsize=(15, 3))\n",
    "axes = axes.flatten()\n",
    "\n",
    "aligned_test_df = test.iloc[window_size:window_size + y_pred_lstm.shape[0]]\n",
    "\n",
    "for i, region in enumerate(region_columns):\n",
    "    idx = aligned_test_df[region] > threshold\n",
    "\n",
    "    region_abs_errors = absolute_errors[idx.values] \n",
    "\n",
    "    if idx.sum() == 0 or np.isnan(region_abs_errors).all():\n",
    "        axes[i].set_title(f\"{region} - No Data\", fontsize=14)\n",
    "        axes[i].grid(False)\n",
    "        continue\n",
    "\n",
    "    axes[i].hist(region_abs_errors,bins=30, histtype=\"barstacked\", color=\"blue\", edgecolor=\"white\")\n",
    "    axes[i].set_title(f\"{region}\", fontsize=12)\n",
    "    axes[i].set_xlabel(\"Absolute Error\", fontsize=8)\n",
    "    axes[i].set_ylabel(\"Frequency\", fontsize=10)\n",
    "    axes[i].tick_params(axis='both', which='major', labelsize=8)\n",
    "    axes[i].grid(False)\n",
    "\n",
    "plt.tight_layout()\n",
    "plt.show()"
   ]
  },
  {
   "cell_type": "code",
   "execution_count": null,
   "id": "b2527b6092042c53",
   "metadata": {},
   "outputs": [],
   "source": []
  }
 ],
 "metadata": {
  "kernelspec": {
   "display_name": "Python 3 (ipykernel)",
   "language": "python",
   "name": "python3"
  },
  "language_info": {
   "codemirror_mode": {
    "name": "ipython",
    "version": 3
   },
   "file_extension": ".py",
   "mimetype": "text/x-python",
   "name": "python",
   "nbconvert_exporter": "python",
   "pygments_lexer": "ipython3",
   "version": "3.11.4"
  }
 },
 "nbformat": 4,
 "nbformat_minor": 5
}
