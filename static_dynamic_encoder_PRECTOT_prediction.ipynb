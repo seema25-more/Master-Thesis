{
  "cells": [
    {
      "cell_type": "markdown",
      "source": [
        "## **This file contains the strategy for combining static and dynamic features using Autoencoder**\n"
      ],
      "metadata": {
        "id": "RwQtw4hot-EJ"
      },
      "id": "RwQtw4hot-EJ"
    },
    {
      "cell_type": "code",
      "execution_count": null,
      "id": "initial_id",
      "metadata": {
        "collapsed": true,
        "ExecuteTime": {
          "end_time": "2023-10-22T14:00:11.543700800Z",
          "start_time": "2023-10-22T14:00:09.743097800Z"
        },
        "id": "initial_id"
      },
      "outputs": [],
      "source": [
        "#import necessary libraries\n",
        "import pandas as pd\n",
        "import matplotlib.pyplot as plt\n",
        "import seaborn as sns\n",
        "import numpy as np\n",
        "from tensorflow.keras.models import Sequential\n",
        "from tensorflow.keras.layers import Dense, Input, Activation, Dropout\n",
        "from tensorflow.keras.callbacks import EarlyStopping, ModelCheckpoint, Callback\n",
        "import tensorflow.keras as keras\n",
        "from tensorflow.keras.layers import LSTM, Dense\n",
        "from tensorflow.keras.optimizers import Adam"
      ]
    },
    {
      "cell_type": "code",
      "execution_count": null,
      "outputs": [
        {
          "data": {
            "text/plain": "       fips        lat         lon  elevation  slope1  slope2  slope3  slope4  \\\n0      1001  32.536382  -86.644490         63  0.0419  0.2788  0.2984  0.2497   \n1      1005  31.870670  -85.405456        146  0.0158  0.1868  0.5441  0.2424   \n2      1003  30.659218  -87.746067         52  0.0746  0.4370  0.4415  0.0469   \n3      1007  33.015893  -87.127148         93  0.0144  0.1617  0.3714  0.3493   \n4      1009  33.977448  -86.567246        198  0.0050  0.0872  0.2799  0.3576   \n...     ...        ...         ...        ...     ...     ...     ...     ...   \n3104  56037  41.660339 -108.875676       2085  0.0016  0.0281  0.1763  0.3554   \n3105  56039  44.049321 -110.588102       2564  0.0003  0.0026  0.0166  0.0722   \n3106  56043  43.878831 -107.669052       1417  0.0034  0.0470  0.2331  0.4099   \n3107  56041  41.284726 -110.558947       2327  0.0050  0.2009  0.4063  0.1858   \n3108  56045  43.846213 -104.570020       1276  0.0158  0.1958  0.6160  0.1688   \n\n      slope5  slope6  ...  CULTRF_LAND  CULTIR_LAND  CULT_LAND  SQ1  SQ2  SQ3  \\\n0     0.1142  0.0170  ...    56.293411     1.014811  57.308224    1    1    1   \n1     0.0106  0.0003  ...    72.578804     1.828159  74.406960    3    2    1   \n2     0.0000  0.0000  ...    59.843639     2.996914  62.840553    3    2    1   \n3     0.0898  0.0134  ...     1.916593     0.008330   1.924924    3    2    1   \n4     0.1477  0.1037  ...     1.891909     0.027488   1.919397    3    2    1   \n...      ...     ...  ...          ...          ...        ...  ...  ...  ...   \n3104  0.2121  0.2097  ...     0.000000     0.000000   0.000000    1    1    3   \n3105  0.1489  0.5005  ...     2.922309     0.000000   2.922309    1    1    1   \n3106  0.2064  0.0999  ...     0.000000     0.000000   0.000000    1    1    1   \n3107  0.0964  0.1031  ...     1.013702    10.755590  11.769293    1    1    2   \n3108  0.0036  0.0000  ...     0.000000     0.007074   0.007074    1    1    2   \n\n      SQ4  SQ5  SQ6  SQ7  \n0       1    1    1    2  \n1       1    1    1    1  \n2       2    1    1    1  \n3       1    1    1    1  \n4       1    1    1    1  \n...   ...  ...  ...  ...  \n3104    1    1    1    3  \n3105    1    1    1    1  \n3106    1    1    1    1  \n3107    1    1    1    2  \n3108    1    1    1    2  \n\n[3109 rows x 32 columns]",
            "text/html": "<div>\n<style scoped>\n    .dataframe tbody tr th:only-of-type {\n        vertical-align: middle;\n    }\n\n    .dataframe tbody tr th {\n        vertical-align: top;\n    }\n\n    .dataframe thead th {\n        text-align: right;\n    }\n</style>\n<table border=\"1\" class=\"dataframe\">\n  <thead>\n    <tr style=\"text-align: right;\">\n      <th></th>\n      <th>fips</th>\n      <th>lat</th>\n      <th>lon</th>\n      <th>elevation</th>\n      <th>slope1</th>\n      <th>slope2</th>\n      <th>slope3</th>\n      <th>slope4</th>\n      <th>slope5</th>\n      <th>slope6</th>\n      <th>...</th>\n      <th>CULTRF_LAND</th>\n      <th>CULTIR_LAND</th>\n      <th>CULT_LAND</th>\n      <th>SQ1</th>\n      <th>SQ2</th>\n      <th>SQ3</th>\n      <th>SQ4</th>\n      <th>SQ5</th>\n      <th>SQ6</th>\n      <th>SQ7</th>\n    </tr>\n  </thead>\n  <tbody>\n    <tr>\n      <th>0</th>\n      <td>1001</td>\n      <td>32.536382</td>\n      <td>-86.644490</td>\n      <td>63</td>\n      <td>0.0419</td>\n      <td>0.2788</td>\n      <td>0.2984</td>\n      <td>0.2497</td>\n      <td>0.1142</td>\n      <td>0.0170</td>\n      <td>...</td>\n      <td>56.293411</td>\n      <td>1.014811</td>\n      <td>57.308224</td>\n      <td>1</td>\n      <td>1</td>\n      <td>1</td>\n      <td>1</td>\n      <td>1</td>\n      <td>1</td>\n      <td>2</td>\n    </tr>\n    <tr>\n      <th>1</th>\n      <td>1005</td>\n      <td>31.870670</td>\n      <td>-85.405456</td>\n      <td>146</td>\n      <td>0.0158</td>\n      <td>0.1868</td>\n      <td>0.5441</td>\n      <td>0.2424</td>\n      <td>0.0106</td>\n      <td>0.0003</td>\n      <td>...</td>\n      <td>72.578804</td>\n      <td>1.828159</td>\n      <td>74.406960</td>\n      <td>3</td>\n      <td>2</td>\n      <td>1</td>\n      <td>1</td>\n      <td>1</td>\n      <td>1</td>\n      <td>1</td>\n    </tr>\n    <tr>\n      <th>2</th>\n      <td>1003</td>\n      <td>30.659218</td>\n      <td>-87.746067</td>\n      <td>52</td>\n      <td>0.0746</td>\n      <td>0.4370</td>\n      <td>0.4415</td>\n      <td>0.0469</td>\n      <td>0.0000</td>\n      <td>0.0000</td>\n      <td>...</td>\n      <td>59.843639</td>\n      <td>2.996914</td>\n      <td>62.840553</td>\n      <td>3</td>\n      <td>2</td>\n      <td>1</td>\n      <td>2</td>\n      <td>1</td>\n      <td>1</td>\n      <td>1</td>\n    </tr>\n    <tr>\n      <th>3</th>\n      <td>1007</td>\n      <td>33.015893</td>\n      <td>-87.127148</td>\n      <td>93</td>\n      <td>0.0144</td>\n      <td>0.1617</td>\n      <td>0.3714</td>\n      <td>0.3493</td>\n      <td>0.0898</td>\n      <td>0.0134</td>\n      <td>...</td>\n      <td>1.916593</td>\n      <td>0.008330</td>\n      <td>1.924924</td>\n      <td>3</td>\n      <td>2</td>\n      <td>1</td>\n      <td>1</td>\n      <td>1</td>\n      <td>1</td>\n      <td>1</td>\n    </tr>\n    <tr>\n      <th>4</th>\n      <td>1009</td>\n      <td>33.977448</td>\n      <td>-86.567246</td>\n      <td>198</td>\n      <td>0.0050</td>\n      <td>0.0872</td>\n      <td>0.2799</td>\n      <td>0.3576</td>\n      <td>0.1477</td>\n      <td>0.1037</td>\n      <td>...</td>\n      <td>1.891909</td>\n      <td>0.027488</td>\n      <td>1.919397</td>\n      <td>3</td>\n      <td>2</td>\n      <td>1</td>\n      <td>1</td>\n      <td>1</td>\n      <td>1</td>\n      <td>1</td>\n    </tr>\n    <tr>\n      <th>...</th>\n      <td>...</td>\n      <td>...</td>\n      <td>...</td>\n      <td>...</td>\n      <td>...</td>\n      <td>...</td>\n      <td>...</td>\n      <td>...</td>\n      <td>...</td>\n      <td>...</td>\n      <td>...</td>\n      <td>...</td>\n      <td>...</td>\n      <td>...</td>\n      <td>...</td>\n      <td>...</td>\n      <td>...</td>\n      <td>...</td>\n      <td>...</td>\n      <td>...</td>\n      <td>...</td>\n    </tr>\n    <tr>\n      <th>3104</th>\n      <td>56037</td>\n      <td>41.660339</td>\n      <td>-108.875676</td>\n      <td>2085</td>\n      <td>0.0016</td>\n      <td>0.0281</td>\n      <td>0.1763</td>\n      <td>0.3554</td>\n      <td>0.2121</td>\n      <td>0.2097</td>\n      <td>...</td>\n      <td>0.000000</td>\n      <td>0.000000</td>\n      <td>0.000000</td>\n      <td>1</td>\n      <td>1</td>\n      <td>3</td>\n      <td>1</td>\n      <td>1</td>\n      <td>1</td>\n      <td>3</td>\n    </tr>\n    <tr>\n      <th>3105</th>\n      <td>56039</td>\n      <td>44.049321</td>\n      <td>-110.588102</td>\n      <td>2564</td>\n      <td>0.0003</td>\n      <td>0.0026</td>\n      <td>0.0166</td>\n      <td>0.0722</td>\n      <td>0.1489</td>\n      <td>0.5005</td>\n      <td>...</td>\n      <td>2.922309</td>\n      <td>0.000000</td>\n      <td>2.922309</td>\n      <td>1</td>\n      <td>1</td>\n      <td>1</td>\n      <td>1</td>\n      <td>1</td>\n      <td>1</td>\n      <td>1</td>\n    </tr>\n    <tr>\n      <th>3106</th>\n      <td>56043</td>\n      <td>43.878831</td>\n      <td>-107.669052</td>\n      <td>1417</td>\n      <td>0.0034</td>\n      <td>0.0470</td>\n      <td>0.2331</td>\n      <td>0.4099</td>\n      <td>0.2064</td>\n      <td>0.0999</td>\n      <td>...</td>\n      <td>0.000000</td>\n      <td>0.000000</td>\n      <td>0.000000</td>\n      <td>1</td>\n      <td>1</td>\n      <td>1</td>\n      <td>1</td>\n      <td>1</td>\n      <td>1</td>\n      <td>1</td>\n    </tr>\n    <tr>\n      <th>3107</th>\n      <td>56041</td>\n      <td>41.284726</td>\n      <td>-110.558947</td>\n      <td>2327</td>\n      <td>0.0050</td>\n      <td>0.2009</td>\n      <td>0.4063</td>\n      <td>0.1858</td>\n      <td>0.0964</td>\n      <td>0.1031</td>\n      <td>...</td>\n      <td>1.013702</td>\n      <td>10.755590</td>\n      <td>11.769293</td>\n      <td>1</td>\n      <td>1</td>\n      <td>2</td>\n      <td>1</td>\n      <td>1</td>\n      <td>1</td>\n      <td>2</td>\n    </tr>\n    <tr>\n      <th>3108</th>\n      <td>56045</td>\n      <td>43.846213</td>\n      <td>-104.570020</td>\n      <td>1276</td>\n      <td>0.0158</td>\n      <td>0.1958</td>\n      <td>0.6160</td>\n      <td>0.1688</td>\n      <td>0.0036</td>\n      <td>0.0000</td>\n      <td>...</td>\n      <td>0.000000</td>\n      <td>0.007074</td>\n      <td>0.007074</td>\n      <td>1</td>\n      <td>1</td>\n      <td>2</td>\n      <td>1</td>\n      <td>1</td>\n      <td>1</td>\n      <td>2</td>\n    </tr>\n  </tbody>\n</table>\n<p>3109 rows × 32 columns</p>\n</div>"
          },
          "execution_count": 2,
          "metadata": {},
          "output_type": "execute_result"
        }
      ],
      "source": [
        "#static data file\n",
        "data = pd.read_csv(\"./soil_data.csv\")\n",
        "data"
      ],
      "metadata": {
        "ExecuteTime": {
          "end_time": "2023-10-22T14:00:11.607698400Z",
          "start_time": "2023-10-22T14:00:11.538699200Z"
        },
        "id": "f87828a5a8b6a9d6",
        "outputId": "bfa56d04-746d-4c92-ee5f-0ea4dca5d9e6"
      },
      "id": "f87828a5a8b6a9d6"
    },
    {
      "cell_type": "code",
      "execution_count": null,
      "outputs": [
        {
          "data": {
            "text/plain": "           fips        date  PRECTOT      PS   QV2M    T2M  T2MDEW  T2MWET  \\\n0          1001  2000-01-01     0.22  100.51   9.65  14.74   13.51   13.51   \n1          1001  2000-01-02     0.20  100.55  10.42  16.69   14.71   14.71   \n2          1001  2000-01-03     3.65  100.15  11.76  18.49   16.52   16.52   \n3          1001  2000-01-04    15.95  100.29   6.42  11.40    6.09    6.10   \n4          1001  2000-01-05     0.00  101.15   2.95   3.86   -3.29   -3.20   \n...         ...         ...      ...     ...    ...    ...     ...     ...   \n19300675  56043  2016-12-27     0.16   82.88   1.63  -7.97  -13.49  -12.81   \n19300676  56043  2016-12-28     0.02   83.33   1.41  -8.71  -14.10  -13.84   \n19300677  56043  2016-12-29     0.00   83.75   1.59  -7.96  -13.30  -13.03   \n19300678  56043  2016-12-30     1.22   82.49   2.63  -2.94   -7.40   -7.33   \n19300679  56043  2016-12-31     0.44   82.19   1.75  -7.56  -11.98  -11.82   \n\n          T2M_MAX  T2M_MIN  ...     TS  WS10M  WS10M_MAX  WS10M_MIN  \\\n0           20.96    11.46  ...  14.65   2.20       2.94       1.49   \n1           22.80    12.61  ...  16.60   2.52       3.43       1.83   \n2           22.73    15.32  ...  18.41   4.03       5.33       2.66   \n3           18.09     2.16  ...  11.31   3.84       5.67       2.08   \n4           10.82    -2.66  ...   2.65   1.60       2.50       0.52   \n...           ...      ...  ...    ...    ...        ...        ...   \n19300675    -1.39   -13.60  ...  -9.41   5.90       7.63       3.61   \n19300676    -2.49   -13.56  ... -10.55   6.50      11.43       4.11   \n19300677     0.42   -14.51  ... -10.29   4.29       6.24       2.03   \n19300678     3.76    -6.86  ...  -4.14   4.98       7.34       1.99   \n19300679    -0.95   -11.61  ... -10.17   2.31       3.47       0.41   \n\n          WS10M_RANGE  WS50M  WS50M_MAX  WS50M_MIN  WS50M_RANGE  score  \n0                1.46   4.85       6.04       3.23         2.81    NaN  \n1                1.60   5.33       6.13       3.72         2.41    NaN  \n2                2.67   7.53       9.52       5.87         3.66    NaN  \n3                3.59   6.73       9.31       3.74         5.58    1.0  \n4                1.98   2.94       4.85       0.65         4.19    NaN  \n...               ...    ...        ...        ...          ...    ...  \n19300675         4.02   8.58      10.39       5.92         4.47    0.0  \n19300676         7.32   9.92      14.49       7.26         7.22    NaN  \n19300677         4.22   6.56      10.07       3.20         6.87    NaN  \n19300678         5.35   7.28      10.12       3.24         6.89    NaN  \n19300679         3.06   3.37       5.26       0.66         4.60    NaN  \n\n[19300680 rows x 21 columns]",
            "text/html": "<div>\n<style scoped>\n    .dataframe tbody tr th:only-of-type {\n        vertical-align: middle;\n    }\n\n    .dataframe tbody tr th {\n        vertical-align: top;\n    }\n\n    .dataframe thead th {\n        text-align: right;\n    }\n</style>\n<table border=\"1\" class=\"dataframe\">\n  <thead>\n    <tr style=\"text-align: right;\">\n      <th></th>\n      <th>fips</th>\n      <th>date</th>\n      <th>PRECTOT</th>\n      <th>PS</th>\n      <th>QV2M</th>\n      <th>T2M</th>\n      <th>T2MDEW</th>\n      <th>T2MWET</th>\n      <th>T2M_MAX</th>\n      <th>T2M_MIN</th>\n      <th>...</th>\n      <th>TS</th>\n      <th>WS10M</th>\n      <th>WS10M_MAX</th>\n      <th>WS10M_MIN</th>\n      <th>WS10M_RANGE</th>\n      <th>WS50M</th>\n      <th>WS50M_MAX</th>\n      <th>WS50M_MIN</th>\n      <th>WS50M_RANGE</th>\n      <th>score</th>\n    </tr>\n  </thead>\n  <tbody>\n    <tr>\n      <th>0</th>\n      <td>1001</td>\n      <td>2000-01-01</td>\n      <td>0.22</td>\n      <td>100.51</td>\n      <td>9.65</td>\n      <td>14.74</td>\n      <td>13.51</td>\n      <td>13.51</td>\n      <td>20.96</td>\n      <td>11.46</td>\n      <td>...</td>\n      <td>14.65</td>\n      <td>2.20</td>\n      <td>2.94</td>\n      <td>1.49</td>\n      <td>1.46</td>\n      <td>4.85</td>\n      <td>6.04</td>\n      <td>3.23</td>\n      <td>2.81</td>\n      <td>NaN</td>\n    </tr>\n    <tr>\n      <th>1</th>\n      <td>1001</td>\n      <td>2000-01-02</td>\n      <td>0.20</td>\n      <td>100.55</td>\n      <td>10.42</td>\n      <td>16.69</td>\n      <td>14.71</td>\n      <td>14.71</td>\n      <td>22.80</td>\n      <td>12.61</td>\n      <td>...</td>\n      <td>16.60</td>\n      <td>2.52</td>\n      <td>3.43</td>\n      <td>1.83</td>\n      <td>1.60</td>\n      <td>5.33</td>\n      <td>6.13</td>\n      <td>3.72</td>\n      <td>2.41</td>\n      <td>NaN</td>\n    </tr>\n    <tr>\n      <th>2</th>\n      <td>1001</td>\n      <td>2000-01-03</td>\n      <td>3.65</td>\n      <td>100.15</td>\n      <td>11.76</td>\n      <td>18.49</td>\n      <td>16.52</td>\n      <td>16.52</td>\n      <td>22.73</td>\n      <td>15.32</td>\n      <td>...</td>\n      <td>18.41</td>\n      <td>4.03</td>\n      <td>5.33</td>\n      <td>2.66</td>\n      <td>2.67</td>\n      <td>7.53</td>\n      <td>9.52</td>\n      <td>5.87</td>\n      <td>3.66</td>\n      <td>NaN</td>\n    </tr>\n    <tr>\n      <th>3</th>\n      <td>1001</td>\n      <td>2000-01-04</td>\n      <td>15.95</td>\n      <td>100.29</td>\n      <td>6.42</td>\n      <td>11.40</td>\n      <td>6.09</td>\n      <td>6.10</td>\n      <td>18.09</td>\n      <td>2.16</td>\n      <td>...</td>\n      <td>11.31</td>\n      <td>3.84</td>\n      <td>5.67</td>\n      <td>2.08</td>\n      <td>3.59</td>\n      <td>6.73</td>\n      <td>9.31</td>\n      <td>3.74</td>\n      <td>5.58</td>\n      <td>1.0</td>\n    </tr>\n    <tr>\n      <th>4</th>\n      <td>1001</td>\n      <td>2000-01-05</td>\n      <td>0.00</td>\n      <td>101.15</td>\n      <td>2.95</td>\n      <td>3.86</td>\n      <td>-3.29</td>\n      <td>-3.20</td>\n      <td>10.82</td>\n      <td>-2.66</td>\n      <td>...</td>\n      <td>2.65</td>\n      <td>1.60</td>\n      <td>2.50</td>\n      <td>0.52</td>\n      <td>1.98</td>\n      <td>2.94</td>\n      <td>4.85</td>\n      <td>0.65</td>\n      <td>4.19</td>\n      <td>NaN</td>\n    </tr>\n    <tr>\n      <th>...</th>\n      <td>...</td>\n      <td>...</td>\n      <td>...</td>\n      <td>...</td>\n      <td>...</td>\n      <td>...</td>\n      <td>...</td>\n      <td>...</td>\n      <td>...</td>\n      <td>...</td>\n      <td>...</td>\n      <td>...</td>\n      <td>...</td>\n      <td>...</td>\n      <td>...</td>\n      <td>...</td>\n      <td>...</td>\n      <td>...</td>\n      <td>...</td>\n      <td>...</td>\n      <td>...</td>\n    </tr>\n    <tr>\n      <th>19300675</th>\n      <td>56043</td>\n      <td>2016-12-27</td>\n      <td>0.16</td>\n      <td>82.88</td>\n      <td>1.63</td>\n      <td>-7.97</td>\n      <td>-13.49</td>\n      <td>-12.81</td>\n      <td>-1.39</td>\n      <td>-13.60</td>\n      <td>...</td>\n      <td>-9.41</td>\n      <td>5.90</td>\n      <td>7.63</td>\n      <td>3.61</td>\n      <td>4.02</td>\n      <td>8.58</td>\n      <td>10.39</td>\n      <td>5.92</td>\n      <td>4.47</td>\n      <td>0.0</td>\n    </tr>\n    <tr>\n      <th>19300676</th>\n      <td>56043</td>\n      <td>2016-12-28</td>\n      <td>0.02</td>\n      <td>83.33</td>\n      <td>1.41</td>\n      <td>-8.71</td>\n      <td>-14.10</td>\n      <td>-13.84</td>\n      <td>-2.49</td>\n      <td>-13.56</td>\n      <td>...</td>\n      <td>-10.55</td>\n      <td>6.50</td>\n      <td>11.43</td>\n      <td>4.11</td>\n      <td>7.32</td>\n      <td>9.92</td>\n      <td>14.49</td>\n      <td>7.26</td>\n      <td>7.22</td>\n      <td>NaN</td>\n    </tr>\n    <tr>\n      <th>19300677</th>\n      <td>56043</td>\n      <td>2016-12-29</td>\n      <td>0.00</td>\n      <td>83.75</td>\n      <td>1.59</td>\n      <td>-7.96</td>\n      <td>-13.30</td>\n      <td>-13.03</td>\n      <td>0.42</td>\n      <td>-14.51</td>\n      <td>...</td>\n      <td>-10.29</td>\n      <td>4.29</td>\n      <td>6.24</td>\n      <td>2.03</td>\n      <td>4.22</td>\n      <td>6.56</td>\n      <td>10.07</td>\n      <td>3.20</td>\n      <td>6.87</td>\n      <td>NaN</td>\n    </tr>\n    <tr>\n      <th>19300678</th>\n      <td>56043</td>\n      <td>2016-12-30</td>\n      <td>1.22</td>\n      <td>82.49</td>\n      <td>2.63</td>\n      <td>-2.94</td>\n      <td>-7.40</td>\n      <td>-7.33</td>\n      <td>3.76</td>\n      <td>-6.86</td>\n      <td>...</td>\n      <td>-4.14</td>\n      <td>4.98</td>\n      <td>7.34</td>\n      <td>1.99</td>\n      <td>5.35</td>\n      <td>7.28</td>\n      <td>10.12</td>\n      <td>3.24</td>\n      <td>6.89</td>\n      <td>NaN</td>\n    </tr>\n    <tr>\n      <th>19300679</th>\n      <td>56043</td>\n      <td>2016-12-31</td>\n      <td>0.44</td>\n      <td>82.19</td>\n      <td>1.75</td>\n      <td>-7.56</td>\n      <td>-11.98</td>\n      <td>-11.82</td>\n      <td>-0.95</td>\n      <td>-11.61</td>\n      <td>...</td>\n      <td>-10.17</td>\n      <td>2.31</td>\n      <td>3.47</td>\n      <td>0.41</td>\n      <td>3.06</td>\n      <td>3.37</td>\n      <td>5.26</td>\n      <td>0.66</td>\n      <td>4.60</td>\n      <td>NaN</td>\n    </tr>\n  </tbody>\n</table>\n<p>19300680 rows × 21 columns</p>\n</div>"
          },
          "execution_count": 3,
          "metadata": {},
          "output_type": "execute_result"
        }
      ],
      "source": [
        "#dynamic data file\n",
        "train_data = pd.read_csv(\"./train_timeseries.csv\")\n",
        "train_data"
      ],
      "metadata": {
        "ExecuteTime": {
          "end_time": "2023-10-22T14:00:36.582216900Z",
          "start_time": "2023-10-22T14:00:11.583703100Z"
        },
        "id": "817238f02ad15313",
        "outputId": "58cb140f-a03c-48cb-cab1-623798f0d8d6"
      },
      "id": "817238f02ad15313"
    },
    {
      "cell_type": "code",
      "execution_count": null,
      "outputs": [],
      "source": [
        "train_data = train_data[train_data['date'] <= '2012-12-31']"
      ],
      "metadata": {
        "ExecuteTime": {
          "end_time": "2023-10-22T14:00:38.029009500Z",
          "start_time": "2023-10-22T14:00:36.564219200Z"
        },
        "id": "83fd6ce1c17438cf"
      },
      "id": "83fd6ce1c17438cf"
    },
    {
      "cell_type": "code",
      "execution_count": null,
      "outputs": [],
      "source": [
        "#merge both files\n",
        "result = pd.merge(train_data, data, on='fips', how='inner')"
      ],
      "metadata": {
        "ExecuteTime": {
          "end_time": "2023-10-22T14:00:40.480436400Z",
          "start_time": "2023-10-22T14:00:38.029009500Z"
        },
        "id": "c947ce03310c1e0f"
      },
      "id": "c947ce03310c1e0f"
    },
    {
      "cell_type": "code",
      "execution_count": null,
      "outputs": [
        {
          "data": {
            "text/plain": "           fips        date  PRECTOT      PS   QV2M    T2M  T2MDEW  T2MWET  \\\n0          1001  2000-01-01     0.22  100.51   9.65  14.74   13.51   13.51   \n1          1001  2000-01-02     0.20  100.55  10.42  16.69   14.71   14.71   \n2          1001  2000-01-03     3.65  100.15  11.76  18.49   16.52   16.52   \n3          1001  2000-01-04    15.95  100.29   6.42  11.40    6.09    6.10   \n4          1001  2000-01-05     0.00  101.15   2.95   3.86   -3.29   -3.20   \n...         ...         ...      ...     ...    ...    ...     ...     ...   \n14759887  56043  2012-12-27     1.33   82.23   1.76  -8.43  -11.79  -11.67   \n14759888  56043  2012-12-28     0.08   82.80   1.53  -8.00  -13.29  -13.07   \n14759889  56043  2012-12-29     0.01   82.92   1.29 -10.03  -15.05  -14.77   \n14759890  56043  2012-12-30     0.02   82.83   1.37  -9.48  -14.42  -14.16   \n14759891  56043  2012-12-31     0.01   82.83   1.43 -10.20  -13.99  -13.80   \n\n          T2M_MAX  T2M_MIN  ...  CULTRF_LAND  CULTIR_LAND  CULT_LAND  SQ1  \\\n0           20.96    11.46  ...    56.293411     1.014811  57.308224    1   \n1           22.80    12.61  ...    56.293411     1.014811  57.308224    1   \n2           22.73    15.32  ...    56.293411     1.014811  57.308224    1   \n3           18.09     2.16  ...    56.293411     1.014811  57.308224    1   \n4           10.82    -2.66  ...    56.293411     1.014811  57.308224    1   \n...           ...      ...  ...          ...          ...        ...  ...   \n14759887    -4.52   -10.35  ...     0.000000     0.000000   0.000000    1   \n14759888    -1.95   -11.53  ...     0.000000     0.000000   0.000000    1   \n14759889    -3.07   -15.59  ...     0.000000     0.000000   0.000000    1   \n14759890    -2.66   -13.37  ...     0.000000     0.000000   0.000000    1   \n14759891    -5.31   -13.94  ...     0.000000     0.000000   0.000000    1   \n\n          SQ2  SQ3  SQ4  SQ5  SQ6  SQ7  \n0           1    1    1    1    1    2  \n1           1    1    1    1    1    2  \n2           1    1    1    1    1    2  \n3           1    1    1    1    1    2  \n4           1    1    1    1    1    2  \n...       ...  ...  ...  ...  ...  ...  \n14759887    1    1    1    1    1    1  \n14759888    1    1    1    1    1    1  \n14759889    1    1    1    1    1    1  \n14759890    1    1    1    1    1    1  \n14759891    1    1    1    1    1    1  \n\n[14759892 rows x 52 columns]",
            "text/html": "<div>\n<style scoped>\n    .dataframe tbody tr th:only-of-type {\n        vertical-align: middle;\n    }\n\n    .dataframe tbody tr th {\n        vertical-align: top;\n    }\n\n    .dataframe thead th {\n        text-align: right;\n    }\n</style>\n<table border=\"1\" class=\"dataframe\">\n  <thead>\n    <tr style=\"text-align: right;\">\n      <th></th>\n      <th>fips</th>\n      <th>date</th>\n      <th>PRECTOT</th>\n      <th>PS</th>\n      <th>QV2M</th>\n      <th>T2M</th>\n      <th>T2MDEW</th>\n      <th>T2MWET</th>\n      <th>T2M_MAX</th>\n      <th>T2M_MIN</th>\n      <th>...</th>\n      <th>CULTRF_LAND</th>\n      <th>CULTIR_LAND</th>\n      <th>CULT_LAND</th>\n      <th>SQ1</th>\n      <th>SQ2</th>\n      <th>SQ3</th>\n      <th>SQ4</th>\n      <th>SQ5</th>\n      <th>SQ6</th>\n      <th>SQ7</th>\n    </tr>\n  </thead>\n  <tbody>\n    <tr>\n      <th>0</th>\n      <td>1001</td>\n      <td>2000-01-01</td>\n      <td>0.22</td>\n      <td>100.51</td>\n      <td>9.65</td>\n      <td>14.74</td>\n      <td>13.51</td>\n      <td>13.51</td>\n      <td>20.96</td>\n      <td>11.46</td>\n      <td>...</td>\n      <td>56.293411</td>\n      <td>1.014811</td>\n      <td>57.308224</td>\n      <td>1</td>\n      <td>1</td>\n      <td>1</td>\n      <td>1</td>\n      <td>1</td>\n      <td>1</td>\n      <td>2</td>\n    </tr>\n    <tr>\n      <th>1</th>\n      <td>1001</td>\n      <td>2000-01-02</td>\n      <td>0.20</td>\n      <td>100.55</td>\n      <td>10.42</td>\n      <td>16.69</td>\n      <td>14.71</td>\n      <td>14.71</td>\n      <td>22.80</td>\n      <td>12.61</td>\n      <td>...</td>\n      <td>56.293411</td>\n      <td>1.014811</td>\n      <td>57.308224</td>\n      <td>1</td>\n      <td>1</td>\n      <td>1</td>\n      <td>1</td>\n      <td>1</td>\n      <td>1</td>\n      <td>2</td>\n    </tr>\n    <tr>\n      <th>2</th>\n      <td>1001</td>\n      <td>2000-01-03</td>\n      <td>3.65</td>\n      <td>100.15</td>\n      <td>11.76</td>\n      <td>18.49</td>\n      <td>16.52</td>\n      <td>16.52</td>\n      <td>22.73</td>\n      <td>15.32</td>\n      <td>...</td>\n      <td>56.293411</td>\n      <td>1.014811</td>\n      <td>57.308224</td>\n      <td>1</td>\n      <td>1</td>\n      <td>1</td>\n      <td>1</td>\n      <td>1</td>\n      <td>1</td>\n      <td>2</td>\n    </tr>\n    <tr>\n      <th>3</th>\n      <td>1001</td>\n      <td>2000-01-04</td>\n      <td>15.95</td>\n      <td>100.29</td>\n      <td>6.42</td>\n      <td>11.40</td>\n      <td>6.09</td>\n      <td>6.10</td>\n      <td>18.09</td>\n      <td>2.16</td>\n      <td>...</td>\n      <td>56.293411</td>\n      <td>1.014811</td>\n      <td>57.308224</td>\n      <td>1</td>\n      <td>1</td>\n      <td>1</td>\n      <td>1</td>\n      <td>1</td>\n      <td>1</td>\n      <td>2</td>\n    </tr>\n    <tr>\n      <th>4</th>\n      <td>1001</td>\n      <td>2000-01-05</td>\n      <td>0.00</td>\n      <td>101.15</td>\n      <td>2.95</td>\n      <td>3.86</td>\n      <td>-3.29</td>\n      <td>-3.20</td>\n      <td>10.82</td>\n      <td>-2.66</td>\n      <td>...</td>\n      <td>56.293411</td>\n      <td>1.014811</td>\n      <td>57.308224</td>\n      <td>1</td>\n      <td>1</td>\n      <td>1</td>\n      <td>1</td>\n      <td>1</td>\n      <td>1</td>\n      <td>2</td>\n    </tr>\n    <tr>\n      <th>...</th>\n      <td>...</td>\n      <td>...</td>\n      <td>...</td>\n      <td>...</td>\n      <td>...</td>\n      <td>...</td>\n      <td>...</td>\n      <td>...</td>\n      <td>...</td>\n      <td>...</td>\n      <td>...</td>\n      <td>...</td>\n      <td>...</td>\n      <td>...</td>\n      <td>...</td>\n      <td>...</td>\n      <td>...</td>\n      <td>...</td>\n      <td>...</td>\n      <td>...</td>\n      <td>...</td>\n    </tr>\n    <tr>\n      <th>14759887</th>\n      <td>56043</td>\n      <td>2012-12-27</td>\n      <td>1.33</td>\n      <td>82.23</td>\n      <td>1.76</td>\n      <td>-8.43</td>\n      <td>-11.79</td>\n      <td>-11.67</td>\n      <td>-4.52</td>\n      <td>-10.35</td>\n      <td>...</td>\n      <td>0.000000</td>\n      <td>0.000000</td>\n      <td>0.000000</td>\n      <td>1</td>\n      <td>1</td>\n      <td>1</td>\n      <td>1</td>\n      <td>1</td>\n      <td>1</td>\n      <td>1</td>\n    </tr>\n    <tr>\n      <th>14759888</th>\n      <td>56043</td>\n      <td>2012-12-28</td>\n      <td>0.08</td>\n      <td>82.80</td>\n      <td>1.53</td>\n      <td>-8.00</td>\n      <td>-13.29</td>\n      <td>-13.07</td>\n      <td>-1.95</td>\n      <td>-11.53</td>\n      <td>...</td>\n      <td>0.000000</td>\n      <td>0.000000</td>\n      <td>0.000000</td>\n      <td>1</td>\n      <td>1</td>\n      <td>1</td>\n      <td>1</td>\n      <td>1</td>\n      <td>1</td>\n      <td>1</td>\n    </tr>\n    <tr>\n      <th>14759889</th>\n      <td>56043</td>\n      <td>2012-12-29</td>\n      <td>0.01</td>\n      <td>82.92</td>\n      <td>1.29</td>\n      <td>-10.03</td>\n      <td>-15.05</td>\n      <td>-14.77</td>\n      <td>-3.07</td>\n      <td>-15.59</td>\n      <td>...</td>\n      <td>0.000000</td>\n      <td>0.000000</td>\n      <td>0.000000</td>\n      <td>1</td>\n      <td>1</td>\n      <td>1</td>\n      <td>1</td>\n      <td>1</td>\n      <td>1</td>\n      <td>1</td>\n    </tr>\n    <tr>\n      <th>14759890</th>\n      <td>56043</td>\n      <td>2012-12-30</td>\n      <td>0.02</td>\n      <td>82.83</td>\n      <td>1.37</td>\n      <td>-9.48</td>\n      <td>-14.42</td>\n      <td>-14.16</td>\n      <td>-2.66</td>\n      <td>-13.37</td>\n      <td>...</td>\n      <td>0.000000</td>\n      <td>0.000000</td>\n      <td>0.000000</td>\n      <td>1</td>\n      <td>1</td>\n      <td>1</td>\n      <td>1</td>\n      <td>1</td>\n      <td>1</td>\n      <td>1</td>\n    </tr>\n    <tr>\n      <th>14759891</th>\n      <td>56043</td>\n      <td>2012-12-31</td>\n      <td>0.01</td>\n      <td>82.83</td>\n      <td>1.43</td>\n      <td>-10.20</td>\n      <td>-13.99</td>\n      <td>-13.80</td>\n      <td>-5.31</td>\n      <td>-13.94</td>\n      <td>...</td>\n      <td>0.000000</td>\n      <td>0.000000</td>\n      <td>0.000000</td>\n      <td>1</td>\n      <td>1</td>\n      <td>1</td>\n      <td>1</td>\n      <td>1</td>\n      <td>1</td>\n      <td>1</td>\n    </tr>\n  </tbody>\n</table>\n<p>14759892 rows × 52 columns</p>\n</div>"
          },
          "execution_count": 6,
          "metadata": {},
          "output_type": "execute_result"
        }
      ],
      "source": [
        "result"
      ],
      "metadata": {
        "ExecuteTime": {
          "end_time": "2023-10-22T14:00:43.389440500Z",
          "start_time": "2023-10-22T14:00:40.483436600Z"
        },
        "id": "162d5509dbcf33e",
        "outputId": "d2007216-8879-4934-e63f-5a2931066948"
      },
      "id": "162d5509dbcf33e"
    },
    {
      "cell_type": "code",
      "execution_count": null,
      "outputs": [],
      "source": [
        "result =  result.drop(['score'], axis=1) #drop main target column"
      ],
      "metadata": {
        "ExecuteTime": {
          "end_time": "2023-10-22T14:00:45.078436900Z",
          "start_time": "2023-10-22T14:00:43.416438Z"
        },
        "id": "db19f4753c50c3f8"
      },
      "id": "db19f4753c50c3f8"
    },
    {
      "cell_type": "code",
      "execution_count": null,
      "outputs": [],
      "source": [
        "#split into train, validation, test\n",
        "train = result[(result['date'] >= '2000-01-01') & (result['date'] <= '2008-12-31')]\n",
        "validation = result[(result['date'] >= '2009-01-01') & (result['date'] <= '2010-12-31')]\n",
        "test = result[(result['date'] >= '2011-01-01') & (result['date'] <= '2012-12-31')]"
      ],
      "metadata": {
        "ExecuteTime": {
          "end_time": "2023-10-22T14:00:50.605436100Z",
          "start_time": "2023-10-22T14:00:45.066440800Z"
        },
        "id": "f44bdb7647494111"
      },
      "id": "f44bdb7647494111"
    },
    {
      "cell_type": "code",
      "execution_count": null,
      "outputs": [
        {
          "data": {
            "text/plain": "           fips        date  PRECTOT      PS   QV2M    T2M  T2MDEW  T2MWET  \\\n0          1001  2000-01-01     0.22  100.51   9.65  14.74   13.51   13.51   \n1          1001  2000-01-02     0.20  100.55  10.42  16.69   14.71   14.71   \n2          1001  2000-01-03     3.65  100.15  11.76  18.49   16.52   16.52   \n3          1001  2000-01-04    15.95  100.29   6.42  11.40    6.09    6.10   \n4          1001  2000-01-05     0.00  101.15   2.95   3.86   -3.29   -3.20   \n...         ...         ...      ...     ...    ...    ...     ...     ...   \n14758426  56043  2008-12-27     0.70   82.31   1.47 -10.39  -14.50  -14.23   \n14758427  56043  2008-12-28     0.28   82.80   2.66  -4.52   -7.41   -7.37   \n14758428  56043  2008-12-29     0.36   82.77   3.35  -1.00   -4.38   -4.36   \n14758429  56043  2008-12-30     1.08   83.28   1.71  -4.75  -12.42  -12.11   \n14758430  56043  2008-12-31     0.54   82.59   2.39  -4.34   -8.95   -8.85   \n\n          T2M_MAX  T2M_MIN  ...  CULTRF_LAND  CULTIR_LAND  CULT_LAND  SQ1  \\\n0           20.96    11.46  ...    56.293411     1.014811  57.308224    1   \n1           22.80    12.61  ...    56.293411     1.014811  57.308224    1   \n2           22.73    15.32  ...    56.293411     1.014811  57.308224    1   \n3           18.09     2.16  ...    56.293411     1.014811  57.308224    1   \n4           10.82    -2.66  ...    56.293411     1.014811  57.308224    1   \n...           ...      ...  ...          ...          ...        ...  ...   \n14758426    -2.84   -16.79  ...     0.000000     0.000000   0.000000    1   \n14758427     2.14    -9.60  ...     0.000000     0.000000   0.000000    1   \n14758428     4.18    -5.80  ...     0.000000     0.000000   0.000000    1   \n14758429     2.01   -10.46  ...     0.000000     0.000000   0.000000    1   \n14758430     3.43   -11.35  ...     0.000000     0.000000   0.000000    1   \n\n          SQ2  SQ3  SQ4  SQ5  SQ6  SQ7  \n0           1    1    1    1    1    2  \n1           1    1    1    1    1    2  \n2           1    1    1    1    1    2  \n3           1    1    1    1    1    2  \n4           1    1    1    1    1    2  \n...       ...  ...  ...  ...  ...  ...  \n14758426    1    1    1    1    1    1  \n14758427    1    1    1    1    1    1  \n14758428    1    1    1    1    1    1  \n14758429    1    1    1    1    1    1  \n14758430    1    1    1    1    1    1  \n\n[10219104 rows x 51 columns]",
            "text/html": "<div>\n<style scoped>\n    .dataframe tbody tr th:only-of-type {\n        vertical-align: middle;\n    }\n\n    .dataframe tbody tr th {\n        vertical-align: top;\n    }\n\n    .dataframe thead th {\n        text-align: right;\n    }\n</style>\n<table border=\"1\" class=\"dataframe\">\n  <thead>\n    <tr style=\"text-align: right;\">\n      <th></th>\n      <th>fips</th>\n      <th>date</th>\n      <th>PRECTOT</th>\n      <th>PS</th>\n      <th>QV2M</th>\n      <th>T2M</th>\n      <th>T2MDEW</th>\n      <th>T2MWET</th>\n      <th>T2M_MAX</th>\n      <th>T2M_MIN</th>\n      <th>...</th>\n      <th>CULTRF_LAND</th>\n      <th>CULTIR_LAND</th>\n      <th>CULT_LAND</th>\n      <th>SQ1</th>\n      <th>SQ2</th>\n      <th>SQ3</th>\n      <th>SQ4</th>\n      <th>SQ5</th>\n      <th>SQ6</th>\n      <th>SQ7</th>\n    </tr>\n  </thead>\n  <tbody>\n    <tr>\n      <th>0</th>\n      <td>1001</td>\n      <td>2000-01-01</td>\n      <td>0.22</td>\n      <td>100.51</td>\n      <td>9.65</td>\n      <td>14.74</td>\n      <td>13.51</td>\n      <td>13.51</td>\n      <td>20.96</td>\n      <td>11.46</td>\n      <td>...</td>\n      <td>56.293411</td>\n      <td>1.014811</td>\n      <td>57.308224</td>\n      <td>1</td>\n      <td>1</td>\n      <td>1</td>\n      <td>1</td>\n      <td>1</td>\n      <td>1</td>\n      <td>2</td>\n    </tr>\n    <tr>\n      <th>1</th>\n      <td>1001</td>\n      <td>2000-01-02</td>\n      <td>0.20</td>\n      <td>100.55</td>\n      <td>10.42</td>\n      <td>16.69</td>\n      <td>14.71</td>\n      <td>14.71</td>\n      <td>22.80</td>\n      <td>12.61</td>\n      <td>...</td>\n      <td>56.293411</td>\n      <td>1.014811</td>\n      <td>57.308224</td>\n      <td>1</td>\n      <td>1</td>\n      <td>1</td>\n      <td>1</td>\n      <td>1</td>\n      <td>1</td>\n      <td>2</td>\n    </tr>\n    <tr>\n      <th>2</th>\n      <td>1001</td>\n      <td>2000-01-03</td>\n      <td>3.65</td>\n      <td>100.15</td>\n      <td>11.76</td>\n      <td>18.49</td>\n      <td>16.52</td>\n      <td>16.52</td>\n      <td>22.73</td>\n      <td>15.32</td>\n      <td>...</td>\n      <td>56.293411</td>\n      <td>1.014811</td>\n      <td>57.308224</td>\n      <td>1</td>\n      <td>1</td>\n      <td>1</td>\n      <td>1</td>\n      <td>1</td>\n      <td>1</td>\n      <td>2</td>\n    </tr>\n    <tr>\n      <th>3</th>\n      <td>1001</td>\n      <td>2000-01-04</td>\n      <td>15.95</td>\n      <td>100.29</td>\n      <td>6.42</td>\n      <td>11.40</td>\n      <td>6.09</td>\n      <td>6.10</td>\n      <td>18.09</td>\n      <td>2.16</td>\n      <td>...</td>\n      <td>56.293411</td>\n      <td>1.014811</td>\n      <td>57.308224</td>\n      <td>1</td>\n      <td>1</td>\n      <td>1</td>\n      <td>1</td>\n      <td>1</td>\n      <td>1</td>\n      <td>2</td>\n    </tr>\n    <tr>\n      <th>4</th>\n      <td>1001</td>\n      <td>2000-01-05</td>\n      <td>0.00</td>\n      <td>101.15</td>\n      <td>2.95</td>\n      <td>3.86</td>\n      <td>-3.29</td>\n      <td>-3.20</td>\n      <td>10.82</td>\n      <td>-2.66</td>\n      <td>...</td>\n      <td>56.293411</td>\n      <td>1.014811</td>\n      <td>57.308224</td>\n      <td>1</td>\n      <td>1</td>\n      <td>1</td>\n      <td>1</td>\n      <td>1</td>\n      <td>1</td>\n      <td>2</td>\n    </tr>\n    <tr>\n      <th>...</th>\n      <td>...</td>\n      <td>...</td>\n      <td>...</td>\n      <td>...</td>\n      <td>...</td>\n      <td>...</td>\n      <td>...</td>\n      <td>...</td>\n      <td>...</td>\n      <td>...</td>\n      <td>...</td>\n      <td>...</td>\n      <td>...</td>\n      <td>...</td>\n      <td>...</td>\n      <td>...</td>\n      <td>...</td>\n      <td>...</td>\n      <td>...</td>\n      <td>...</td>\n      <td>...</td>\n    </tr>\n    <tr>\n      <th>14758426</th>\n      <td>56043</td>\n      <td>2008-12-27</td>\n      <td>0.70</td>\n      <td>82.31</td>\n      <td>1.47</td>\n      <td>-10.39</td>\n      <td>-14.50</td>\n      <td>-14.23</td>\n      <td>-2.84</td>\n      <td>-16.79</td>\n      <td>...</td>\n      <td>0.000000</td>\n      <td>0.000000</td>\n      <td>0.000000</td>\n      <td>1</td>\n      <td>1</td>\n      <td>1</td>\n      <td>1</td>\n      <td>1</td>\n      <td>1</td>\n      <td>1</td>\n    </tr>\n    <tr>\n      <th>14758427</th>\n      <td>56043</td>\n      <td>2008-12-28</td>\n      <td>0.28</td>\n      <td>82.80</td>\n      <td>2.66</td>\n      <td>-4.52</td>\n      <td>-7.41</td>\n      <td>-7.37</td>\n      <td>2.14</td>\n      <td>-9.60</td>\n      <td>...</td>\n      <td>0.000000</td>\n      <td>0.000000</td>\n      <td>0.000000</td>\n      <td>1</td>\n      <td>1</td>\n      <td>1</td>\n      <td>1</td>\n      <td>1</td>\n      <td>1</td>\n      <td>1</td>\n    </tr>\n    <tr>\n      <th>14758428</th>\n      <td>56043</td>\n      <td>2008-12-29</td>\n      <td>0.36</td>\n      <td>82.77</td>\n      <td>3.35</td>\n      <td>-1.00</td>\n      <td>-4.38</td>\n      <td>-4.36</td>\n      <td>4.18</td>\n      <td>-5.80</td>\n      <td>...</td>\n      <td>0.000000</td>\n      <td>0.000000</td>\n      <td>0.000000</td>\n      <td>1</td>\n      <td>1</td>\n      <td>1</td>\n      <td>1</td>\n      <td>1</td>\n      <td>1</td>\n      <td>1</td>\n    </tr>\n    <tr>\n      <th>14758429</th>\n      <td>56043</td>\n      <td>2008-12-30</td>\n      <td>1.08</td>\n      <td>83.28</td>\n      <td>1.71</td>\n      <td>-4.75</td>\n      <td>-12.42</td>\n      <td>-12.11</td>\n      <td>2.01</td>\n      <td>-10.46</td>\n      <td>...</td>\n      <td>0.000000</td>\n      <td>0.000000</td>\n      <td>0.000000</td>\n      <td>1</td>\n      <td>1</td>\n      <td>1</td>\n      <td>1</td>\n      <td>1</td>\n      <td>1</td>\n      <td>1</td>\n    </tr>\n    <tr>\n      <th>14758430</th>\n      <td>56043</td>\n      <td>2008-12-31</td>\n      <td>0.54</td>\n      <td>82.59</td>\n      <td>2.39</td>\n      <td>-4.34</td>\n      <td>-8.95</td>\n      <td>-8.85</td>\n      <td>3.43</td>\n      <td>-11.35</td>\n      <td>...</td>\n      <td>0.000000</td>\n      <td>0.000000</td>\n      <td>0.000000</td>\n      <td>1</td>\n      <td>1</td>\n      <td>1</td>\n      <td>1</td>\n      <td>1</td>\n      <td>1</td>\n      <td>1</td>\n    </tr>\n  </tbody>\n</table>\n<p>10219104 rows × 51 columns</p>\n</div>"
          },
          "execution_count": 9,
          "metadata": {},
          "output_type": "execute_result"
        }
      ],
      "source": [
        "train"
      ],
      "metadata": {
        "ExecuteTime": {
          "end_time": "2023-10-22T14:00:53.887184Z",
          "start_time": "2023-10-22T14:00:50.606436Z"
        },
        "id": "83e527493aff8442",
        "outputId": "f9c79882-cce2-4f05-f935-2150e161fd16"
      },
      "id": "83e527493aff8442"
    },
    {
      "cell_type": "code",
      "execution_count": null,
      "outputs": [
        {
          "data": {
            "text/plain": "           fips        date  PRECTOT      PS   QV2M    T2M  T2MDEW  T2MWET  \\\n3288       1001  2009-01-01     0.01  100.69   3.66   3.63   -0.75   -0.72   \n3289       1001  2009-01-02     2.71  100.15   7.29   9.71    8.96    8.96   \n3290       1001  2009-01-03     9.09  100.12  10.66  15.36   14.91   14.91   \n3291       1001  2009-01-04     6.31  100.37  10.56  15.55   14.88   14.88   \n3292       1001  2009-01-05    18.56  100.17  11.01  16.24   15.44   15.44   \n...         ...         ...      ...     ...    ...    ...     ...     ...   \n14759156  56043  2010-12-27     0.00   83.02   1.95  -4.33  -10.64  -10.47   \n14759157  56043  2010-12-28     0.03   82.35   2.08  -5.43  -10.13  -10.01   \n14759158  56043  2010-12-29     1.26   80.57   2.93  -1.48   -6.29   -6.24   \n14759159  56043  2010-12-30     3.67   81.43   1.15 -12.76  -16.88  -16.48   \n14759160  56043  2010-12-31     0.77   82.17   0.73 -17.55  -20.74  -20.21   \n\n          T2M_MAX  T2M_MIN  ...  CULTRF_LAND  CULTIR_LAND  CULT_LAND  SQ1  \\\n3288        11.42    -3.64  ...    56.293411     1.014811  57.308224    1   \n3289        13.03     5.97  ...    56.293411     1.014811  57.308224    1   \n3290        19.45    11.91  ...    56.293411     1.014811  57.308224    1   \n3291        19.34    13.36  ...    56.293411     1.014811  57.308224    1   \n3292        19.49    12.75  ...    56.293411     1.014811  57.308224    1   \n...           ...      ...  ...          ...          ...        ...  ...   \n14759156     2.10    -8.03  ...     0.000000     0.000000   0.000000    1   \n14759157     1.07   -10.15  ...     0.000000     0.000000   0.000000    1   \n14759158     3.36    -5.36  ...     0.000000     0.000000   0.000000    1   \n14759159    -6.34   -17.29  ...     0.000000     0.000000   0.000000    1   \n14759160   -15.81   -18.97  ...     0.000000     0.000000   0.000000    1   \n\n          SQ2  SQ3  SQ4  SQ5  SQ6  SQ7  \n3288        1    1    1    1    1    2  \n3289        1    1    1    1    1    2  \n3290        1    1    1    1    1    2  \n3291        1    1    1    1    1    2  \n3292        1    1    1    1    1    2  \n...       ...  ...  ...  ...  ...  ...  \n14759156    1    1    1    1    1    1  \n14759157    1    1    1    1    1    1  \n14759158    1    1    1    1    1    1  \n14759159    1    1    1    1    1    1  \n14759160    1    1    1    1    1    1  \n\n[2268840 rows x 51 columns]",
            "text/html": "<div>\n<style scoped>\n    .dataframe tbody tr th:only-of-type {\n        vertical-align: middle;\n    }\n\n    .dataframe tbody tr th {\n        vertical-align: top;\n    }\n\n    .dataframe thead th {\n        text-align: right;\n    }\n</style>\n<table border=\"1\" class=\"dataframe\">\n  <thead>\n    <tr style=\"text-align: right;\">\n      <th></th>\n      <th>fips</th>\n      <th>date</th>\n      <th>PRECTOT</th>\n      <th>PS</th>\n      <th>QV2M</th>\n      <th>T2M</th>\n      <th>T2MDEW</th>\n      <th>T2MWET</th>\n      <th>T2M_MAX</th>\n      <th>T2M_MIN</th>\n      <th>...</th>\n      <th>CULTRF_LAND</th>\n      <th>CULTIR_LAND</th>\n      <th>CULT_LAND</th>\n      <th>SQ1</th>\n      <th>SQ2</th>\n      <th>SQ3</th>\n      <th>SQ4</th>\n      <th>SQ5</th>\n      <th>SQ6</th>\n      <th>SQ7</th>\n    </tr>\n  </thead>\n  <tbody>\n    <tr>\n      <th>3288</th>\n      <td>1001</td>\n      <td>2009-01-01</td>\n      <td>0.01</td>\n      <td>100.69</td>\n      <td>3.66</td>\n      <td>3.63</td>\n      <td>-0.75</td>\n      <td>-0.72</td>\n      <td>11.42</td>\n      <td>-3.64</td>\n      <td>...</td>\n      <td>56.293411</td>\n      <td>1.014811</td>\n      <td>57.308224</td>\n      <td>1</td>\n      <td>1</td>\n      <td>1</td>\n      <td>1</td>\n      <td>1</td>\n      <td>1</td>\n      <td>2</td>\n    </tr>\n    <tr>\n      <th>3289</th>\n      <td>1001</td>\n      <td>2009-01-02</td>\n      <td>2.71</td>\n      <td>100.15</td>\n      <td>7.29</td>\n      <td>9.71</td>\n      <td>8.96</td>\n      <td>8.96</td>\n      <td>13.03</td>\n      <td>5.97</td>\n      <td>...</td>\n      <td>56.293411</td>\n      <td>1.014811</td>\n      <td>57.308224</td>\n      <td>1</td>\n      <td>1</td>\n      <td>1</td>\n      <td>1</td>\n      <td>1</td>\n      <td>1</td>\n      <td>2</td>\n    </tr>\n    <tr>\n      <th>3290</th>\n      <td>1001</td>\n      <td>2009-01-03</td>\n      <td>9.09</td>\n      <td>100.12</td>\n      <td>10.66</td>\n      <td>15.36</td>\n      <td>14.91</td>\n      <td>14.91</td>\n      <td>19.45</td>\n      <td>11.91</td>\n      <td>...</td>\n      <td>56.293411</td>\n      <td>1.014811</td>\n      <td>57.308224</td>\n      <td>1</td>\n      <td>1</td>\n      <td>1</td>\n      <td>1</td>\n      <td>1</td>\n      <td>1</td>\n      <td>2</td>\n    </tr>\n    <tr>\n      <th>3291</th>\n      <td>1001</td>\n      <td>2009-01-04</td>\n      <td>6.31</td>\n      <td>100.37</td>\n      <td>10.56</td>\n      <td>15.55</td>\n      <td>14.88</td>\n      <td>14.88</td>\n      <td>19.34</td>\n      <td>13.36</td>\n      <td>...</td>\n      <td>56.293411</td>\n      <td>1.014811</td>\n      <td>57.308224</td>\n      <td>1</td>\n      <td>1</td>\n      <td>1</td>\n      <td>1</td>\n      <td>1</td>\n      <td>1</td>\n      <td>2</td>\n    </tr>\n    <tr>\n      <th>3292</th>\n      <td>1001</td>\n      <td>2009-01-05</td>\n      <td>18.56</td>\n      <td>100.17</td>\n      <td>11.01</td>\n      <td>16.24</td>\n      <td>15.44</td>\n      <td>15.44</td>\n      <td>19.49</td>\n      <td>12.75</td>\n      <td>...</td>\n      <td>56.293411</td>\n      <td>1.014811</td>\n      <td>57.308224</td>\n      <td>1</td>\n      <td>1</td>\n      <td>1</td>\n      <td>1</td>\n      <td>1</td>\n      <td>1</td>\n      <td>2</td>\n    </tr>\n    <tr>\n      <th>...</th>\n      <td>...</td>\n      <td>...</td>\n      <td>...</td>\n      <td>...</td>\n      <td>...</td>\n      <td>...</td>\n      <td>...</td>\n      <td>...</td>\n      <td>...</td>\n      <td>...</td>\n      <td>...</td>\n      <td>...</td>\n      <td>...</td>\n      <td>...</td>\n      <td>...</td>\n      <td>...</td>\n      <td>...</td>\n      <td>...</td>\n      <td>...</td>\n      <td>...</td>\n      <td>...</td>\n    </tr>\n    <tr>\n      <th>14759156</th>\n      <td>56043</td>\n      <td>2010-12-27</td>\n      <td>0.00</td>\n      <td>83.02</td>\n      <td>1.95</td>\n      <td>-4.33</td>\n      <td>-10.64</td>\n      <td>-10.47</td>\n      <td>2.10</td>\n      <td>-8.03</td>\n      <td>...</td>\n      <td>0.000000</td>\n      <td>0.000000</td>\n      <td>0.000000</td>\n      <td>1</td>\n      <td>1</td>\n      <td>1</td>\n      <td>1</td>\n      <td>1</td>\n      <td>1</td>\n      <td>1</td>\n    </tr>\n    <tr>\n      <th>14759157</th>\n      <td>56043</td>\n      <td>2010-12-28</td>\n      <td>0.03</td>\n      <td>82.35</td>\n      <td>2.08</td>\n      <td>-5.43</td>\n      <td>-10.13</td>\n      <td>-10.01</td>\n      <td>1.07</td>\n      <td>-10.15</td>\n      <td>...</td>\n      <td>0.000000</td>\n      <td>0.000000</td>\n      <td>0.000000</td>\n      <td>1</td>\n      <td>1</td>\n      <td>1</td>\n      <td>1</td>\n      <td>1</td>\n      <td>1</td>\n      <td>1</td>\n    </tr>\n    <tr>\n      <th>14759158</th>\n      <td>56043</td>\n      <td>2010-12-29</td>\n      <td>1.26</td>\n      <td>80.57</td>\n      <td>2.93</td>\n      <td>-1.48</td>\n      <td>-6.29</td>\n      <td>-6.24</td>\n      <td>3.36</td>\n      <td>-5.36</td>\n      <td>...</td>\n      <td>0.000000</td>\n      <td>0.000000</td>\n      <td>0.000000</td>\n      <td>1</td>\n      <td>1</td>\n      <td>1</td>\n      <td>1</td>\n      <td>1</td>\n      <td>1</td>\n      <td>1</td>\n    </tr>\n    <tr>\n      <th>14759159</th>\n      <td>56043</td>\n      <td>2010-12-30</td>\n      <td>3.67</td>\n      <td>81.43</td>\n      <td>1.15</td>\n      <td>-12.76</td>\n      <td>-16.88</td>\n      <td>-16.48</td>\n      <td>-6.34</td>\n      <td>-17.29</td>\n      <td>...</td>\n      <td>0.000000</td>\n      <td>0.000000</td>\n      <td>0.000000</td>\n      <td>1</td>\n      <td>1</td>\n      <td>1</td>\n      <td>1</td>\n      <td>1</td>\n      <td>1</td>\n      <td>1</td>\n    </tr>\n    <tr>\n      <th>14759160</th>\n      <td>56043</td>\n      <td>2010-12-31</td>\n      <td>0.77</td>\n      <td>82.17</td>\n      <td>0.73</td>\n      <td>-17.55</td>\n      <td>-20.74</td>\n      <td>-20.21</td>\n      <td>-15.81</td>\n      <td>-18.97</td>\n      <td>...</td>\n      <td>0.000000</td>\n      <td>0.000000</td>\n      <td>0.000000</td>\n      <td>1</td>\n      <td>1</td>\n      <td>1</td>\n      <td>1</td>\n      <td>1</td>\n      <td>1</td>\n      <td>1</td>\n    </tr>\n  </tbody>\n</table>\n<p>2268840 rows × 51 columns</p>\n</div>"
          },
          "execution_count": 10,
          "metadata": {},
          "output_type": "execute_result"
        }
      ],
      "source": [
        "validation"
      ],
      "metadata": {
        "ExecuteTime": {
          "end_time": "2023-10-22T14:00:54.422182300Z",
          "start_time": "2023-10-22T14:00:53.902182100Z"
        },
        "id": "3aa87bc67b9f4e9d",
        "outputId": "163a4af4-b997-40e8-c55c-1cbde68befc1"
      },
      "id": "3aa87bc67b9f4e9d"
    },
    {
      "cell_type": "code",
      "execution_count": null,
      "outputs": [
        {
          "data": {
            "text/plain": "           fips        date  PRECTOT      PS  QV2M    T2M  T2MDEW  T2MWET  \\\n4018       1001  2011-01-01    40.22  100.10  8.99  13.17   12.08   12.08   \n4019       1001  2011-01-02     0.02  100.85  3.34   3.48   -2.08   -2.01   \n4020       1001  2011-01-03     0.00  100.93  2.60   2.19   -5.02   -4.91   \n4021       1001  2011-01-04     0.05  100.53  3.67   6.28   -0.59   -0.55   \n4022       1001  2011-01-05     4.24   99.86  5.88   6.97    5.78    5.79   \n...         ...         ...      ...     ...   ...    ...     ...     ...   \n14759887  56043  2012-12-27     1.33   82.23  1.76  -8.43  -11.79  -11.67   \n14759888  56043  2012-12-28     0.08   82.80  1.53  -8.00  -13.29  -13.07   \n14759889  56043  2012-12-29     0.01   82.92  1.29 -10.03  -15.05  -14.77   \n14759890  56043  2012-12-30     0.02   82.83  1.37  -9.48  -14.42  -14.16   \n14759891  56043  2012-12-31     0.01   82.83  1.43 -10.20  -13.99  -13.80   \n\n          T2M_MAX  T2M_MIN  ...  CULTRF_LAND  CULTIR_LAND  CULT_LAND  SQ1  \\\n4018        17.51     7.61  ...    56.293411     1.014811  57.308224    1   \n4019         8.69    -3.74  ...    56.293411     1.014811  57.308224    1   \n4020        10.40    -6.08  ...    56.293411     1.014811  57.308224    1   \n4021        13.98     0.18  ...    56.293411     1.014811  57.308224    1   \n4022        10.42     2.27  ...    56.293411     1.014811  57.308224    1   \n...           ...      ...  ...          ...          ...        ...  ...   \n14759887    -4.52   -10.35  ...     0.000000     0.000000   0.000000    1   \n14759888    -1.95   -11.53  ...     0.000000     0.000000   0.000000    1   \n14759889    -3.07   -15.59  ...     0.000000     0.000000   0.000000    1   \n14759890    -2.66   -13.37  ...     0.000000     0.000000   0.000000    1   \n14759891    -5.31   -13.94  ...     0.000000     0.000000   0.000000    1   \n\n          SQ2  SQ3  SQ4  SQ5  SQ6  SQ7  \n4018        1    1    1    1    1    2  \n4019        1    1    1    1    1    2  \n4020        1    1    1    1    1    2  \n4021        1    1    1    1    1    2  \n4022        1    1    1    1    1    2  \n...       ...  ...  ...  ...  ...  ...  \n14759887    1    1    1    1    1    1  \n14759888    1    1    1    1    1    1  \n14759889    1    1    1    1    1    1  \n14759890    1    1    1    1    1    1  \n14759891    1    1    1    1    1    1  \n\n[2271948 rows x 51 columns]",
            "text/html": "<div>\n<style scoped>\n    .dataframe tbody tr th:only-of-type {\n        vertical-align: middle;\n    }\n\n    .dataframe tbody tr th {\n        vertical-align: top;\n    }\n\n    .dataframe thead th {\n        text-align: right;\n    }\n</style>\n<table border=\"1\" class=\"dataframe\">\n  <thead>\n    <tr style=\"text-align: right;\">\n      <th></th>\n      <th>fips</th>\n      <th>date</th>\n      <th>PRECTOT</th>\n      <th>PS</th>\n      <th>QV2M</th>\n      <th>T2M</th>\n      <th>T2MDEW</th>\n      <th>T2MWET</th>\n      <th>T2M_MAX</th>\n      <th>T2M_MIN</th>\n      <th>...</th>\n      <th>CULTRF_LAND</th>\n      <th>CULTIR_LAND</th>\n      <th>CULT_LAND</th>\n      <th>SQ1</th>\n      <th>SQ2</th>\n      <th>SQ3</th>\n      <th>SQ4</th>\n      <th>SQ5</th>\n      <th>SQ6</th>\n      <th>SQ7</th>\n    </tr>\n  </thead>\n  <tbody>\n    <tr>\n      <th>4018</th>\n      <td>1001</td>\n      <td>2011-01-01</td>\n      <td>40.22</td>\n      <td>100.10</td>\n      <td>8.99</td>\n      <td>13.17</td>\n      <td>12.08</td>\n      <td>12.08</td>\n      <td>17.51</td>\n      <td>7.61</td>\n      <td>...</td>\n      <td>56.293411</td>\n      <td>1.014811</td>\n      <td>57.308224</td>\n      <td>1</td>\n      <td>1</td>\n      <td>1</td>\n      <td>1</td>\n      <td>1</td>\n      <td>1</td>\n      <td>2</td>\n    </tr>\n    <tr>\n      <th>4019</th>\n      <td>1001</td>\n      <td>2011-01-02</td>\n      <td>0.02</td>\n      <td>100.85</td>\n      <td>3.34</td>\n      <td>3.48</td>\n      <td>-2.08</td>\n      <td>-2.01</td>\n      <td>8.69</td>\n      <td>-3.74</td>\n      <td>...</td>\n      <td>56.293411</td>\n      <td>1.014811</td>\n      <td>57.308224</td>\n      <td>1</td>\n      <td>1</td>\n      <td>1</td>\n      <td>1</td>\n      <td>1</td>\n      <td>1</td>\n      <td>2</td>\n    </tr>\n    <tr>\n      <th>4020</th>\n      <td>1001</td>\n      <td>2011-01-03</td>\n      <td>0.00</td>\n      <td>100.93</td>\n      <td>2.60</td>\n      <td>2.19</td>\n      <td>-5.02</td>\n      <td>-4.91</td>\n      <td>10.40</td>\n      <td>-6.08</td>\n      <td>...</td>\n      <td>56.293411</td>\n      <td>1.014811</td>\n      <td>57.308224</td>\n      <td>1</td>\n      <td>1</td>\n      <td>1</td>\n      <td>1</td>\n      <td>1</td>\n      <td>1</td>\n      <td>2</td>\n    </tr>\n    <tr>\n      <th>4021</th>\n      <td>1001</td>\n      <td>2011-01-04</td>\n      <td>0.05</td>\n      <td>100.53</td>\n      <td>3.67</td>\n      <td>6.28</td>\n      <td>-0.59</td>\n      <td>-0.55</td>\n      <td>13.98</td>\n      <td>0.18</td>\n      <td>...</td>\n      <td>56.293411</td>\n      <td>1.014811</td>\n      <td>57.308224</td>\n      <td>1</td>\n      <td>1</td>\n      <td>1</td>\n      <td>1</td>\n      <td>1</td>\n      <td>1</td>\n      <td>2</td>\n    </tr>\n    <tr>\n      <th>4022</th>\n      <td>1001</td>\n      <td>2011-01-05</td>\n      <td>4.24</td>\n      <td>99.86</td>\n      <td>5.88</td>\n      <td>6.97</td>\n      <td>5.78</td>\n      <td>5.79</td>\n      <td>10.42</td>\n      <td>2.27</td>\n      <td>...</td>\n      <td>56.293411</td>\n      <td>1.014811</td>\n      <td>57.308224</td>\n      <td>1</td>\n      <td>1</td>\n      <td>1</td>\n      <td>1</td>\n      <td>1</td>\n      <td>1</td>\n      <td>2</td>\n    </tr>\n    <tr>\n      <th>...</th>\n      <td>...</td>\n      <td>...</td>\n      <td>...</td>\n      <td>...</td>\n      <td>...</td>\n      <td>...</td>\n      <td>...</td>\n      <td>...</td>\n      <td>...</td>\n      <td>...</td>\n      <td>...</td>\n      <td>...</td>\n      <td>...</td>\n      <td>...</td>\n      <td>...</td>\n      <td>...</td>\n      <td>...</td>\n      <td>...</td>\n      <td>...</td>\n      <td>...</td>\n      <td>...</td>\n    </tr>\n    <tr>\n      <th>14759887</th>\n      <td>56043</td>\n      <td>2012-12-27</td>\n      <td>1.33</td>\n      <td>82.23</td>\n      <td>1.76</td>\n      <td>-8.43</td>\n      <td>-11.79</td>\n      <td>-11.67</td>\n      <td>-4.52</td>\n      <td>-10.35</td>\n      <td>...</td>\n      <td>0.000000</td>\n      <td>0.000000</td>\n      <td>0.000000</td>\n      <td>1</td>\n      <td>1</td>\n      <td>1</td>\n      <td>1</td>\n      <td>1</td>\n      <td>1</td>\n      <td>1</td>\n    </tr>\n    <tr>\n      <th>14759888</th>\n      <td>56043</td>\n      <td>2012-12-28</td>\n      <td>0.08</td>\n      <td>82.80</td>\n      <td>1.53</td>\n      <td>-8.00</td>\n      <td>-13.29</td>\n      <td>-13.07</td>\n      <td>-1.95</td>\n      <td>-11.53</td>\n      <td>...</td>\n      <td>0.000000</td>\n      <td>0.000000</td>\n      <td>0.000000</td>\n      <td>1</td>\n      <td>1</td>\n      <td>1</td>\n      <td>1</td>\n      <td>1</td>\n      <td>1</td>\n      <td>1</td>\n    </tr>\n    <tr>\n      <th>14759889</th>\n      <td>56043</td>\n      <td>2012-12-29</td>\n      <td>0.01</td>\n      <td>82.92</td>\n      <td>1.29</td>\n      <td>-10.03</td>\n      <td>-15.05</td>\n      <td>-14.77</td>\n      <td>-3.07</td>\n      <td>-15.59</td>\n      <td>...</td>\n      <td>0.000000</td>\n      <td>0.000000</td>\n      <td>0.000000</td>\n      <td>1</td>\n      <td>1</td>\n      <td>1</td>\n      <td>1</td>\n      <td>1</td>\n      <td>1</td>\n      <td>1</td>\n    </tr>\n    <tr>\n      <th>14759890</th>\n      <td>56043</td>\n      <td>2012-12-30</td>\n      <td>0.02</td>\n      <td>82.83</td>\n      <td>1.37</td>\n      <td>-9.48</td>\n      <td>-14.42</td>\n      <td>-14.16</td>\n      <td>-2.66</td>\n      <td>-13.37</td>\n      <td>...</td>\n      <td>0.000000</td>\n      <td>0.000000</td>\n      <td>0.000000</td>\n      <td>1</td>\n      <td>1</td>\n      <td>1</td>\n      <td>1</td>\n      <td>1</td>\n      <td>1</td>\n      <td>1</td>\n    </tr>\n    <tr>\n      <th>14759891</th>\n      <td>56043</td>\n      <td>2012-12-31</td>\n      <td>0.01</td>\n      <td>82.83</td>\n      <td>1.43</td>\n      <td>-10.20</td>\n      <td>-13.99</td>\n      <td>-13.80</td>\n      <td>-5.31</td>\n      <td>-13.94</td>\n      <td>...</td>\n      <td>0.000000</td>\n      <td>0.000000</td>\n      <td>0.000000</td>\n      <td>1</td>\n      <td>1</td>\n      <td>1</td>\n      <td>1</td>\n      <td>1</td>\n      <td>1</td>\n      <td>1</td>\n    </tr>\n  </tbody>\n</table>\n<p>2271948 rows × 51 columns</p>\n</div>"
          },
          "execution_count": 11,
          "metadata": {},
          "output_type": "execute_result"
        }
      ],
      "source": [
        "test"
      ],
      "metadata": {
        "ExecuteTime": {
          "end_time": "2023-10-22T14:00:54.872180600Z",
          "start_time": "2023-10-22T14:00:54.408182200Z"
        },
        "id": "2432adbf4e563bbc",
        "outputId": "509a9fb9-9712-4f8b-9266-8fad5e4c0259"
      },
      "id": "2432adbf4e563bbc"
    },
    {
      "cell_type": "code",
      "execution_count": null,
      "outputs": [],
      "source": [
        "train = train.reset_index(drop=True)\n",
        "validation = validation.reset_index(drop=True)\n",
        "test = test.reset_index(drop=True)"
      ],
      "metadata": {
        "ExecuteTime": {
          "end_time": "2023-10-22T14:01:08.241181600Z",
          "start_time": "2023-10-22T14:00:54.830183Z"
        },
        "id": "3110c2e5fa9a2c44"
      },
      "id": "3110c2e5fa9a2c44"
    },
    {
      "cell_type": "code",
      "execution_count": null,
      "outputs": [
        {
          "data": {
            "text/plain": "           fips  PRECTOT      PS   QV2M    T2M  T2MDEW  T2MWET  T2M_MAX  \\\n0          1001     0.22  100.51   9.65  14.74   13.51   13.51    20.96   \n1          1001     0.20  100.55  10.42  16.69   14.71   14.71    22.80   \n2          1001     3.65  100.15  11.76  18.49   16.52   16.52    22.73   \n3          1001    15.95  100.29   6.42  11.40    6.09    6.10    18.09   \n4          1001     0.00  101.15   2.95   3.86   -3.29   -3.20    10.82   \n...         ...      ...     ...    ...    ...     ...     ...      ...   \n10219099  56043     0.70   82.31   1.47 -10.39  -14.50  -14.23    -2.84   \n10219100  56043     0.28   82.80   2.66  -4.52   -7.41   -7.37     2.14   \n10219101  56043     0.36   82.77   3.35  -1.00   -4.38   -4.36     4.18   \n10219102  56043     1.08   83.28   1.71  -4.75  -12.42  -12.11     2.01   \n10219103  56043     0.54   82.59   2.39  -4.34   -8.95   -8.85     3.43   \n\n          T2M_MIN  T2M_RANGE  ...  SQ1  SQ2  SQ3  SQ4  SQ5  SQ6  SQ7  Year  \\\n0           11.46       9.50  ...    1    1    1    1    1    1    2  2000   \n1           12.61      10.18  ...    1    1    1    1    1    1    2  2000   \n2           15.32       7.41  ...    1    1    1    1    1    1    2  2000   \n3            2.16      15.92  ...    1    1    1    1    1    1    2  2000   \n4           -2.66      13.48  ...    1    1    1    1    1    1    2  2000   \n...           ...        ...  ...  ...  ...  ...  ...  ...  ...  ...   ...   \n10219099   -16.79      13.95  ...    1    1    1    1    1    1    1  2008   \n10219100    -9.60      11.74  ...    1    1    1    1    1    1    1  2008   \n10219101    -5.80       9.98  ...    1    1    1    1    1    1    1  2008   \n10219102   -10.46      12.46  ...    1    1    1    1    1    1    1  2008   \n10219103   -11.35      14.78  ...    1    1    1    1    1    1    1  2008   \n\n          Month  Day  \n0             1    1  \n1             1    2  \n2             1    3  \n3             1    4  \n4             1    5  \n...         ...  ...  \n10219099     12   27  \n10219100     12   28  \n10219101     12   29  \n10219102     12   30  \n10219103     12   31  \n\n[10219104 rows x 53 columns]",
            "text/html": "<div>\n<style scoped>\n    .dataframe tbody tr th:only-of-type {\n        vertical-align: middle;\n    }\n\n    .dataframe tbody tr th {\n        vertical-align: top;\n    }\n\n    .dataframe thead th {\n        text-align: right;\n    }\n</style>\n<table border=\"1\" class=\"dataframe\">\n  <thead>\n    <tr style=\"text-align: right;\">\n      <th></th>\n      <th>fips</th>\n      <th>PRECTOT</th>\n      <th>PS</th>\n      <th>QV2M</th>\n      <th>T2M</th>\n      <th>T2MDEW</th>\n      <th>T2MWET</th>\n      <th>T2M_MAX</th>\n      <th>T2M_MIN</th>\n      <th>T2M_RANGE</th>\n      <th>...</th>\n      <th>SQ1</th>\n      <th>SQ2</th>\n      <th>SQ3</th>\n      <th>SQ4</th>\n      <th>SQ5</th>\n      <th>SQ6</th>\n      <th>SQ7</th>\n      <th>Year</th>\n      <th>Month</th>\n      <th>Day</th>\n    </tr>\n  </thead>\n  <tbody>\n    <tr>\n      <th>0</th>\n      <td>1001</td>\n      <td>0.22</td>\n      <td>100.51</td>\n      <td>9.65</td>\n      <td>14.74</td>\n      <td>13.51</td>\n      <td>13.51</td>\n      <td>20.96</td>\n      <td>11.46</td>\n      <td>9.50</td>\n      <td>...</td>\n      <td>1</td>\n      <td>1</td>\n      <td>1</td>\n      <td>1</td>\n      <td>1</td>\n      <td>1</td>\n      <td>2</td>\n      <td>2000</td>\n      <td>1</td>\n      <td>1</td>\n    </tr>\n    <tr>\n      <th>1</th>\n      <td>1001</td>\n      <td>0.20</td>\n      <td>100.55</td>\n      <td>10.42</td>\n      <td>16.69</td>\n      <td>14.71</td>\n      <td>14.71</td>\n      <td>22.80</td>\n      <td>12.61</td>\n      <td>10.18</td>\n      <td>...</td>\n      <td>1</td>\n      <td>1</td>\n      <td>1</td>\n      <td>1</td>\n      <td>1</td>\n      <td>1</td>\n      <td>2</td>\n      <td>2000</td>\n      <td>1</td>\n      <td>2</td>\n    </tr>\n    <tr>\n      <th>2</th>\n      <td>1001</td>\n      <td>3.65</td>\n      <td>100.15</td>\n      <td>11.76</td>\n      <td>18.49</td>\n      <td>16.52</td>\n      <td>16.52</td>\n      <td>22.73</td>\n      <td>15.32</td>\n      <td>7.41</td>\n      <td>...</td>\n      <td>1</td>\n      <td>1</td>\n      <td>1</td>\n      <td>1</td>\n      <td>1</td>\n      <td>1</td>\n      <td>2</td>\n      <td>2000</td>\n      <td>1</td>\n      <td>3</td>\n    </tr>\n    <tr>\n      <th>3</th>\n      <td>1001</td>\n      <td>15.95</td>\n      <td>100.29</td>\n      <td>6.42</td>\n      <td>11.40</td>\n      <td>6.09</td>\n      <td>6.10</td>\n      <td>18.09</td>\n      <td>2.16</td>\n      <td>15.92</td>\n      <td>...</td>\n      <td>1</td>\n      <td>1</td>\n      <td>1</td>\n      <td>1</td>\n      <td>1</td>\n      <td>1</td>\n      <td>2</td>\n      <td>2000</td>\n      <td>1</td>\n      <td>4</td>\n    </tr>\n    <tr>\n      <th>4</th>\n      <td>1001</td>\n      <td>0.00</td>\n      <td>101.15</td>\n      <td>2.95</td>\n      <td>3.86</td>\n      <td>-3.29</td>\n      <td>-3.20</td>\n      <td>10.82</td>\n      <td>-2.66</td>\n      <td>13.48</td>\n      <td>...</td>\n      <td>1</td>\n      <td>1</td>\n      <td>1</td>\n      <td>1</td>\n      <td>1</td>\n      <td>1</td>\n      <td>2</td>\n      <td>2000</td>\n      <td>1</td>\n      <td>5</td>\n    </tr>\n    <tr>\n      <th>...</th>\n      <td>...</td>\n      <td>...</td>\n      <td>...</td>\n      <td>...</td>\n      <td>...</td>\n      <td>...</td>\n      <td>...</td>\n      <td>...</td>\n      <td>...</td>\n      <td>...</td>\n      <td>...</td>\n      <td>...</td>\n      <td>...</td>\n      <td>...</td>\n      <td>...</td>\n      <td>...</td>\n      <td>...</td>\n      <td>...</td>\n      <td>...</td>\n      <td>...</td>\n      <td>...</td>\n    </tr>\n    <tr>\n      <th>10219099</th>\n      <td>56043</td>\n      <td>0.70</td>\n      <td>82.31</td>\n      <td>1.47</td>\n      <td>-10.39</td>\n      <td>-14.50</td>\n      <td>-14.23</td>\n      <td>-2.84</td>\n      <td>-16.79</td>\n      <td>13.95</td>\n      <td>...</td>\n      <td>1</td>\n      <td>1</td>\n      <td>1</td>\n      <td>1</td>\n      <td>1</td>\n      <td>1</td>\n      <td>1</td>\n      <td>2008</td>\n      <td>12</td>\n      <td>27</td>\n    </tr>\n    <tr>\n      <th>10219100</th>\n      <td>56043</td>\n      <td>0.28</td>\n      <td>82.80</td>\n      <td>2.66</td>\n      <td>-4.52</td>\n      <td>-7.41</td>\n      <td>-7.37</td>\n      <td>2.14</td>\n      <td>-9.60</td>\n      <td>11.74</td>\n      <td>...</td>\n      <td>1</td>\n      <td>1</td>\n      <td>1</td>\n      <td>1</td>\n      <td>1</td>\n      <td>1</td>\n      <td>1</td>\n      <td>2008</td>\n      <td>12</td>\n      <td>28</td>\n    </tr>\n    <tr>\n      <th>10219101</th>\n      <td>56043</td>\n      <td>0.36</td>\n      <td>82.77</td>\n      <td>3.35</td>\n      <td>-1.00</td>\n      <td>-4.38</td>\n      <td>-4.36</td>\n      <td>4.18</td>\n      <td>-5.80</td>\n      <td>9.98</td>\n      <td>...</td>\n      <td>1</td>\n      <td>1</td>\n      <td>1</td>\n      <td>1</td>\n      <td>1</td>\n      <td>1</td>\n      <td>1</td>\n      <td>2008</td>\n      <td>12</td>\n      <td>29</td>\n    </tr>\n    <tr>\n      <th>10219102</th>\n      <td>56043</td>\n      <td>1.08</td>\n      <td>83.28</td>\n      <td>1.71</td>\n      <td>-4.75</td>\n      <td>-12.42</td>\n      <td>-12.11</td>\n      <td>2.01</td>\n      <td>-10.46</td>\n      <td>12.46</td>\n      <td>...</td>\n      <td>1</td>\n      <td>1</td>\n      <td>1</td>\n      <td>1</td>\n      <td>1</td>\n      <td>1</td>\n      <td>1</td>\n      <td>2008</td>\n      <td>12</td>\n      <td>30</td>\n    </tr>\n    <tr>\n      <th>10219103</th>\n      <td>56043</td>\n      <td>0.54</td>\n      <td>82.59</td>\n      <td>2.39</td>\n      <td>-4.34</td>\n      <td>-8.95</td>\n      <td>-8.85</td>\n      <td>3.43</td>\n      <td>-11.35</td>\n      <td>14.78</td>\n      <td>...</td>\n      <td>1</td>\n      <td>1</td>\n      <td>1</td>\n      <td>1</td>\n      <td>1</td>\n      <td>1</td>\n      <td>1</td>\n      <td>2008</td>\n      <td>12</td>\n      <td>31</td>\n    </tr>\n  </tbody>\n</table>\n<p>10219104 rows × 53 columns</p>\n</div>"
          },
          "execution_count": 13,
          "metadata": {},
          "output_type": "execute_result"
        }
      ],
      "source": [
        "#split date into year, month, date in train set\n",
        "train['date'] = pd.to_datetime(train['date'])\n",
        "\n",
        "train['Year'] = train['date'].dt.year\n",
        "train['Month'] = train['date'].dt.month\n",
        "train['Day'] = train['date'].dt.day\n",
        "\n",
        "train = train.drop(columns=['date'])\n",
        "train"
      ],
      "metadata": {
        "ExecuteTime": {
          "end_time": "2023-10-22T14:01:16.294184500Z",
          "start_time": "2023-10-22T14:01:08.314180700Z"
        },
        "id": "394a599133201429",
        "outputId": "a8a2032a-e1b4-405e-ee15-d7dc7f3d254e"
      },
      "id": "394a599133201429"
    },
    {
      "cell_type": "code",
      "execution_count": null,
      "outputs": [
        {
          "data": {
            "text/plain": "          fips  PRECTOT      PS   QV2M    T2M  T2MDEW  T2MWET  T2M_MAX  \\\n0         1001     0.01  100.69   3.66   3.63   -0.75   -0.72    11.42   \n1         1001     2.71  100.15   7.29   9.71    8.96    8.96    13.03   \n2         1001     9.09  100.12  10.66  15.36   14.91   14.91    19.45   \n3         1001     6.31  100.37  10.56  15.55   14.88   14.88    19.34   \n4         1001    18.56  100.17  11.01  16.24   15.44   15.44    19.49   \n...        ...      ...     ...    ...    ...     ...     ...      ...   \n2268835  56043     0.00   83.02   1.95  -4.33  -10.64  -10.47     2.10   \n2268836  56043     0.03   82.35   2.08  -5.43  -10.13  -10.01     1.07   \n2268837  56043     1.26   80.57   2.93  -1.48   -6.29   -6.24     3.36   \n2268838  56043     3.67   81.43   1.15 -12.76  -16.88  -16.48    -6.34   \n2268839  56043     0.77   82.17   0.73 -17.55  -20.74  -20.21   -15.81   \n\n         T2M_MIN  T2M_RANGE  ...  SQ1  SQ2  SQ3  SQ4  SQ5  SQ6  SQ7  Year  \\\n0          -3.64      15.06  ...    1    1    1    1    1    1    2  2009   \n1           5.97       7.06  ...    1    1    1    1    1    1    2  2009   \n2          11.91       7.54  ...    1    1    1    1    1    1    2  2009   \n3          13.36       5.98  ...    1    1    1    1    1    1    2  2009   \n4          12.75       6.74  ...    1    1    1    1    1    1    2  2009   \n...          ...        ...  ...  ...  ...  ...  ...  ...  ...  ...   ...   \n2268835    -8.03      10.12  ...    1    1    1    1    1    1    1  2010   \n2268836   -10.15      11.22  ...    1    1    1    1    1    1    1  2010   \n2268837    -5.36       8.72  ...    1    1    1    1    1    1    1  2010   \n2268838   -17.29      10.94  ...    1    1    1    1    1    1    1  2010   \n2268839   -18.97       3.17  ...    1    1    1    1    1    1    1  2010   \n\n         Month  Day  \n0            1    1  \n1            1    2  \n2            1    3  \n3            1    4  \n4            1    5  \n...        ...  ...  \n2268835     12   27  \n2268836     12   28  \n2268837     12   29  \n2268838     12   30  \n2268839     12   31  \n\n[2268840 rows x 53 columns]",
            "text/html": "<div>\n<style scoped>\n    .dataframe tbody tr th:only-of-type {\n        vertical-align: middle;\n    }\n\n    .dataframe tbody tr th {\n        vertical-align: top;\n    }\n\n    .dataframe thead th {\n        text-align: right;\n    }\n</style>\n<table border=\"1\" class=\"dataframe\">\n  <thead>\n    <tr style=\"text-align: right;\">\n      <th></th>\n      <th>fips</th>\n      <th>PRECTOT</th>\n      <th>PS</th>\n      <th>QV2M</th>\n      <th>T2M</th>\n      <th>T2MDEW</th>\n      <th>T2MWET</th>\n      <th>T2M_MAX</th>\n      <th>T2M_MIN</th>\n      <th>T2M_RANGE</th>\n      <th>...</th>\n      <th>SQ1</th>\n      <th>SQ2</th>\n      <th>SQ3</th>\n      <th>SQ4</th>\n      <th>SQ5</th>\n      <th>SQ6</th>\n      <th>SQ7</th>\n      <th>Year</th>\n      <th>Month</th>\n      <th>Day</th>\n    </tr>\n  </thead>\n  <tbody>\n    <tr>\n      <th>0</th>\n      <td>1001</td>\n      <td>0.01</td>\n      <td>100.69</td>\n      <td>3.66</td>\n      <td>3.63</td>\n      <td>-0.75</td>\n      <td>-0.72</td>\n      <td>11.42</td>\n      <td>-3.64</td>\n      <td>15.06</td>\n      <td>...</td>\n      <td>1</td>\n      <td>1</td>\n      <td>1</td>\n      <td>1</td>\n      <td>1</td>\n      <td>1</td>\n      <td>2</td>\n      <td>2009</td>\n      <td>1</td>\n      <td>1</td>\n    </tr>\n    <tr>\n      <th>1</th>\n      <td>1001</td>\n      <td>2.71</td>\n      <td>100.15</td>\n      <td>7.29</td>\n      <td>9.71</td>\n      <td>8.96</td>\n      <td>8.96</td>\n      <td>13.03</td>\n      <td>5.97</td>\n      <td>7.06</td>\n      <td>...</td>\n      <td>1</td>\n      <td>1</td>\n      <td>1</td>\n      <td>1</td>\n      <td>1</td>\n      <td>1</td>\n      <td>2</td>\n      <td>2009</td>\n      <td>1</td>\n      <td>2</td>\n    </tr>\n    <tr>\n      <th>2</th>\n      <td>1001</td>\n      <td>9.09</td>\n      <td>100.12</td>\n      <td>10.66</td>\n      <td>15.36</td>\n      <td>14.91</td>\n      <td>14.91</td>\n      <td>19.45</td>\n      <td>11.91</td>\n      <td>7.54</td>\n      <td>...</td>\n      <td>1</td>\n      <td>1</td>\n      <td>1</td>\n      <td>1</td>\n      <td>1</td>\n      <td>1</td>\n      <td>2</td>\n      <td>2009</td>\n      <td>1</td>\n      <td>3</td>\n    </tr>\n    <tr>\n      <th>3</th>\n      <td>1001</td>\n      <td>6.31</td>\n      <td>100.37</td>\n      <td>10.56</td>\n      <td>15.55</td>\n      <td>14.88</td>\n      <td>14.88</td>\n      <td>19.34</td>\n      <td>13.36</td>\n      <td>5.98</td>\n      <td>...</td>\n      <td>1</td>\n      <td>1</td>\n      <td>1</td>\n      <td>1</td>\n      <td>1</td>\n      <td>1</td>\n      <td>2</td>\n      <td>2009</td>\n      <td>1</td>\n      <td>4</td>\n    </tr>\n    <tr>\n      <th>4</th>\n      <td>1001</td>\n      <td>18.56</td>\n      <td>100.17</td>\n      <td>11.01</td>\n      <td>16.24</td>\n      <td>15.44</td>\n      <td>15.44</td>\n      <td>19.49</td>\n      <td>12.75</td>\n      <td>6.74</td>\n      <td>...</td>\n      <td>1</td>\n      <td>1</td>\n      <td>1</td>\n      <td>1</td>\n      <td>1</td>\n      <td>1</td>\n      <td>2</td>\n      <td>2009</td>\n      <td>1</td>\n      <td>5</td>\n    </tr>\n    <tr>\n      <th>...</th>\n      <td>...</td>\n      <td>...</td>\n      <td>...</td>\n      <td>...</td>\n      <td>...</td>\n      <td>...</td>\n      <td>...</td>\n      <td>...</td>\n      <td>...</td>\n      <td>...</td>\n      <td>...</td>\n      <td>...</td>\n      <td>...</td>\n      <td>...</td>\n      <td>...</td>\n      <td>...</td>\n      <td>...</td>\n      <td>...</td>\n      <td>...</td>\n      <td>...</td>\n      <td>...</td>\n    </tr>\n    <tr>\n      <th>2268835</th>\n      <td>56043</td>\n      <td>0.00</td>\n      <td>83.02</td>\n      <td>1.95</td>\n      <td>-4.33</td>\n      <td>-10.64</td>\n      <td>-10.47</td>\n      <td>2.10</td>\n      <td>-8.03</td>\n      <td>10.12</td>\n      <td>...</td>\n      <td>1</td>\n      <td>1</td>\n      <td>1</td>\n      <td>1</td>\n      <td>1</td>\n      <td>1</td>\n      <td>1</td>\n      <td>2010</td>\n      <td>12</td>\n      <td>27</td>\n    </tr>\n    <tr>\n      <th>2268836</th>\n      <td>56043</td>\n      <td>0.03</td>\n      <td>82.35</td>\n      <td>2.08</td>\n      <td>-5.43</td>\n      <td>-10.13</td>\n      <td>-10.01</td>\n      <td>1.07</td>\n      <td>-10.15</td>\n      <td>11.22</td>\n      <td>...</td>\n      <td>1</td>\n      <td>1</td>\n      <td>1</td>\n      <td>1</td>\n      <td>1</td>\n      <td>1</td>\n      <td>1</td>\n      <td>2010</td>\n      <td>12</td>\n      <td>28</td>\n    </tr>\n    <tr>\n      <th>2268837</th>\n      <td>56043</td>\n      <td>1.26</td>\n      <td>80.57</td>\n      <td>2.93</td>\n      <td>-1.48</td>\n      <td>-6.29</td>\n      <td>-6.24</td>\n      <td>3.36</td>\n      <td>-5.36</td>\n      <td>8.72</td>\n      <td>...</td>\n      <td>1</td>\n      <td>1</td>\n      <td>1</td>\n      <td>1</td>\n      <td>1</td>\n      <td>1</td>\n      <td>1</td>\n      <td>2010</td>\n      <td>12</td>\n      <td>29</td>\n    </tr>\n    <tr>\n      <th>2268838</th>\n      <td>56043</td>\n      <td>3.67</td>\n      <td>81.43</td>\n      <td>1.15</td>\n      <td>-12.76</td>\n      <td>-16.88</td>\n      <td>-16.48</td>\n      <td>-6.34</td>\n      <td>-17.29</td>\n      <td>10.94</td>\n      <td>...</td>\n      <td>1</td>\n      <td>1</td>\n      <td>1</td>\n      <td>1</td>\n      <td>1</td>\n      <td>1</td>\n      <td>1</td>\n      <td>2010</td>\n      <td>12</td>\n      <td>30</td>\n    </tr>\n    <tr>\n      <th>2268839</th>\n      <td>56043</td>\n      <td>0.77</td>\n      <td>82.17</td>\n      <td>0.73</td>\n      <td>-17.55</td>\n      <td>-20.74</td>\n      <td>-20.21</td>\n      <td>-15.81</td>\n      <td>-18.97</td>\n      <td>3.17</td>\n      <td>...</td>\n      <td>1</td>\n      <td>1</td>\n      <td>1</td>\n      <td>1</td>\n      <td>1</td>\n      <td>1</td>\n      <td>1</td>\n      <td>2010</td>\n      <td>12</td>\n      <td>31</td>\n    </tr>\n  </tbody>\n</table>\n<p>2268840 rows × 53 columns</p>\n</div>"
          },
          "execution_count": 14,
          "metadata": {},
          "output_type": "execute_result"
        }
      ],
      "source": [
        "#split date into year, month, date in validation set\n",
        "validation['date'] = pd.to_datetime(validation['date'])\n",
        "\n",
        "validation['Year'] = validation['date'].dt.year\n",
        "validation['Month'] = validation['date'].dt.month\n",
        "validation['Day'] = validation['date'].dt.day\n",
        "\n",
        "validation = validation.drop(columns=['date'])\n",
        "validation"
      ],
      "metadata": {
        "ExecuteTime": {
          "end_time": "2023-10-22T14:01:17.946180700Z",
          "start_time": "2023-10-22T14:01:16.283186100Z"
        },
        "id": "26aeedd854ca503e",
        "outputId": "b4010aac-71cf-4465-fd31-09ddf4a83a12"
      },
      "id": "26aeedd854ca503e"
    },
    {
      "cell_type": "code",
      "execution_count": null,
      "outputs": [
        {
          "data": {
            "text/plain": "          fips  PRECTOT      PS  QV2M    T2M  T2MDEW  T2MWET  T2M_MAX  \\\n0         1001    40.22  100.10  8.99  13.17   12.08   12.08    17.51   \n1         1001     0.02  100.85  3.34   3.48   -2.08   -2.01     8.69   \n2         1001     0.00  100.93  2.60   2.19   -5.02   -4.91    10.40   \n3         1001     0.05  100.53  3.67   6.28   -0.59   -0.55    13.98   \n4         1001     4.24   99.86  5.88   6.97    5.78    5.79    10.42   \n...        ...      ...     ...   ...    ...     ...     ...      ...   \n2271943  56043     1.33   82.23  1.76  -8.43  -11.79  -11.67    -4.52   \n2271944  56043     0.08   82.80  1.53  -8.00  -13.29  -13.07    -1.95   \n2271945  56043     0.01   82.92  1.29 -10.03  -15.05  -14.77    -3.07   \n2271946  56043     0.02   82.83  1.37  -9.48  -14.42  -14.16    -2.66   \n2271947  56043     0.01   82.83  1.43 -10.20  -13.99  -13.80    -5.31   \n\n         T2M_MIN  T2M_RANGE  ...  SQ1  SQ2  SQ3  SQ4  SQ5  SQ6  SQ7  Year  \\\n0           7.61       9.90  ...    1    1    1    1    1    1    2  2011   \n1          -3.74      12.43  ...    1    1    1    1    1    1    2  2011   \n2          -6.08      16.48  ...    1    1    1    1    1    1    2  2011   \n3           0.18      13.80  ...    1    1    1    1    1    1    2  2011   \n4           2.27       8.15  ...    1    1    1    1    1    1    2  2011   \n...          ...        ...  ...  ...  ...  ...  ...  ...  ...  ...   ...   \n2271943   -10.35       5.83  ...    1    1    1    1    1    1    1  2012   \n2271944   -11.53       9.58  ...    1    1    1    1    1    1    1  2012   \n2271945   -15.59      12.52  ...    1    1    1    1    1    1    1  2012   \n2271946   -13.37      10.71  ...    1    1    1    1    1    1    1  2012   \n2271947   -13.94       8.63  ...    1    1    1    1    1    1    1  2012   \n\n         Month  Day  \n0            1    1  \n1            1    2  \n2            1    3  \n3            1    4  \n4            1    5  \n...        ...  ...  \n2271943     12   27  \n2271944     12   28  \n2271945     12   29  \n2271946     12   30  \n2271947     12   31  \n\n[2271948 rows x 53 columns]",
            "text/html": "<div>\n<style scoped>\n    .dataframe tbody tr th:only-of-type {\n        vertical-align: middle;\n    }\n\n    .dataframe tbody tr th {\n        vertical-align: top;\n    }\n\n    .dataframe thead th {\n        text-align: right;\n    }\n</style>\n<table border=\"1\" class=\"dataframe\">\n  <thead>\n    <tr style=\"text-align: right;\">\n      <th></th>\n      <th>fips</th>\n      <th>PRECTOT</th>\n      <th>PS</th>\n      <th>QV2M</th>\n      <th>T2M</th>\n      <th>T2MDEW</th>\n      <th>T2MWET</th>\n      <th>T2M_MAX</th>\n      <th>T2M_MIN</th>\n      <th>T2M_RANGE</th>\n      <th>...</th>\n      <th>SQ1</th>\n      <th>SQ2</th>\n      <th>SQ3</th>\n      <th>SQ4</th>\n      <th>SQ5</th>\n      <th>SQ6</th>\n      <th>SQ7</th>\n      <th>Year</th>\n      <th>Month</th>\n      <th>Day</th>\n    </tr>\n  </thead>\n  <tbody>\n    <tr>\n      <th>0</th>\n      <td>1001</td>\n      <td>40.22</td>\n      <td>100.10</td>\n      <td>8.99</td>\n      <td>13.17</td>\n      <td>12.08</td>\n      <td>12.08</td>\n      <td>17.51</td>\n      <td>7.61</td>\n      <td>9.90</td>\n      <td>...</td>\n      <td>1</td>\n      <td>1</td>\n      <td>1</td>\n      <td>1</td>\n      <td>1</td>\n      <td>1</td>\n      <td>2</td>\n      <td>2011</td>\n      <td>1</td>\n      <td>1</td>\n    </tr>\n    <tr>\n      <th>1</th>\n      <td>1001</td>\n      <td>0.02</td>\n      <td>100.85</td>\n      <td>3.34</td>\n      <td>3.48</td>\n      <td>-2.08</td>\n      <td>-2.01</td>\n      <td>8.69</td>\n      <td>-3.74</td>\n      <td>12.43</td>\n      <td>...</td>\n      <td>1</td>\n      <td>1</td>\n      <td>1</td>\n      <td>1</td>\n      <td>1</td>\n      <td>1</td>\n      <td>2</td>\n      <td>2011</td>\n      <td>1</td>\n      <td>2</td>\n    </tr>\n    <tr>\n      <th>2</th>\n      <td>1001</td>\n      <td>0.00</td>\n      <td>100.93</td>\n      <td>2.60</td>\n      <td>2.19</td>\n      <td>-5.02</td>\n      <td>-4.91</td>\n      <td>10.40</td>\n      <td>-6.08</td>\n      <td>16.48</td>\n      <td>...</td>\n      <td>1</td>\n      <td>1</td>\n      <td>1</td>\n      <td>1</td>\n      <td>1</td>\n      <td>1</td>\n      <td>2</td>\n      <td>2011</td>\n      <td>1</td>\n      <td>3</td>\n    </tr>\n    <tr>\n      <th>3</th>\n      <td>1001</td>\n      <td>0.05</td>\n      <td>100.53</td>\n      <td>3.67</td>\n      <td>6.28</td>\n      <td>-0.59</td>\n      <td>-0.55</td>\n      <td>13.98</td>\n      <td>0.18</td>\n      <td>13.80</td>\n      <td>...</td>\n      <td>1</td>\n      <td>1</td>\n      <td>1</td>\n      <td>1</td>\n      <td>1</td>\n      <td>1</td>\n      <td>2</td>\n      <td>2011</td>\n      <td>1</td>\n      <td>4</td>\n    </tr>\n    <tr>\n      <th>4</th>\n      <td>1001</td>\n      <td>4.24</td>\n      <td>99.86</td>\n      <td>5.88</td>\n      <td>6.97</td>\n      <td>5.78</td>\n      <td>5.79</td>\n      <td>10.42</td>\n      <td>2.27</td>\n      <td>8.15</td>\n      <td>...</td>\n      <td>1</td>\n      <td>1</td>\n      <td>1</td>\n      <td>1</td>\n      <td>1</td>\n      <td>1</td>\n      <td>2</td>\n      <td>2011</td>\n      <td>1</td>\n      <td>5</td>\n    </tr>\n    <tr>\n      <th>...</th>\n      <td>...</td>\n      <td>...</td>\n      <td>...</td>\n      <td>...</td>\n      <td>...</td>\n      <td>...</td>\n      <td>...</td>\n      <td>...</td>\n      <td>...</td>\n      <td>...</td>\n      <td>...</td>\n      <td>...</td>\n      <td>...</td>\n      <td>...</td>\n      <td>...</td>\n      <td>...</td>\n      <td>...</td>\n      <td>...</td>\n      <td>...</td>\n      <td>...</td>\n      <td>...</td>\n    </tr>\n    <tr>\n      <th>2271943</th>\n      <td>56043</td>\n      <td>1.33</td>\n      <td>82.23</td>\n      <td>1.76</td>\n      <td>-8.43</td>\n      <td>-11.79</td>\n      <td>-11.67</td>\n      <td>-4.52</td>\n      <td>-10.35</td>\n      <td>5.83</td>\n      <td>...</td>\n      <td>1</td>\n      <td>1</td>\n      <td>1</td>\n      <td>1</td>\n      <td>1</td>\n      <td>1</td>\n      <td>1</td>\n      <td>2012</td>\n      <td>12</td>\n      <td>27</td>\n    </tr>\n    <tr>\n      <th>2271944</th>\n      <td>56043</td>\n      <td>0.08</td>\n      <td>82.80</td>\n      <td>1.53</td>\n      <td>-8.00</td>\n      <td>-13.29</td>\n      <td>-13.07</td>\n      <td>-1.95</td>\n      <td>-11.53</td>\n      <td>9.58</td>\n      <td>...</td>\n      <td>1</td>\n      <td>1</td>\n      <td>1</td>\n      <td>1</td>\n      <td>1</td>\n      <td>1</td>\n      <td>1</td>\n      <td>2012</td>\n      <td>12</td>\n      <td>28</td>\n    </tr>\n    <tr>\n      <th>2271945</th>\n      <td>56043</td>\n      <td>0.01</td>\n      <td>82.92</td>\n      <td>1.29</td>\n      <td>-10.03</td>\n      <td>-15.05</td>\n      <td>-14.77</td>\n      <td>-3.07</td>\n      <td>-15.59</td>\n      <td>12.52</td>\n      <td>...</td>\n      <td>1</td>\n      <td>1</td>\n      <td>1</td>\n      <td>1</td>\n      <td>1</td>\n      <td>1</td>\n      <td>1</td>\n      <td>2012</td>\n      <td>12</td>\n      <td>29</td>\n    </tr>\n    <tr>\n      <th>2271946</th>\n      <td>56043</td>\n      <td>0.02</td>\n      <td>82.83</td>\n      <td>1.37</td>\n      <td>-9.48</td>\n      <td>-14.42</td>\n      <td>-14.16</td>\n      <td>-2.66</td>\n      <td>-13.37</td>\n      <td>10.71</td>\n      <td>...</td>\n      <td>1</td>\n      <td>1</td>\n      <td>1</td>\n      <td>1</td>\n      <td>1</td>\n      <td>1</td>\n      <td>1</td>\n      <td>2012</td>\n      <td>12</td>\n      <td>30</td>\n    </tr>\n    <tr>\n      <th>2271947</th>\n      <td>56043</td>\n      <td>0.01</td>\n      <td>82.83</td>\n      <td>1.43</td>\n      <td>-10.20</td>\n      <td>-13.99</td>\n      <td>-13.80</td>\n      <td>-5.31</td>\n      <td>-13.94</td>\n      <td>8.63</td>\n      <td>...</td>\n      <td>1</td>\n      <td>1</td>\n      <td>1</td>\n      <td>1</td>\n      <td>1</td>\n      <td>1</td>\n      <td>1</td>\n      <td>2012</td>\n      <td>12</td>\n      <td>31</td>\n    </tr>\n  </tbody>\n</table>\n<p>2271948 rows × 53 columns</p>\n</div>"
          },
          "execution_count": 15,
          "metadata": {},
          "output_type": "execute_result"
        }
      ],
      "source": [
        "#split date into year, month, date in test set\n",
        "test['date'] = pd.to_datetime(test['date'])\n",
        "\n",
        "test['Year'] = test['date'].dt.year\n",
        "test['Month'] = test['date'].dt.month\n",
        "test['Day'] = test['date'].dt.day\n",
        "\n",
        "test = test.drop(columns=['date'])\n",
        "test"
      ],
      "metadata": {
        "ExecuteTime": {
          "end_time": "2023-10-22T14:01:19.598186300Z",
          "start_time": "2023-10-22T14:01:17.940187100Z"
        },
        "id": "cb40d4134a36e831",
        "outputId": "b928fb59-aebe-458e-813e-0e7821b0e339"
      },
      "id": "cb40d4134a36e831"
    },
    {
      "cell_type": "code",
      "execution_count": null,
      "outputs": [
        {
          "name": "stdout",
          "output_type": "stream",
          "text": [
            "Index(['fips', 'PRECTOT', 'PS', 'QV2M', 'T2M', 'T2MDEW', 'T2MWET', 'T2M_MAX',\n",
            "       'T2M_MIN', 'T2M_RANGE', 'TS', 'WS10M', 'WS10M_MAX', 'WS10M_MIN',\n",
            "       'WS10M_RANGE', 'WS50M', 'WS50M_MAX', 'WS50M_MIN', 'WS50M_RANGE', 'lat',\n",
            "       'lon', 'elevation', 'slope1', 'slope2', 'slope3', 'slope4', 'slope5',\n",
            "       'slope6', 'slope7', 'slope8', 'aspectN', 'aspectE', 'aspectS',\n",
            "       'aspectW', 'aspectUnknown', 'WAT_LAND', 'NVG_LAND', 'URB_LAND',\n",
            "       'GRS_LAND', 'FOR_LAND', 'CULTRF_LAND', 'CULTIR_LAND', 'CULT_LAND',\n",
            "       'SQ1', 'SQ2', 'SQ3', 'SQ4', 'SQ5', 'SQ6', 'SQ7', 'Year', 'Month',\n",
            "       'Day'],\n",
            "      dtype='object')\n"
          ]
        }
      ],
      "source": [
        "print(train.columns)"
      ],
      "metadata": {
        "ExecuteTime": {
          "end_time": "2023-10-22T14:01:19.651183900Z",
          "start_time": "2023-10-22T14:01:19.592183100Z"
        },
        "id": "ae50de028bcc0eb8",
        "outputId": "15cbea51-c14f-4416-b2d9-d9bc32850749"
      },
      "id": "ae50de028bcc0eb8"
    },
    {
      "cell_type": "code",
      "execution_count": null,
      "outputs": [],
      "source": [
        "#check target columns\n",
        "dynamic_columns = ['Year', 'Month', 'Day', 'PS', 'QV2M', 'T2M', 'T2MDEW', 'T2MWET','T2M_MAX','T2M_MIN','T2M_RANGE','TS', 'WS10M', 'WS10M_MAX','WS10M_MIN', 'WS10M_RANGE', 'WS50M', 'WS50M_MAX', 'WS50M_MIN', 'WS50M_RANGE']  #dynamic features"
      ],
      "metadata": {
        "ExecuteTime": {
          "end_time": "2023-10-22T14:01:19.651183900Z",
          "start_time": "2023-10-22T14:01:19.610181400Z"
        },
        "id": "9f49cf88debb737d"
      },
      "id": "9f49cf88debb737d"
    },
    {
      "cell_type": "code",
      "execution_count": null,
      "outputs": [
        {
          "data": {
            "text/plain": "['Year',\n 'Month',\n 'Day',\n 'PS',\n 'QV2M',\n 'T2M',\n 'T2MDEW',\n 'T2MWET',\n 'T2M_MAX',\n 'T2M_MIN',\n 'T2M_RANGE',\n 'TS',\n 'WS10M',\n 'WS10M_MAX',\n 'WS10M_MIN',\n 'WS10M_RANGE',\n 'WS50M',\n 'WS50M_MAX',\n 'WS50M_MIN',\n 'WS50M_RANGE']"
          },
          "execution_count": 18,
          "metadata": {},
          "output_type": "execute_result"
        }
      ],
      "source": [
        "dynamic_columns"
      ],
      "metadata": {
        "ExecuteTime": {
          "end_time": "2023-10-22T14:01:19.698322800Z",
          "start_time": "2023-10-22T14:01:19.623188100Z"
        },
        "id": "bcb6696409046c67",
        "outputId": "cab8738d-ea01-44c5-b095-cd8c20df5376"
      },
      "id": "bcb6696409046c67"
    },
    {
      "cell_type": "code",
      "execution_count": null,
      "outputs": [
        {
          "data": {
            "text/plain": "0            0.22\n1            0.20\n2            3.65\n3           15.95\n4            0.00\n            ...  \n10219099     0.70\n10219100     0.28\n10219101     0.36\n10219102     1.08\n10219103     0.54\nName: PRECTOT, Length: 10219104, dtype: float64"
          },
          "execution_count": 19,
          "metadata": {},
          "output_type": "execute_result"
        }
      ],
      "source": [
        "y_train = train['PRECTOT'] #target column \"PRECTOT\"\n",
        "y_train"
      ],
      "metadata": {
        "ExecuteTime": {
          "end_time": "2023-10-22T14:01:19.755323900Z",
          "start_time": "2023-10-22T14:01:19.644186100Z"
        },
        "id": "af8f4afbb006d963",
        "outputId": "e8dd9ad6-b336-4147-cb58-604fd0bdbeb7"
      },
      "id": "af8f4afbb006d963"
    },
    {
      "cell_type": "code",
      "execution_count": null,
      "outputs": [
        {
          "data": {
            "text/plain": "0           0.01\n1           2.71\n2           9.09\n3           6.31\n4          18.56\n           ...  \n2268835     0.00\n2268836     0.03\n2268837     1.26\n2268838     3.67\n2268839     0.77\nName: PRECTOT, Length: 2268840, dtype: float64"
          },
          "execution_count": 20,
          "metadata": {},
          "output_type": "execute_result"
        }
      ],
      "source": [
        "y_valid = validation['PRECTOT']\n",
        "y_valid"
      ],
      "metadata": {
        "ExecuteTime": {
          "end_time": "2023-10-22T14:01:19.824323500Z",
          "start_time": "2023-10-22T14:01:19.654204400Z"
        },
        "id": "97004ded08f347d4",
        "outputId": "ff7b5189-e781-41a8-a49f-e07508d8d3dd"
      },
      "id": "97004ded08f347d4"
    },
    {
      "cell_type": "code",
      "execution_count": null,
      "outputs": [
        {
          "data": {
            "text/plain": "0          40.22\n1           0.02\n2           0.00\n3           0.05\n4           4.24\n           ...  \n2271943     1.33\n2271944     0.08\n2271945     0.01\n2271946     0.02\n2271947     0.01\nName: PRECTOT, Length: 2271948, dtype: float64"
          },
          "execution_count": 21,
          "metadata": {},
          "output_type": "execute_result"
        }
      ],
      "source": [
        "y_test = test['PRECTOT']\n",
        "y_test"
      ],
      "metadata": {
        "ExecuteTime": {
          "end_time": "2023-10-22T14:01:19.933323Z",
          "start_time": "2023-10-22T14:01:19.670205900Z"
        },
        "id": "dd398326810c620c",
        "outputId": "0d4c1353-e500-42e5-ef26-0c31bcd29dca"
      },
      "id": "dd398326810c620c"
    },
    {
      "cell_type": "code",
      "execution_count": null,
      "outputs": [],
      "source": [
        "#drop target column\n",
        "train = train.drop(columns=['PRECTOT'])\n",
        "validation = validation.drop(columns=['PRECTOT'])\n",
        "test = test.drop(columns=['PRECTOT'])"
      ],
      "metadata": {
        "ExecuteTime": {
          "end_time": "2023-10-22T14:01:20.918324Z",
          "start_time": "2023-10-22T14:01:19.685324300Z"
        },
        "id": "b809ec99fa4ba214"
      },
      "id": "b809ec99fa4ba214"
    },
    {
      "cell_type": "code",
      "execution_count": null,
      "outputs": [
        {
          "data": {
            "text/plain": "          Year  Month  Day      PS   QV2M    T2M  T2MDEW  T2MWET  T2M_MAX  \\\n0         2000      1    1  100.51   9.65  14.74   13.51   13.51    20.96   \n1         2000      1    2  100.55  10.42  16.69   14.71   14.71    22.80   \n2         2000      1    3  100.15  11.76  18.49   16.52   16.52    22.73   \n3         2000      1    4  100.29   6.42  11.40    6.09    6.10    18.09   \n4         2000      1    5  101.15   2.95   3.86   -3.29   -3.20    10.82   \n...        ...    ...  ...     ...    ...    ...     ...     ...      ...   \n10219099  2008     12   27   82.31   1.47 -10.39  -14.50  -14.23    -2.84   \n10219100  2008     12   28   82.80   2.66  -4.52   -7.41   -7.37     2.14   \n10219101  2008     12   29   82.77   3.35  -1.00   -4.38   -4.36     4.18   \n10219102  2008     12   30   83.28   1.71  -4.75  -12.42  -12.11     2.01   \n10219103  2008     12   31   82.59   2.39  -4.34   -8.95   -8.85     3.43   \n\n          T2M_MIN  T2M_RANGE     TS  WS10M  WS10M_MAX  WS10M_MIN  WS10M_RANGE  \\\n0           11.46       9.50  14.65   2.20       2.94       1.49         1.46   \n1           12.61      10.18  16.60   2.52       3.43       1.83         1.60   \n2           15.32       7.41  18.41   4.03       5.33       2.66         2.67   \n3            2.16      15.92  11.31   3.84       5.67       2.08         3.59   \n4           -2.66      13.48   2.65   1.60       2.50       0.52         1.98   \n...           ...        ...    ...    ...        ...        ...          ...   \n10219099   -16.79      13.95 -12.92   4.23       5.29       2.87         2.43   \n10219100    -9.60      11.74  -6.26   5.65       7.75       4.19         3.55   \n10219101    -5.80       9.98  -2.90   7.62      12.24       4.11         8.13   \n10219102   -10.46      12.46  -6.65   6.06      12.57       2.33        10.24   \n10219103   -11.35      14.78  -5.81   5.05       7.11       3.17         3.94   \n\n          WS50M  WS50M_MAX  WS50M_MIN  WS50M_RANGE  \n0          4.85       6.04       3.23         2.81  \n1          5.33       6.13       3.72         2.41  \n2          7.53       9.52       5.87         3.66  \n3          6.73       9.31       3.74         5.58  \n4          2.94       4.85       0.65         4.19  \n...         ...        ...        ...          ...  \n10219099   6.19       7.66       4.25         3.41  \n10219100   8.59       9.63       7.34         2.30  \n10219101  11.32      17.66       6.97        10.69  \n10219102   8.87      17.68       3.82        13.86  \n10219103   7.92       9.46       5.34         4.12  \n\n[10219104 rows x 20 columns]",
            "text/html": "<div>\n<style scoped>\n    .dataframe tbody tr th:only-of-type {\n        vertical-align: middle;\n    }\n\n    .dataframe tbody tr th {\n        vertical-align: top;\n    }\n\n    .dataframe thead th {\n        text-align: right;\n    }\n</style>\n<table border=\"1\" class=\"dataframe\">\n  <thead>\n    <tr style=\"text-align: right;\">\n      <th></th>\n      <th>Year</th>\n      <th>Month</th>\n      <th>Day</th>\n      <th>PS</th>\n      <th>QV2M</th>\n      <th>T2M</th>\n      <th>T2MDEW</th>\n      <th>T2MWET</th>\n      <th>T2M_MAX</th>\n      <th>T2M_MIN</th>\n      <th>T2M_RANGE</th>\n      <th>TS</th>\n      <th>WS10M</th>\n      <th>WS10M_MAX</th>\n      <th>WS10M_MIN</th>\n      <th>WS10M_RANGE</th>\n      <th>WS50M</th>\n      <th>WS50M_MAX</th>\n      <th>WS50M_MIN</th>\n      <th>WS50M_RANGE</th>\n    </tr>\n  </thead>\n  <tbody>\n    <tr>\n      <th>0</th>\n      <td>2000</td>\n      <td>1</td>\n      <td>1</td>\n      <td>100.51</td>\n      <td>9.65</td>\n      <td>14.74</td>\n      <td>13.51</td>\n      <td>13.51</td>\n      <td>20.96</td>\n      <td>11.46</td>\n      <td>9.50</td>\n      <td>14.65</td>\n      <td>2.20</td>\n      <td>2.94</td>\n      <td>1.49</td>\n      <td>1.46</td>\n      <td>4.85</td>\n      <td>6.04</td>\n      <td>3.23</td>\n      <td>2.81</td>\n    </tr>\n    <tr>\n      <th>1</th>\n      <td>2000</td>\n      <td>1</td>\n      <td>2</td>\n      <td>100.55</td>\n      <td>10.42</td>\n      <td>16.69</td>\n      <td>14.71</td>\n      <td>14.71</td>\n      <td>22.80</td>\n      <td>12.61</td>\n      <td>10.18</td>\n      <td>16.60</td>\n      <td>2.52</td>\n      <td>3.43</td>\n      <td>1.83</td>\n      <td>1.60</td>\n      <td>5.33</td>\n      <td>6.13</td>\n      <td>3.72</td>\n      <td>2.41</td>\n    </tr>\n    <tr>\n      <th>2</th>\n      <td>2000</td>\n      <td>1</td>\n      <td>3</td>\n      <td>100.15</td>\n      <td>11.76</td>\n      <td>18.49</td>\n      <td>16.52</td>\n      <td>16.52</td>\n      <td>22.73</td>\n      <td>15.32</td>\n      <td>7.41</td>\n      <td>18.41</td>\n      <td>4.03</td>\n      <td>5.33</td>\n      <td>2.66</td>\n      <td>2.67</td>\n      <td>7.53</td>\n      <td>9.52</td>\n      <td>5.87</td>\n      <td>3.66</td>\n    </tr>\n    <tr>\n      <th>3</th>\n      <td>2000</td>\n      <td>1</td>\n      <td>4</td>\n      <td>100.29</td>\n      <td>6.42</td>\n      <td>11.40</td>\n      <td>6.09</td>\n      <td>6.10</td>\n      <td>18.09</td>\n      <td>2.16</td>\n      <td>15.92</td>\n      <td>11.31</td>\n      <td>3.84</td>\n      <td>5.67</td>\n      <td>2.08</td>\n      <td>3.59</td>\n      <td>6.73</td>\n      <td>9.31</td>\n      <td>3.74</td>\n      <td>5.58</td>\n    </tr>\n    <tr>\n      <th>4</th>\n      <td>2000</td>\n      <td>1</td>\n      <td>5</td>\n      <td>101.15</td>\n      <td>2.95</td>\n      <td>3.86</td>\n      <td>-3.29</td>\n      <td>-3.20</td>\n      <td>10.82</td>\n      <td>-2.66</td>\n      <td>13.48</td>\n      <td>2.65</td>\n      <td>1.60</td>\n      <td>2.50</td>\n      <td>0.52</td>\n      <td>1.98</td>\n      <td>2.94</td>\n      <td>4.85</td>\n      <td>0.65</td>\n      <td>4.19</td>\n    </tr>\n    <tr>\n      <th>...</th>\n      <td>...</td>\n      <td>...</td>\n      <td>...</td>\n      <td>...</td>\n      <td>...</td>\n      <td>...</td>\n      <td>...</td>\n      <td>...</td>\n      <td>...</td>\n      <td>...</td>\n      <td>...</td>\n      <td>...</td>\n      <td>...</td>\n      <td>...</td>\n      <td>...</td>\n      <td>...</td>\n      <td>...</td>\n      <td>...</td>\n      <td>...</td>\n      <td>...</td>\n    </tr>\n    <tr>\n      <th>10219099</th>\n      <td>2008</td>\n      <td>12</td>\n      <td>27</td>\n      <td>82.31</td>\n      <td>1.47</td>\n      <td>-10.39</td>\n      <td>-14.50</td>\n      <td>-14.23</td>\n      <td>-2.84</td>\n      <td>-16.79</td>\n      <td>13.95</td>\n      <td>-12.92</td>\n      <td>4.23</td>\n      <td>5.29</td>\n      <td>2.87</td>\n      <td>2.43</td>\n      <td>6.19</td>\n      <td>7.66</td>\n      <td>4.25</td>\n      <td>3.41</td>\n    </tr>\n    <tr>\n      <th>10219100</th>\n      <td>2008</td>\n      <td>12</td>\n      <td>28</td>\n      <td>82.80</td>\n      <td>2.66</td>\n      <td>-4.52</td>\n      <td>-7.41</td>\n      <td>-7.37</td>\n      <td>2.14</td>\n      <td>-9.60</td>\n      <td>11.74</td>\n      <td>-6.26</td>\n      <td>5.65</td>\n      <td>7.75</td>\n      <td>4.19</td>\n      <td>3.55</td>\n      <td>8.59</td>\n      <td>9.63</td>\n      <td>7.34</td>\n      <td>2.30</td>\n    </tr>\n    <tr>\n      <th>10219101</th>\n      <td>2008</td>\n      <td>12</td>\n      <td>29</td>\n      <td>82.77</td>\n      <td>3.35</td>\n      <td>-1.00</td>\n      <td>-4.38</td>\n      <td>-4.36</td>\n      <td>4.18</td>\n      <td>-5.80</td>\n      <td>9.98</td>\n      <td>-2.90</td>\n      <td>7.62</td>\n      <td>12.24</td>\n      <td>4.11</td>\n      <td>8.13</td>\n      <td>11.32</td>\n      <td>17.66</td>\n      <td>6.97</td>\n      <td>10.69</td>\n    </tr>\n    <tr>\n      <th>10219102</th>\n      <td>2008</td>\n      <td>12</td>\n      <td>30</td>\n      <td>83.28</td>\n      <td>1.71</td>\n      <td>-4.75</td>\n      <td>-12.42</td>\n      <td>-12.11</td>\n      <td>2.01</td>\n      <td>-10.46</td>\n      <td>12.46</td>\n      <td>-6.65</td>\n      <td>6.06</td>\n      <td>12.57</td>\n      <td>2.33</td>\n      <td>10.24</td>\n      <td>8.87</td>\n      <td>17.68</td>\n      <td>3.82</td>\n      <td>13.86</td>\n    </tr>\n    <tr>\n      <th>10219103</th>\n      <td>2008</td>\n      <td>12</td>\n      <td>31</td>\n      <td>82.59</td>\n      <td>2.39</td>\n      <td>-4.34</td>\n      <td>-8.95</td>\n      <td>-8.85</td>\n      <td>3.43</td>\n      <td>-11.35</td>\n      <td>14.78</td>\n      <td>-5.81</td>\n      <td>5.05</td>\n      <td>7.11</td>\n      <td>3.17</td>\n      <td>3.94</td>\n      <td>7.92</td>\n      <td>9.46</td>\n      <td>5.34</td>\n      <td>4.12</td>\n    </tr>\n  </tbody>\n</table>\n<p>10219104 rows × 20 columns</p>\n</div>"
          },
          "execution_count": 23,
          "metadata": {},
          "output_type": "execute_result"
        }
      ],
      "source": [
        "dynamic_train = train[dynamic_columns]#seperate dynamic features\n",
        "dynamic_train"
      ],
      "metadata": {
        "ExecuteTime": {
          "end_time": "2023-10-22T14:01:21.433322900Z",
          "start_time": "2023-10-22T14:01:20.998324600Z"
        },
        "id": "24692f3fb78d6a28",
        "outputId": "a19c829f-6244-4abc-cc5f-15b8cdcfe818"
      },
      "id": "24692f3fb78d6a28"
    },
    {
      "cell_type": "code",
      "execution_count": null,
      "outputs": [
        {
          "data": {
            "text/plain": "         Year  Month  Day      PS   QV2M    T2M  T2MDEW  T2MWET  T2M_MAX  \\\n0        2009      1    1  100.69   3.66   3.63   -0.75   -0.72    11.42   \n1        2009      1    2  100.15   7.29   9.71    8.96    8.96    13.03   \n2        2009      1    3  100.12  10.66  15.36   14.91   14.91    19.45   \n3        2009      1    4  100.37  10.56  15.55   14.88   14.88    19.34   \n4        2009      1    5  100.17  11.01  16.24   15.44   15.44    19.49   \n...       ...    ...  ...     ...    ...    ...     ...     ...      ...   \n2268835  2010     12   27   83.02   1.95  -4.33  -10.64  -10.47     2.10   \n2268836  2010     12   28   82.35   2.08  -5.43  -10.13  -10.01     1.07   \n2268837  2010     12   29   80.57   2.93  -1.48   -6.29   -6.24     3.36   \n2268838  2010     12   30   81.43   1.15 -12.76  -16.88  -16.48    -6.34   \n2268839  2010     12   31   82.17   0.73 -17.55  -20.74  -20.21   -15.81   \n\n         T2M_MIN  T2M_RANGE     TS  WS10M  WS10M_MAX  WS10M_MIN  WS10M_RANGE  \\\n0          -3.64      15.06   3.69   2.57       3.82       1.82         2.00   \n1           5.97       7.06   9.31   1.51       2.53       0.24         2.29   \n2          11.91       7.54  15.24   2.17       2.83       1.82         1.01   \n3          13.36       5.98  15.39   1.70       1.96       1.12         0.85   \n4          12.75       6.74  16.11   1.98       4.01       0.54         3.47   \n...          ...        ...    ...    ...        ...        ...          ...   \n2268835    -8.03      10.12  -6.26   4.08       6.90       2.39         4.51   \n2268836   -10.15      11.22  -6.70   4.55       6.31       2.68         3.63   \n2268837    -5.36       8.72  -2.66   5.22       8.11       1.26         6.85   \n2268838   -17.29      10.94 -11.67   4.79       5.88       3.68         2.20   \n2268839   -18.97       3.17 -17.22   4.45       6.04       2.11         3.93   \n\n         WS50M  WS50M_MAX  WS50M_MIN  WS50M_RANGE  \n0         5.10       6.62       4.17         2.45  \n1         2.85       5.03       0.38         4.65  \n2         4.82       5.91       3.50         2.41  \n3         3.63       4.77       2.03         2.74  \n4         4.06       7.64       1.10         6.54  \n...        ...        ...        ...          ...  \n2268835   6.39       8.52       3.75         4.77  \n2268836   6.89       9.48       4.39         5.09  \n2268837   7.25      11.04       2.30         8.74  \n2268838   5.70       6.95       4.13         2.81  \n2268839   5.36       6.93       2.72         4.21  \n\n[2268840 rows x 20 columns]",
            "text/html": "<div>\n<style scoped>\n    .dataframe tbody tr th:only-of-type {\n        vertical-align: middle;\n    }\n\n    .dataframe tbody tr th {\n        vertical-align: top;\n    }\n\n    .dataframe thead th {\n        text-align: right;\n    }\n</style>\n<table border=\"1\" class=\"dataframe\">\n  <thead>\n    <tr style=\"text-align: right;\">\n      <th></th>\n      <th>Year</th>\n      <th>Month</th>\n      <th>Day</th>\n      <th>PS</th>\n      <th>QV2M</th>\n      <th>T2M</th>\n      <th>T2MDEW</th>\n      <th>T2MWET</th>\n      <th>T2M_MAX</th>\n      <th>T2M_MIN</th>\n      <th>T2M_RANGE</th>\n      <th>TS</th>\n      <th>WS10M</th>\n      <th>WS10M_MAX</th>\n      <th>WS10M_MIN</th>\n      <th>WS10M_RANGE</th>\n      <th>WS50M</th>\n      <th>WS50M_MAX</th>\n      <th>WS50M_MIN</th>\n      <th>WS50M_RANGE</th>\n    </tr>\n  </thead>\n  <tbody>\n    <tr>\n      <th>0</th>\n      <td>2009</td>\n      <td>1</td>\n      <td>1</td>\n      <td>100.69</td>\n      <td>3.66</td>\n      <td>3.63</td>\n      <td>-0.75</td>\n      <td>-0.72</td>\n      <td>11.42</td>\n      <td>-3.64</td>\n      <td>15.06</td>\n      <td>3.69</td>\n      <td>2.57</td>\n      <td>3.82</td>\n      <td>1.82</td>\n      <td>2.00</td>\n      <td>5.10</td>\n      <td>6.62</td>\n      <td>4.17</td>\n      <td>2.45</td>\n    </tr>\n    <tr>\n      <th>1</th>\n      <td>2009</td>\n      <td>1</td>\n      <td>2</td>\n      <td>100.15</td>\n      <td>7.29</td>\n      <td>9.71</td>\n      <td>8.96</td>\n      <td>8.96</td>\n      <td>13.03</td>\n      <td>5.97</td>\n      <td>7.06</td>\n      <td>9.31</td>\n      <td>1.51</td>\n      <td>2.53</td>\n      <td>0.24</td>\n      <td>2.29</td>\n      <td>2.85</td>\n      <td>5.03</td>\n      <td>0.38</td>\n      <td>4.65</td>\n    </tr>\n    <tr>\n      <th>2</th>\n      <td>2009</td>\n      <td>1</td>\n      <td>3</td>\n      <td>100.12</td>\n      <td>10.66</td>\n      <td>15.36</td>\n      <td>14.91</td>\n      <td>14.91</td>\n      <td>19.45</td>\n      <td>11.91</td>\n      <td>7.54</td>\n      <td>15.24</td>\n      <td>2.17</td>\n      <td>2.83</td>\n      <td>1.82</td>\n      <td>1.01</td>\n      <td>4.82</td>\n      <td>5.91</td>\n      <td>3.50</td>\n      <td>2.41</td>\n    </tr>\n    <tr>\n      <th>3</th>\n      <td>2009</td>\n      <td>1</td>\n      <td>4</td>\n      <td>100.37</td>\n      <td>10.56</td>\n      <td>15.55</td>\n      <td>14.88</td>\n      <td>14.88</td>\n      <td>19.34</td>\n      <td>13.36</td>\n      <td>5.98</td>\n      <td>15.39</td>\n      <td>1.70</td>\n      <td>1.96</td>\n      <td>1.12</td>\n      <td>0.85</td>\n      <td>3.63</td>\n      <td>4.77</td>\n      <td>2.03</td>\n      <td>2.74</td>\n    </tr>\n    <tr>\n      <th>4</th>\n      <td>2009</td>\n      <td>1</td>\n      <td>5</td>\n      <td>100.17</td>\n      <td>11.01</td>\n      <td>16.24</td>\n      <td>15.44</td>\n      <td>15.44</td>\n      <td>19.49</td>\n      <td>12.75</td>\n      <td>6.74</td>\n      <td>16.11</td>\n      <td>1.98</td>\n      <td>4.01</td>\n      <td>0.54</td>\n      <td>3.47</td>\n      <td>4.06</td>\n      <td>7.64</td>\n      <td>1.10</td>\n      <td>6.54</td>\n    </tr>\n    <tr>\n      <th>...</th>\n      <td>...</td>\n      <td>...</td>\n      <td>...</td>\n      <td>...</td>\n      <td>...</td>\n      <td>...</td>\n      <td>...</td>\n      <td>...</td>\n      <td>...</td>\n      <td>...</td>\n      <td>...</td>\n      <td>...</td>\n      <td>...</td>\n      <td>...</td>\n      <td>...</td>\n      <td>...</td>\n      <td>...</td>\n      <td>...</td>\n      <td>...</td>\n      <td>...</td>\n    </tr>\n    <tr>\n      <th>2268835</th>\n      <td>2010</td>\n      <td>12</td>\n      <td>27</td>\n      <td>83.02</td>\n      <td>1.95</td>\n      <td>-4.33</td>\n      <td>-10.64</td>\n      <td>-10.47</td>\n      <td>2.10</td>\n      <td>-8.03</td>\n      <td>10.12</td>\n      <td>-6.26</td>\n      <td>4.08</td>\n      <td>6.90</td>\n      <td>2.39</td>\n      <td>4.51</td>\n      <td>6.39</td>\n      <td>8.52</td>\n      <td>3.75</td>\n      <td>4.77</td>\n    </tr>\n    <tr>\n      <th>2268836</th>\n      <td>2010</td>\n      <td>12</td>\n      <td>28</td>\n      <td>82.35</td>\n      <td>2.08</td>\n      <td>-5.43</td>\n      <td>-10.13</td>\n      <td>-10.01</td>\n      <td>1.07</td>\n      <td>-10.15</td>\n      <td>11.22</td>\n      <td>-6.70</td>\n      <td>4.55</td>\n      <td>6.31</td>\n      <td>2.68</td>\n      <td>3.63</td>\n      <td>6.89</td>\n      <td>9.48</td>\n      <td>4.39</td>\n      <td>5.09</td>\n    </tr>\n    <tr>\n      <th>2268837</th>\n      <td>2010</td>\n      <td>12</td>\n      <td>29</td>\n      <td>80.57</td>\n      <td>2.93</td>\n      <td>-1.48</td>\n      <td>-6.29</td>\n      <td>-6.24</td>\n      <td>3.36</td>\n      <td>-5.36</td>\n      <td>8.72</td>\n      <td>-2.66</td>\n      <td>5.22</td>\n      <td>8.11</td>\n      <td>1.26</td>\n      <td>6.85</td>\n      <td>7.25</td>\n      <td>11.04</td>\n      <td>2.30</td>\n      <td>8.74</td>\n    </tr>\n    <tr>\n      <th>2268838</th>\n      <td>2010</td>\n      <td>12</td>\n      <td>30</td>\n      <td>81.43</td>\n      <td>1.15</td>\n      <td>-12.76</td>\n      <td>-16.88</td>\n      <td>-16.48</td>\n      <td>-6.34</td>\n      <td>-17.29</td>\n      <td>10.94</td>\n      <td>-11.67</td>\n      <td>4.79</td>\n      <td>5.88</td>\n      <td>3.68</td>\n      <td>2.20</td>\n      <td>5.70</td>\n      <td>6.95</td>\n      <td>4.13</td>\n      <td>2.81</td>\n    </tr>\n    <tr>\n      <th>2268839</th>\n      <td>2010</td>\n      <td>12</td>\n      <td>31</td>\n      <td>82.17</td>\n      <td>0.73</td>\n      <td>-17.55</td>\n      <td>-20.74</td>\n      <td>-20.21</td>\n      <td>-15.81</td>\n      <td>-18.97</td>\n      <td>3.17</td>\n      <td>-17.22</td>\n      <td>4.45</td>\n      <td>6.04</td>\n      <td>2.11</td>\n      <td>3.93</td>\n      <td>5.36</td>\n      <td>6.93</td>\n      <td>2.72</td>\n      <td>4.21</td>\n    </tr>\n  </tbody>\n</table>\n<p>2268840 rows × 20 columns</p>\n</div>"
          },
          "execution_count": 24,
          "metadata": {},
          "output_type": "execute_result"
        }
      ],
      "source": [
        "dynamic_valid = validation[dynamic_columns] #seperate dynamic features\n",
        "dynamic_valid"
      ],
      "metadata": {
        "ExecuteTime": {
          "end_time": "2023-10-22T14:01:21.631323300Z",
          "start_time": "2023-10-22T14:01:21.434322700Z"
        },
        "id": "d44d3a5383f231f1",
        "outputId": "ec958648-eb39-40a7-8fc3-4651bae3c1b2"
      },
      "id": "d44d3a5383f231f1"
    },
    {
      "cell_type": "code",
      "execution_count": null,
      "outputs": [
        {
          "data": {
            "text/plain": "         Year  Month  Day      PS  QV2M    T2M  T2MDEW  T2MWET  T2M_MAX  \\\n0        2011      1    1  100.10  8.99  13.17   12.08   12.08    17.51   \n1        2011      1    2  100.85  3.34   3.48   -2.08   -2.01     8.69   \n2        2011      1    3  100.93  2.60   2.19   -5.02   -4.91    10.40   \n3        2011      1    4  100.53  3.67   6.28   -0.59   -0.55    13.98   \n4        2011      1    5   99.86  5.88   6.97    5.78    5.79    10.42   \n...       ...    ...  ...     ...   ...    ...     ...     ...      ...   \n2271943  2012     12   27   82.23  1.76  -8.43  -11.79  -11.67    -4.52   \n2271944  2012     12   28   82.80  1.53  -8.00  -13.29  -13.07    -1.95   \n2271945  2012     12   29   82.92  1.29 -10.03  -15.05  -14.77    -3.07   \n2271946  2012     12   30   82.83  1.37  -9.48  -14.42  -14.16    -2.66   \n2271947  2012     12   31   82.83  1.43 -10.20  -13.99  -13.80    -5.31   \n\n         T2M_MIN  T2M_RANGE     TS  WS10M  WS10M_MAX  WS10M_MIN  WS10M_RANGE  \\\n0           7.61       9.90  13.04   3.44       4.77       1.99         2.78   \n1          -3.74      12.43   3.45   2.93       4.45       1.90         2.55   \n2          -6.08      16.48   0.54   1.23       2.28       0.19         2.09   \n3           0.18      13.80   4.16   1.64       2.30       0.72         1.58   \n4           2.27       8.15   6.39   1.82       2.84       0.13         2.70   \n...          ...        ...    ...    ...        ...        ...          ...   \n2271943   -10.35       5.83  -9.06   3.48       4.97       1.72         3.25   \n2271944   -11.53       9.58 -10.04   2.96       5.31       1.86         3.45   \n2271945   -15.59      12.52 -11.64   2.99       4.06       1.63         2.43   \n2271946   -13.37      10.71 -10.99   1.75       2.86       0.80         2.06   \n2271947   -13.94       8.63 -11.93   1.21       2.03       0.34         1.69   \n\n         WS50M  WS50M_MAX  WS50M_MIN  WS50M_RANGE  \n0         6.22       8.63       3.25         5.38  \n1         5.47       6.77       4.59         2.18  \n2         2.32       4.72       0.23         4.49  \n3         2.51       3.74       1.22         2.52  \n4         3.49       5.89       0.21         5.68  \n...        ...        ...        ...          ...  \n2271943   4.51       5.77       2.93         2.84  \n2271944   4.41       6.46       2.97         3.49  \n2271945   4.43       5.41       2.67         2.74  \n2271946   2.52       4.82       0.83         3.99  \n2271947   1.56       2.24       0.45         1.80  \n\n[2271948 rows x 20 columns]",
            "text/html": "<div>\n<style scoped>\n    .dataframe tbody tr th:only-of-type {\n        vertical-align: middle;\n    }\n\n    .dataframe tbody tr th {\n        vertical-align: top;\n    }\n\n    .dataframe thead th {\n        text-align: right;\n    }\n</style>\n<table border=\"1\" class=\"dataframe\">\n  <thead>\n    <tr style=\"text-align: right;\">\n      <th></th>\n      <th>Year</th>\n      <th>Month</th>\n      <th>Day</th>\n      <th>PS</th>\n      <th>QV2M</th>\n      <th>T2M</th>\n      <th>T2MDEW</th>\n      <th>T2MWET</th>\n      <th>T2M_MAX</th>\n      <th>T2M_MIN</th>\n      <th>T2M_RANGE</th>\n      <th>TS</th>\n      <th>WS10M</th>\n      <th>WS10M_MAX</th>\n      <th>WS10M_MIN</th>\n      <th>WS10M_RANGE</th>\n      <th>WS50M</th>\n      <th>WS50M_MAX</th>\n      <th>WS50M_MIN</th>\n      <th>WS50M_RANGE</th>\n    </tr>\n  </thead>\n  <tbody>\n    <tr>\n      <th>0</th>\n      <td>2011</td>\n      <td>1</td>\n      <td>1</td>\n      <td>100.10</td>\n      <td>8.99</td>\n      <td>13.17</td>\n      <td>12.08</td>\n      <td>12.08</td>\n      <td>17.51</td>\n      <td>7.61</td>\n      <td>9.90</td>\n      <td>13.04</td>\n      <td>3.44</td>\n      <td>4.77</td>\n      <td>1.99</td>\n      <td>2.78</td>\n      <td>6.22</td>\n      <td>8.63</td>\n      <td>3.25</td>\n      <td>5.38</td>\n    </tr>\n    <tr>\n      <th>1</th>\n      <td>2011</td>\n      <td>1</td>\n      <td>2</td>\n      <td>100.85</td>\n      <td>3.34</td>\n      <td>3.48</td>\n      <td>-2.08</td>\n      <td>-2.01</td>\n      <td>8.69</td>\n      <td>-3.74</td>\n      <td>12.43</td>\n      <td>3.45</td>\n      <td>2.93</td>\n      <td>4.45</td>\n      <td>1.90</td>\n      <td>2.55</td>\n      <td>5.47</td>\n      <td>6.77</td>\n      <td>4.59</td>\n      <td>2.18</td>\n    </tr>\n    <tr>\n      <th>2</th>\n      <td>2011</td>\n      <td>1</td>\n      <td>3</td>\n      <td>100.93</td>\n      <td>2.60</td>\n      <td>2.19</td>\n      <td>-5.02</td>\n      <td>-4.91</td>\n      <td>10.40</td>\n      <td>-6.08</td>\n      <td>16.48</td>\n      <td>0.54</td>\n      <td>1.23</td>\n      <td>2.28</td>\n      <td>0.19</td>\n      <td>2.09</td>\n      <td>2.32</td>\n      <td>4.72</td>\n      <td>0.23</td>\n      <td>4.49</td>\n    </tr>\n    <tr>\n      <th>3</th>\n      <td>2011</td>\n      <td>1</td>\n      <td>4</td>\n      <td>100.53</td>\n      <td>3.67</td>\n      <td>6.28</td>\n      <td>-0.59</td>\n      <td>-0.55</td>\n      <td>13.98</td>\n      <td>0.18</td>\n      <td>13.80</td>\n      <td>4.16</td>\n      <td>1.64</td>\n      <td>2.30</td>\n      <td>0.72</td>\n      <td>1.58</td>\n      <td>2.51</td>\n      <td>3.74</td>\n      <td>1.22</td>\n      <td>2.52</td>\n    </tr>\n    <tr>\n      <th>4</th>\n      <td>2011</td>\n      <td>1</td>\n      <td>5</td>\n      <td>99.86</td>\n      <td>5.88</td>\n      <td>6.97</td>\n      <td>5.78</td>\n      <td>5.79</td>\n      <td>10.42</td>\n      <td>2.27</td>\n      <td>8.15</td>\n      <td>6.39</td>\n      <td>1.82</td>\n      <td>2.84</td>\n      <td>0.13</td>\n      <td>2.70</td>\n      <td>3.49</td>\n      <td>5.89</td>\n      <td>0.21</td>\n      <td>5.68</td>\n    </tr>\n    <tr>\n      <th>...</th>\n      <td>...</td>\n      <td>...</td>\n      <td>...</td>\n      <td>...</td>\n      <td>...</td>\n      <td>...</td>\n      <td>...</td>\n      <td>...</td>\n      <td>...</td>\n      <td>...</td>\n      <td>...</td>\n      <td>...</td>\n      <td>...</td>\n      <td>...</td>\n      <td>...</td>\n      <td>...</td>\n      <td>...</td>\n      <td>...</td>\n      <td>...</td>\n      <td>...</td>\n    </tr>\n    <tr>\n      <th>2271943</th>\n      <td>2012</td>\n      <td>12</td>\n      <td>27</td>\n      <td>82.23</td>\n      <td>1.76</td>\n      <td>-8.43</td>\n      <td>-11.79</td>\n      <td>-11.67</td>\n      <td>-4.52</td>\n      <td>-10.35</td>\n      <td>5.83</td>\n      <td>-9.06</td>\n      <td>3.48</td>\n      <td>4.97</td>\n      <td>1.72</td>\n      <td>3.25</td>\n      <td>4.51</td>\n      <td>5.77</td>\n      <td>2.93</td>\n      <td>2.84</td>\n    </tr>\n    <tr>\n      <th>2271944</th>\n      <td>2012</td>\n      <td>12</td>\n      <td>28</td>\n      <td>82.80</td>\n      <td>1.53</td>\n      <td>-8.00</td>\n      <td>-13.29</td>\n      <td>-13.07</td>\n      <td>-1.95</td>\n      <td>-11.53</td>\n      <td>9.58</td>\n      <td>-10.04</td>\n      <td>2.96</td>\n      <td>5.31</td>\n      <td>1.86</td>\n      <td>3.45</td>\n      <td>4.41</td>\n      <td>6.46</td>\n      <td>2.97</td>\n      <td>3.49</td>\n    </tr>\n    <tr>\n      <th>2271945</th>\n      <td>2012</td>\n      <td>12</td>\n      <td>29</td>\n      <td>82.92</td>\n      <td>1.29</td>\n      <td>-10.03</td>\n      <td>-15.05</td>\n      <td>-14.77</td>\n      <td>-3.07</td>\n      <td>-15.59</td>\n      <td>12.52</td>\n      <td>-11.64</td>\n      <td>2.99</td>\n      <td>4.06</td>\n      <td>1.63</td>\n      <td>2.43</td>\n      <td>4.43</td>\n      <td>5.41</td>\n      <td>2.67</td>\n      <td>2.74</td>\n    </tr>\n    <tr>\n      <th>2271946</th>\n      <td>2012</td>\n      <td>12</td>\n      <td>30</td>\n      <td>82.83</td>\n      <td>1.37</td>\n      <td>-9.48</td>\n      <td>-14.42</td>\n      <td>-14.16</td>\n      <td>-2.66</td>\n      <td>-13.37</td>\n      <td>10.71</td>\n      <td>-10.99</td>\n      <td>1.75</td>\n      <td>2.86</td>\n      <td>0.80</td>\n      <td>2.06</td>\n      <td>2.52</td>\n      <td>4.82</td>\n      <td>0.83</td>\n      <td>3.99</td>\n    </tr>\n    <tr>\n      <th>2271947</th>\n      <td>2012</td>\n      <td>12</td>\n      <td>31</td>\n      <td>82.83</td>\n      <td>1.43</td>\n      <td>-10.20</td>\n      <td>-13.99</td>\n      <td>-13.80</td>\n      <td>-5.31</td>\n      <td>-13.94</td>\n      <td>8.63</td>\n      <td>-11.93</td>\n      <td>1.21</td>\n      <td>2.03</td>\n      <td>0.34</td>\n      <td>1.69</td>\n      <td>1.56</td>\n      <td>2.24</td>\n      <td>0.45</td>\n      <td>1.80</td>\n    </tr>\n  </tbody>\n</table>\n<p>2271948 rows × 20 columns</p>\n</div>"
          },
          "execution_count": 25,
          "metadata": {},
          "output_type": "execute_result"
        }
      ],
      "source": [
        "dynamic_test = test[dynamic_columns] #seperate dynamic features\n",
        "dynamic_test"
      ],
      "metadata": {
        "ExecuteTime": {
          "end_time": "2023-10-22T14:01:21.820326Z",
          "start_time": "2023-10-22T14:01:21.579323200Z"
        },
        "id": "632e314e4f71404a",
        "outputId": "033c207c-0896-4213-926e-4e39d1a0e3e9"
      },
      "id": "632e314e4f71404a"
    },
    {
      "cell_type": "code",
      "execution_count": null,
      "outputs": [
        {
          "data": {
            "text/plain": "           fips        lat         lon  elevation  slope1  slope2  slope3  \\\n0          1001  32.536382  -86.644490         63  0.0419  0.2788  0.2984   \n1          1001  32.536382  -86.644490         63  0.0419  0.2788  0.2984   \n2          1001  32.536382  -86.644490         63  0.0419  0.2788  0.2984   \n3          1001  32.536382  -86.644490         63  0.0419  0.2788  0.2984   \n4          1001  32.536382  -86.644490         63  0.0419  0.2788  0.2984   \n...         ...        ...         ...        ...     ...     ...     ...   \n10219099  56043  43.878831 -107.669052       1417  0.0034  0.0470  0.2331   \n10219100  56043  43.878831 -107.669052       1417  0.0034  0.0470  0.2331   \n10219101  56043  43.878831 -107.669052       1417  0.0034  0.0470  0.2331   \n10219102  56043  43.878831 -107.669052       1417  0.0034  0.0470  0.2331   \n10219103  56043  43.878831 -107.669052       1417  0.0034  0.0470  0.2331   \n\n          slope4  slope5  slope6  ...  CULTRF_LAND  CULTIR_LAND  CULT_LAND  \\\n0         0.2497  0.1142  0.0170  ...    56.293411     1.014811  57.308224   \n1         0.2497  0.1142  0.0170  ...    56.293411     1.014811  57.308224   \n2         0.2497  0.1142  0.0170  ...    56.293411     1.014811  57.308224   \n3         0.2497  0.1142  0.0170  ...    56.293411     1.014811  57.308224   \n4         0.2497  0.1142  0.0170  ...    56.293411     1.014811  57.308224   \n...          ...     ...     ...  ...          ...          ...        ...   \n10219099  0.4099  0.2064  0.0999  ...     0.000000     0.000000   0.000000   \n10219100  0.4099  0.2064  0.0999  ...     0.000000     0.000000   0.000000   \n10219101  0.4099  0.2064  0.0999  ...     0.000000     0.000000   0.000000   \n10219102  0.4099  0.2064  0.0999  ...     0.000000     0.000000   0.000000   \n10219103  0.4099  0.2064  0.0999  ...     0.000000     0.000000   0.000000   \n\n          SQ1  SQ2  SQ3  SQ4  SQ5  SQ6  SQ7  \n0           1    1    1    1    1    1    2  \n1           1    1    1    1    1    1    2  \n2           1    1    1    1    1    1    2  \n3           1    1    1    1    1    1    2  \n4           1    1    1    1    1    1    2  \n...       ...  ...  ...  ...  ...  ...  ...  \n10219099    1    1    1    1    1    1    1  \n10219100    1    1    1    1    1    1    1  \n10219101    1    1    1    1    1    1    1  \n10219102    1    1    1    1    1    1    1  \n10219103    1    1    1    1    1    1    1  \n\n[10219104 rows x 32 columns]",
            "text/html": "<div>\n<style scoped>\n    .dataframe tbody tr th:only-of-type {\n        vertical-align: middle;\n    }\n\n    .dataframe tbody tr th {\n        vertical-align: top;\n    }\n\n    .dataframe thead th {\n        text-align: right;\n    }\n</style>\n<table border=\"1\" class=\"dataframe\">\n  <thead>\n    <tr style=\"text-align: right;\">\n      <th></th>\n      <th>fips</th>\n      <th>lat</th>\n      <th>lon</th>\n      <th>elevation</th>\n      <th>slope1</th>\n      <th>slope2</th>\n      <th>slope3</th>\n      <th>slope4</th>\n      <th>slope5</th>\n      <th>slope6</th>\n      <th>...</th>\n      <th>CULTRF_LAND</th>\n      <th>CULTIR_LAND</th>\n      <th>CULT_LAND</th>\n      <th>SQ1</th>\n      <th>SQ2</th>\n      <th>SQ3</th>\n      <th>SQ4</th>\n      <th>SQ5</th>\n      <th>SQ6</th>\n      <th>SQ7</th>\n    </tr>\n  </thead>\n  <tbody>\n    <tr>\n      <th>0</th>\n      <td>1001</td>\n      <td>32.536382</td>\n      <td>-86.644490</td>\n      <td>63</td>\n      <td>0.0419</td>\n      <td>0.2788</td>\n      <td>0.2984</td>\n      <td>0.2497</td>\n      <td>0.1142</td>\n      <td>0.0170</td>\n      <td>...</td>\n      <td>56.293411</td>\n      <td>1.014811</td>\n      <td>57.308224</td>\n      <td>1</td>\n      <td>1</td>\n      <td>1</td>\n      <td>1</td>\n      <td>1</td>\n      <td>1</td>\n      <td>2</td>\n    </tr>\n    <tr>\n      <th>1</th>\n      <td>1001</td>\n      <td>32.536382</td>\n      <td>-86.644490</td>\n      <td>63</td>\n      <td>0.0419</td>\n      <td>0.2788</td>\n      <td>0.2984</td>\n      <td>0.2497</td>\n      <td>0.1142</td>\n      <td>0.0170</td>\n      <td>...</td>\n      <td>56.293411</td>\n      <td>1.014811</td>\n      <td>57.308224</td>\n      <td>1</td>\n      <td>1</td>\n      <td>1</td>\n      <td>1</td>\n      <td>1</td>\n      <td>1</td>\n      <td>2</td>\n    </tr>\n    <tr>\n      <th>2</th>\n      <td>1001</td>\n      <td>32.536382</td>\n      <td>-86.644490</td>\n      <td>63</td>\n      <td>0.0419</td>\n      <td>0.2788</td>\n      <td>0.2984</td>\n      <td>0.2497</td>\n      <td>0.1142</td>\n      <td>0.0170</td>\n      <td>...</td>\n      <td>56.293411</td>\n      <td>1.014811</td>\n      <td>57.308224</td>\n      <td>1</td>\n      <td>1</td>\n      <td>1</td>\n      <td>1</td>\n      <td>1</td>\n      <td>1</td>\n      <td>2</td>\n    </tr>\n    <tr>\n      <th>3</th>\n      <td>1001</td>\n      <td>32.536382</td>\n      <td>-86.644490</td>\n      <td>63</td>\n      <td>0.0419</td>\n      <td>0.2788</td>\n      <td>0.2984</td>\n      <td>0.2497</td>\n      <td>0.1142</td>\n      <td>0.0170</td>\n      <td>...</td>\n      <td>56.293411</td>\n      <td>1.014811</td>\n      <td>57.308224</td>\n      <td>1</td>\n      <td>1</td>\n      <td>1</td>\n      <td>1</td>\n      <td>1</td>\n      <td>1</td>\n      <td>2</td>\n    </tr>\n    <tr>\n      <th>4</th>\n      <td>1001</td>\n      <td>32.536382</td>\n      <td>-86.644490</td>\n      <td>63</td>\n      <td>0.0419</td>\n      <td>0.2788</td>\n      <td>0.2984</td>\n      <td>0.2497</td>\n      <td>0.1142</td>\n      <td>0.0170</td>\n      <td>...</td>\n      <td>56.293411</td>\n      <td>1.014811</td>\n      <td>57.308224</td>\n      <td>1</td>\n      <td>1</td>\n      <td>1</td>\n      <td>1</td>\n      <td>1</td>\n      <td>1</td>\n      <td>2</td>\n    </tr>\n    <tr>\n      <th>...</th>\n      <td>...</td>\n      <td>...</td>\n      <td>...</td>\n      <td>...</td>\n      <td>...</td>\n      <td>...</td>\n      <td>...</td>\n      <td>...</td>\n      <td>...</td>\n      <td>...</td>\n      <td>...</td>\n      <td>...</td>\n      <td>...</td>\n      <td>...</td>\n      <td>...</td>\n      <td>...</td>\n      <td>...</td>\n      <td>...</td>\n      <td>...</td>\n      <td>...</td>\n      <td>...</td>\n    </tr>\n    <tr>\n      <th>10219099</th>\n      <td>56043</td>\n      <td>43.878831</td>\n      <td>-107.669052</td>\n      <td>1417</td>\n      <td>0.0034</td>\n      <td>0.0470</td>\n      <td>0.2331</td>\n      <td>0.4099</td>\n      <td>0.2064</td>\n      <td>0.0999</td>\n      <td>...</td>\n      <td>0.000000</td>\n      <td>0.000000</td>\n      <td>0.000000</td>\n      <td>1</td>\n      <td>1</td>\n      <td>1</td>\n      <td>1</td>\n      <td>1</td>\n      <td>1</td>\n      <td>1</td>\n    </tr>\n    <tr>\n      <th>10219100</th>\n      <td>56043</td>\n      <td>43.878831</td>\n      <td>-107.669052</td>\n      <td>1417</td>\n      <td>0.0034</td>\n      <td>0.0470</td>\n      <td>0.2331</td>\n      <td>0.4099</td>\n      <td>0.2064</td>\n      <td>0.0999</td>\n      <td>...</td>\n      <td>0.000000</td>\n      <td>0.000000</td>\n      <td>0.000000</td>\n      <td>1</td>\n      <td>1</td>\n      <td>1</td>\n      <td>1</td>\n      <td>1</td>\n      <td>1</td>\n      <td>1</td>\n    </tr>\n    <tr>\n      <th>10219101</th>\n      <td>56043</td>\n      <td>43.878831</td>\n      <td>-107.669052</td>\n      <td>1417</td>\n      <td>0.0034</td>\n      <td>0.0470</td>\n      <td>0.2331</td>\n      <td>0.4099</td>\n      <td>0.2064</td>\n      <td>0.0999</td>\n      <td>...</td>\n      <td>0.000000</td>\n      <td>0.000000</td>\n      <td>0.000000</td>\n      <td>1</td>\n      <td>1</td>\n      <td>1</td>\n      <td>1</td>\n      <td>1</td>\n      <td>1</td>\n      <td>1</td>\n    </tr>\n    <tr>\n      <th>10219102</th>\n      <td>56043</td>\n      <td>43.878831</td>\n      <td>-107.669052</td>\n      <td>1417</td>\n      <td>0.0034</td>\n      <td>0.0470</td>\n      <td>0.2331</td>\n      <td>0.4099</td>\n      <td>0.2064</td>\n      <td>0.0999</td>\n      <td>...</td>\n      <td>0.000000</td>\n      <td>0.000000</td>\n      <td>0.000000</td>\n      <td>1</td>\n      <td>1</td>\n      <td>1</td>\n      <td>1</td>\n      <td>1</td>\n      <td>1</td>\n      <td>1</td>\n    </tr>\n    <tr>\n      <th>10219103</th>\n      <td>56043</td>\n      <td>43.878831</td>\n      <td>-107.669052</td>\n      <td>1417</td>\n      <td>0.0034</td>\n      <td>0.0470</td>\n      <td>0.2331</td>\n      <td>0.4099</td>\n      <td>0.2064</td>\n      <td>0.0999</td>\n      <td>...</td>\n      <td>0.000000</td>\n      <td>0.000000</td>\n      <td>0.000000</td>\n      <td>1</td>\n      <td>1</td>\n      <td>1</td>\n      <td>1</td>\n      <td>1</td>\n      <td>1</td>\n      <td>1</td>\n    </tr>\n  </tbody>\n</table>\n<p>10219104 rows × 32 columns</p>\n</div>"
          },
          "execution_count": 26,
          "metadata": {},
          "output_type": "execute_result"
        }
      ],
      "source": [
        "static_train = train.drop(columns=dynamic_columns) #seperate static features\n",
        "static_train"
      ],
      "metadata": {
        "ExecuteTime": {
          "end_time": "2023-10-22T14:01:27.744323900Z",
          "start_time": "2023-10-22T14:01:21.730323Z"
        },
        "id": "641f270f12320826",
        "outputId": "fcf8ff79-e5b7-4505-965a-ad1be5e48711"
      },
      "id": "641f270f12320826"
    },
    {
      "cell_type": "code",
      "execution_count": null,
      "outputs": [
        {
          "data": {
            "text/plain": "          fips        lat         lon  elevation  slope1  slope2  slope3  \\\n0         1001  32.536382  -86.644490         63  0.0419  0.2788  0.2984   \n1         1001  32.536382  -86.644490         63  0.0419  0.2788  0.2984   \n2         1001  32.536382  -86.644490         63  0.0419  0.2788  0.2984   \n3         1001  32.536382  -86.644490         63  0.0419  0.2788  0.2984   \n4         1001  32.536382  -86.644490         63  0.0419  0.2788  0.2984   \n...        ...        ...         ...        ...     ...     ...     ...   \n2268835  56043  43.878831 -107.669052       1417  0.0034  0.0470  0.2331   \n2268836  56043  43.878831 -107.669052       1417  0.0034  0.0470  0.2331   \n2268837  56043  43.878831 -107.669052       1417  0.0034  0.0470  0.2331   \n2268838  56043  43.878831 -107.669052       1417  0.0034  0.0470  0.2331   \n2268839  56043  43.878831 -107.669052       1417  0.0034  0.0470  0.2331   \n\n         slope4  slope5  slope6  ...  CULTRF_LAND  CULTIR_LAND  CULT_LAND  \\\n0        0.2497  0.1142  0.0170  ...    56.293411     1.014811  57.308224   \n1        0.2497  0.1142  0.0170  ...    56.293411     1.014811  57.308224   \n2        0.2497  0.1142  0.0170  ...    56.293411     1.014811  57.308224   \n3        0.2497  0.1142  0.0170  ...    56.293411     1.014811  57.308224   \n4        0.2497  0.1142  0.0170  ...    56.293411     1.014811  57.308224   \n...         ...     ...     ...  ...          ...          ...        ...   \n2268835  0.4099  0.2064  0.0999  ...     0.000000     0.000000   0.000000   \n2268836  0.4099  0.2064  0.0999  ...     0.000000     0.000000   0.000000   \n2268837  0.4099  0.2064  0.0999  ...     0.000000     0.000000   0.000000   \n2268838  0.4099  0.2064  0.0999  ...     0.000000     0.000000   0.000000   \n2268839  0.4099  0.2064  0.0999  ...     0.000000     0.000000   0.000000   \n\n         SQ1  SQ2  SQ3  SQ4  SQ5  SQ6  SQ7  \n0          1    1    1    1    1    1    2  \n1          1    1    1    1    1    1    2  \n2          1    1    1    1    1    1    2  \n3          1    1    1    1    1    1    2  \n4          1    1    1    1    1    1    2  \n...      ...  ...  ...  ...  ...  ...  ...  \n2268835    1    1    1    1    1    1    1  \n2268836    1    1    1    1    1    1    1  \n2268837    1    1    1    1    1    1    1  \n2268838    1    1    1    1    1    1    1  \n2268839    1    1    1    1    1    1    1  \n\n[2268840 rows x 32 columns]",
            "text/html": "<div>\n<style scoped>\n    .dataframe tbody tr th:only-of-type {\n        vertical-align: middle;\n    }\n\n    .dataframe tbody tr th {\n        vertical-align: top;\n    }\n\n    .dataframe thead th {\n        text-align: right;\n    }\n</style>\n<table border=\"1\" class=\"dataframe\">\n  <thead>\n    <tr style=\"text-align: right;\">\n      <th></th>\n      <th>fips</th>\n      <th>lat</th>\n      <th>lon</th>\n      <th>elevation</th>\n      <th>slope1</th>\n      <th>slope2</th>\n      <th>slope3</th>\n      <th>slope4</th>\n      <th>slope5</th>\n      <th>slope6</th>\n      <th>...</th>\n      <th>CULTRF_LAND</th>\n      <th>CULTIR_LAND</th>\n      <th>CULT_LAND</th>\n      <th>SQ1</th>\n      <th>SQ2</th>\n      <th>SQ3</th>\n      <th>SQ4</th>\n      <th>SQ5</th>\n      <th>SQ6</th>\n      <th>SQ7</th>\n    </tr>\n  </thead>\n  <tbody>\n    <tr>\n      <th>0</th>\n      <td>1001</td>\n      <td>32.536382</td>\n      <td>-86.644490</td>\n      <td>63</td>\n      <td>0.0419</td>\n      <td>0.2788</td>\n      <td>0.2984</td>\n      <td>0.2497</td>\n      <td>0.1142</td>\n      <td>0.0170</td>\n      <td>...</td>\n      <td>56.293411</td>\n      <td>1.014811</td>\n      <td>57.308224</td>\n      <td>1</td>\n      <td>1</td>\n      <td>1</td>\n      <td>1</td>\n      <td>1</td>\n      <td>1</td>\n      <td>2</td>\n    </tr>\n    <tr>\n      <th>1</th>\n      <td>1001</td>\n      <td>32.536382</td>\n      <td>-86.644490</td>\n      <td>63</td>\n      <td>0.0419</td>\n      <td>0.2788</td>\n      <td>0.2984</td>\n      <td>0.2497</td>\n      <td>0.1142</td>\n      <td>0.0170</td>\n      <td>...</td>\n      <td>56.293411</td>\n      <td>1.014811</td>\n      <td>57.308224</td>\n      <td>1</td>\n      <td>1</td>\n      <td>1</td>\n      <td>1</td>\n      <td>1</td>\n      <td>1</td>\n      <td>2</td>\n    </tr>\n    <tr>\n      <th>2</th>\n      <td>1001</td>\n      <td>32.536382</td>\n      <td>-86.644490</td>\n      <td>63</td>\n      <td>0.0419</td>\n      <td>0.2788</td>\n      <td>0.2984</td>\n      <td>0.2497</td>\n      <td>0.1142</td>\n      <td>0.0170</td>\n      <td>...</td>\n      <td>56.293411</td>\n      <td>1.014811</td>\n      <td>57.308224</td>\n      <td>1</td>\n      <td>1</td>\n      <td>1</td>\n      <td>1</td>\n      <td>1</td>\n      <td>1</td>\n      <td>2</td>\n    </tr>\n    <tr>\n      <th>3</th>\n      <td>1001</td>\n      <td>32.536382</td>\n      <td>-86.644490</td>\n      <td>63</td>\n      <td>0.0419</td>\n      <td>0.2788</td>\n      <td>0.2984</td>\n      <td>0.2497</td>\n      <td>0.1142</td>\n      <td>0.0170</td>\n      <td>...</td>\n      <td>56.293411</td>\n      <td>1.014811</td>\n      <td>57.308224</td>\n      <td>1</td>\n      <td>1</td>\n      <td>1</td>\n      <td>1</td>\n      <td>1</td>\n      <td>1</td>\n      <td>2</td>\n    </tr>\n    <tr>\n      <th>4</th>\n      <td>1001</td>\n      <td>32.536382</td>\n      <td>-86.644490</td>\n      <td>63</td>\n      <td>0.0419</td>\n      <td>0.2788</td>\n      <td>0.2984</td>\n      <td>0.2497</td>\n      <td>0.1142</td>\n      <td>0.0170</td>\n      <td>...</td>\n      <td>56.293411</td>\n      <td>1.014811</td>\n      <td>57.308224</td>\n      <td>1</td>\n      <td>1</td>\n      <td>1</td>\n      <td>1</td>\n      <td>1</td>\n      <td>1</td>\n      <td>2</td>\n    </tr>\n    <tr>\n      <th>...</th>\n      <td>...</td>\n      <td>...</td>\n      <td>...</td>\n      <td>...</td>\n      <td>...</td>\n      <td>...</td>\n      <td>...</td>\n      <td>...</td>\n      <td>...</td>\n      <td>...</td>\n      <td>...</td>\n      <td>...</td>\n      <td>...</td>\n      <td>...</td>\n      <td>...</td>\n      <td>...</td>\n      <td>...</td>\n      <td>...</td>\n      <td>...</td>\n      <td>...</td>\n      <td>...</td>\n    </tr>\n    <tr>\n      <th>2268835</th>\n      <td>56043</td>\n      <td>43.878831</td>\n      <td>-107.669052</td>\n      <td>1417</td>\n      <td>0.0034</td>\n      <td>0.0470</td>\n      <td>0.2331</td>\n      <td>0.4099</td>\n      <td>0.2064</td>\n      <td>0.0999</td>\n      <td>...</td>\n      <td>0.000000</td>\n      <td>0.000000</td>\n      <td>0.000000</td>\n      <td>1</td>\n      <td>1</td>\n      <td>1</td>\n      <td>1</td>\n      <td>1</td>\n      <td>1</td>\n      <td>1</td>\n    </tr>\n    <tr>\n      <th>2268836</th>\n      <td>56043</td>\n      <td>43.878831</td>\n      <td>-107.669052</td>\n      <td>1417</td>\n      <td>0.0034</td>\n      <td>0.0470</td>\n      <td>0.2331</td>\n      <td>0.4099</td>\n      <td>0.2064</td>\n      <td>0.0999</td>\n      <td>...</td>\n      <td>0.000000</td>\n      <td>0.000000</td>\n      <td>0.000000</td>\n      <td>1</td>\n      <td>1</td>\n      <td>1</td>\n      <td>1</td>\n      <td>1</td>\n      <td>1</td>\n      <td>1</td>\n    </tr>\n    <tr>\n      <th>2268837</th>\n      <td>56043</td>\n      <td>43.878831</td>\n      <td>-107.669052</td>\n      <td>1417</td>\n      <td>0.0034</td>\n      <td>0.0470</td>\n      <td>0.2331</td>\n      <td>0.4099</td>\n      <td>0.2064</td>\n      <td>0.0999</td>\n      <td>...</td>\n      <td>0.000000</td>\n      <td>0.000000</td>\n      <td>0.000000</td>\n      <td>1</td>\n      <td>1</td>\n      <td>1</td>\n      <td>1</td>\n      <td>1</td>\n      <td>1</td>\n      <td>1</td>\n    </tr>\n    <tr>\n      <th>2268838</th>\n      <td>56043</td>\n      <td>43.878831</td>\n      <td>-107.669052</td>\n      <td>1417</td>\n      <td>0.0034</td>\n      <td>0.0470</td>\n      <td>0.2331</td>\n      <td>0.4099</td>\n      <td>0.2064</td>\n      <td>0.0999</td>\n      <td>...</td>\n      <td>0.000000</td>\n      <td>0.000000</td>\n      <td>0.000000</td>\n      <td>1</td>\n      <td>1</td>\n      <td>1</td>\n      <td>1</td>\n      <td>1</td>\n      <td>1</td>\n      <td>1</td>\n    </tr>\n    <tr>\n      <th>2268839</th>\n      <td>56043</td>\n      <td>43.878831</td>\n      <td>-107.669052</td>\n      <td>1417</td>\n      <td>0.0034</td>\n      <td>0.0470</td>\n      <td>0.2331</td>\n      <td>0.4099</td>\n      <td>0.2064</td>\n      <td>0.0999</td>\n      <td>...</td>\n      <td>0.000000</td>\n      <td>0.000000</td>\n      <td>0.000000</td>\n      <td>1</td>\n      <td>1</td>\n      <td>1</td>\n      <td>1</td>\n      <td>1</td>\n      <td>1</td>\n      <td>1</td>\n    </tr>\n  </tbody>\n</table>\n<p>2268840 rows × 32 columns</p>\n</div>"
          },
          "execution_count": 27,
          "metadata": {},
          "output_type": "execute_result"
        }
      ],
      "source": [
        "static_valid = validation.drop(columns=dynamic_columns) #seperate static features\n",
        "static_valid"
      ],
      "metadata": {
        "ExecuteTime": {
          "end_time": "2023-10-22T14:01:28.345323600Z",
          "start_time": "2023-10-22T14:01:27.731326400Z"
        },
        "id": "33ce86b57eb256f3",
        "outputId": "23b18ed9-f913-4c20-d07d-f3665bc66800"
      },
      "id": "33ce86b57eb256f3"
    },
    {
      "cell_type": "code",
      "execution_count": null,
      "outputs": [
        {
          "data": {
            "text/plain": "          fips        lat         lon  elevation  slope1  slope2  slope3  \\\n0         1001  32.536382  -86.644490         63  0.0419  0.2788  0.2984   \n1         1001  32.536382  -86.644490         63  0.0419  0.2788  0.2984   \n2         1001  32.536382  -86.644490         63  0.0419  0.2788  0.2984   \n3         1001  32.536382  -86.644490         63  0.0419  0.2788  0.2984   \n4         1001  32.536382  -86.644490         63  0.0419  0.2788  0.2984   \n...        ...        ...         ...        ...     ...     ...     ...   \n2271943  56043  43.878831 -107.669052       1417  0.0034  0.0470  0.2331   \n2271944  56043  43.878831 -107.669052       1417  0.0034  0.0470  0.2331   \n2271945  56043  43.878831 -107.669052       1417  0.0034  0.0470  0.2331   \n2271946  56043  43.878831 -107.669052       1417  0.0034  0.0470  0.2331   \n2271947  56043  43.878831 -107.669052       1417  0.0034  0.0470  0.2331   \n\n         slope4  slope5  slope6  ...  CULTRF_LAND  CULTIR_LAND  CULT_LAND  \\\n0        0.2497  0.1142  0.0170  ...    56.293411     1.014811  57.308224   \n1        0.2497  0.1142  0.0170  ...    56.293411     1.014811  57.308224   \n2        0.2497  0.1142  0.0170  ...    56.293411     1.014811  57.308224   \n3        0.2497  0.1142  0.0170  ...    56.293411     1.014811  57.308224   \n4        0.2497  0.1142  0.0170  ...    56.293411     1.014811  57.308224   \n...         ...     ...     ...  ...          ...          ...        ...   \n2271943  0.4099  0.2064  0.0999  ...     0.000000     0.000000   0.000000   \n2271944  0.4099  0.2064  0.0999  ...     0.000000     0.000000   0.000000   \n2271945  0.4099  0.2064  0.0999  ...     0.000000     0.000000   0.000000   \n2271946  0.4099  0.2064  0.0999  ...     0.000000     0.000000   0.000000   \n2271947  0.4099  0.2064  0.0999  ...     0.000000     0.000000   0.000000   \n\n         SQ1  SQ2  SQ3  SQ4  SQ5  SQ6  SQ7  \n0          1    1    1    1    1    1    2  \n1          1    1    1    1    1    1    2  \n2          1    1    1    1    1    1    2  \n3          1    1    1    1    1    1    2  \n4          1    1    1    1    1    1    2  \n...      ...  ...  ...  ...  ...  ...  ...  \n2271943    1    1    1    1    1    1    1  \n2271944    1    1    1    1    1    1    1  \n2271945    1    1    1    1    1    1    1  \n2271946    1    1    1    1    1    1    1  \n2271947    1    1    1    1    1    1    1  \n\n[2271948 rows x 32 columns]",
            "text/html": "<div>\n<style scoped>\n    .dataframe tbody tr th:only-of-type {\n        vertical-align: middle;\n    }\n\n    .dataframe tbody tr th {\n        vertical-align: top;\n    }\n\n    .dataframe thead th {\n        text-align: right;\n    }\n</style>\n<table border=\"1\" class=\"dataframe\">\n  <thead>\n    <tr style=\"text-align: right;\">\n      <th></th>\n      <th>fips</th>\n      <th>lat</th>\n      <th>lon</th>\n      <th>elevation</th>\n      <th>slope1</th>\n      <th>slope2</th>\n      <th>slope3</th>\n      <th>slope4</th>\n      <th>slope5</th>\n      <th>slope6</th>\n      <th>...</th>\n      <th>CULTRF_LAND</th>\n      <th>CULTIR_LAND</th>\n      <th>CULT_LAND</th>\n      <th>SQ1</th>\n      <th>SQ2</th>\n      <th>SQ3</th>\n      <th>SQ4</th>\n      <th>SQ5</th>\n      <th>SQ6</th>\n      <th>SQ7</th>\n    </tr>\n  </thead>\n  <tbody>\n    <tr>\n      <th>0</th>\n      <td>1001</td>\n      <td>32.536382</td>\n      <td>-86.644490</td>\n      <td>63</td>\n      <td>0.0419</td>\n      <td>0.2788</td>\n      <td>0.2984</td>\n      <td>0.2497</td>\n      <td>0.1142</td>\n      <td>0.0170</td>\n      <td>...</td>\n      <td>56.293411</td>\n      <td>1.014811</td>\n      <td>57.308224</td>\n      <td>1</td>\n      <td>1</td>\n      <td>1</td>\n      <td>1</td>\n      <td>1</td>\n      <td>1</td>\n      <td>2</td>\n    </tr>\n    <tr>\n      <th>1</th>\n      <td>1001</td>\n      <td>32.536382</td>\n      <td>-86.644490</td>\n      <td>63</td>\n      <td>0.0419</td>\n      <td>0.2788</td>\n      <td>0.2984</td>\n      <td>0.2497</td>\n      <td>0.1142</td>\n      <td>0.0170</td>\n      <td>...</td>\n      <td>56.293411</td>\n      <td>1.014811</td>\n      <td>57.308224</td>\n      <td>1</td>\n      <td>1</td>\n      <td>1</td>\n      <td>1</td>\n      <td>1</td>\n      <td>1</td>\n      <td>2</td>\n    </tr>\n    <tr>\n      <th>2</th>\n      <td>1001</td>\n      <td>32.536382</td>\n      <td>-86.644490</td>\n      <td>63</td>\n      <td>0.0419</td>\n      <td>0.2788</td>\n      <td>0.2984</td>\n      <td>0.2497</td>\n      <td>0.1142</td>\n      <td>0.0170</td>\n      <td>...</td>\n      <td>56.293411</td>\n      <td>1.014811</td>\n      <td>57.308224</td>\n      <td>1</td>\n      <td>1</td>\n      <td>1</td>\n      <td>1</td>\n      <td>1</td>\n      <td>1</td>\n      <td>2</td>\n    </tr>\n    <tr>\n      <th>3</th>\n      <td>1001</td>\n      <td>32.536382</td>\n      <td>-86.644490</td>\n      <td>63</td>\n      <td>0.0419</td>\n      <td>0.2788</td>\n      <td>0.2984</td>\n      <td>0.2497</td>\n      <td>0.1142</td>\n      <td>0.0170</td>\n      <td>...</td>\n      <td>56.293411</td>\n      <td>1.014811</td>\n      <td>57.308224</td>\n      <td>1</td>\n      <td>1</td>\n      <td>1</td>\n      <td>1</td>\n      <td>1</td>\n      <td>1</td>\n      <td>2</td>\n    </tr>\n    <tr>\n      <th>4</th>\n      <td>1001</td>\n      <td>32.536382</td>\n      <td>-86.644490</td>\n      <td>63</td>\n      <td>0.0419</td>\n      <td>0.2788</td>\n      <td>0.2984</td>\n      <td>0.2497</td>\n      <td>0.1142</td>\n      <td>0.0170</td>\n      <td>...</td>\n      <td>56.293411</td>\n      <td>1.014811</td>\n      <td>57.308224</td>\n      <td>1</td>\n      <td>1</td>\n      <td>1</td>\n      <td>1</td>\n      <td>1</td>\n      <td>1</td>\n      <td>2</td>\n    </tr>\n    <tr>\n      <th>...</th>\n      <td>...</td>\n      <td>...</td>\n      <td>...</td>\n      <td>...</td>\n      <td>...</td>\n      <td>...</td>\n      <td>...</td>\n      <td>...</td>\n      <td>...</td>\n      <td>...</td>\n      <td>...</td>\n      <td>...</td>\n      <td>...</td>\n      <td>...</td>\n      <td>...</td>\n      <td>...</td>\n      <td>...</td>\n      <td>...</td>\n      <td>...</td>\n      <td>...</td>\n      <td>...</td>\n    </tr>\n    <tr>\n      <th>2271943</th>\n      <td>56043</td>\n      <td>43.878831</td>\n      <td>-107.669052</td>\n      <td>1417</td>\n      <td>0.0034</td>\n      <td>0.0470</td>\n      <td>0.2331</td>\n      <td>0.4099</td>\n      <td>0.2064</td>\n      <td>0.0999</td>\n      <td>...</td>\n      <td>0.000000</td>\n      <td>0.000000</td>\n      <td>0.000000</td>\n      <td>1</td>\n      <td>1</td>\n      <td>1</td>\n      <td>1</td>\n      <td>1</td>\n      <td>1</td>\n      <td>1</td>\n    </tr>\n    <tr>\n      <th>2271944</th>\n      <td>56043</td>\n      <td>43.878831</td>\n      <td>-107.669052</td>\n      <td>1417</td>\n      <td>0.0034</td>\n      <td>0.0470</td>\n      <td>0.2331</td>\n      <td>0.4099</td>\n      <td>0.2064</td>\n      <td>0.0999</td>\n      <td>...</td>\n      <td>0.000000</td>\n      <td>0.000000</td>\n      <td>0.000000</td>\n      <td>1</td>\n      <td>1</td>\n      <td>1</td>\n      <td>1</td>\n      <td>1</td>\n      <td>1</td>\n      <td>1</td>\n    </tr>\n    <tr>\n      <th>2271945</th>\n      <td>56043</td>\n      <td>43.878831</td>\n      <td>-107.669052</td>\n      <td>1417</td>\n      <td>0.0034</td>\n      <td>0.0470</td>\n      <td>0.2331</td>\n      <td>0.4099</td>\n      <td>0.2064</td>\n      <td>0.0999</td>\n      <td>...</td>\n      <td>0.000000</td>\n      <td>0.000000</td>\n      <td>0.000000</td>\n      <td>1</td>\n      <td>1</td>\n      <td>1</td>\n      <td>1</td>\n      <td>1</td>\n      <td>1</td>\n      <td>1</td>\n    </tr>\n    <tr>\n      <th>2271946</th>\n      <td>56043</td>\n      <td>43.878831</td>\n      <td>-107.669052</td>\n      <td>1417</td>\n      <td>0.0034</td>\n      <td>0.0470</td>\n      <td>0.2331</td>\n      <td>0.4099</td>\n      <td>0.2064</td>\n      <td>0.0999</td>\n      <td>...</td>\n      <td>0.000000</td>\n      <td>0.000000</td>\n      <td>0.000000</td>\n      <td>1</td>\n      <td>1</td>\n      <td>1</td>\n      <td>1</td>\n      <td>1</td>\n      <td>1</td>\n      <td>1</td>\n    </tr>\n    <tr>\n      <th>2271947</th>\n      <td>56043</td>\n      <td>43.878831</td>\n      <td>-107.669052</td>\n      <td>1417</td>\n      <td>0.0034</td>\n      <td>0.0470</td>\n      <td>0.2331</td>\n      <td>0.4099</td>\n      <td>0.2064</td>\n      <td>0.0999</td>\n      <td>...</td>\n      <td>0.000000</td>\n      <td>0.000000</td>\n      <td>0.000000</td>\n      <td>1</td>\n      <td>1</td>\n      <td>1</td>\n      <td>1</td>\n      <td>1</td>\n      <td>1</td>\n      <td>1</td>\n    </tr>\n  </tbody>\n</table>\n<p>2271948 rows × 32 columns</p>\n</div>"
          },
          "execution_count": 28,
          "metadata": {},
          "output_type": "execute_result"
        }
      ],
      "source": [
        "static_test = test.drop(columns=dynamic_columns)#seperate static features\n",
        "static_test"
      ],
      "metadata": {
        "ExecuteTime": {
          "end_time": "2023-10-22T14:01:28.807327700Z",
          "start_time": "2023-10-22T14:01:28.337328Z"
        },
        "id": "5a1cfc98480796b6",
        "outputId": "c1756010-5ee4-4e21-8334-e5a2ae7b7087"
      },
      "id": "5a1cfc98480796b6"
    },
    {
      "cell_type": "code",
      "execution_count": null,
      "outputs": [],
      "source": [
        "# Define the dimensions of the autoencoder\n",
        "dynamic_input_dim = dynamic_train.shape[1]\n",
        "dynamic_encoding_dim = 8"
      ],
      "metadata": {
        "ExecuteTime": {
          "end_time": "2023-10-22T14:01:28.807327700Z",
          "start_time": "2023-10-22T14:01:28.790325500Z"
        },
        "id": "c178c2beeb09f0ad"
      },
      "id": "c178c2beeb09f0ad"
    },
    {
      "cell_type": "code",
      "execution_count": null,
      "outputs": [],
      "source": [
        "# Define the autoencoder model for dynamic features\n",
        "dynamic_autoencoder = Sequential()\n",
        "dynamic_autoencoder.add(Dense(dynamic_encoding_dim, activation='relu', input_shape=(dynamic_input_dim,)))\n",
        "dynamic_autoencoder.add(Dense(dynamic_input_dim, activation='relu'))"
      ],
      "metadata": {
        "ExecuteTime": {
          "end_time": "2023-10-22T14:01:31.441186600Z",
          "start_time": "2023-10-22T14:01:28.859325600Z"
        },
        "id": "b59d750a008202b3"
      },
      "id": "b59d750a008202b3"
    },
    {
      "cell_type": "code",
      "execution_count": null,
      "outputs": [
        {
          "name": "stdout",
          "output_type": "stream",
          "text": [
            "Epoch 1/10\n",
            "319347/319347 [==============================] - 543s 2ms/step - loss: 5.7822\n",
            "Epoch 2/10\n",
            "319347/319347 [==============================] - 532s 2ms/step - loss: 5.6591\n",
            "Epoch 3/10\n",
            "319347/319347 [==============================] - 532s 2ms/step - loss: 5.6562\n",
            "Epoch 4/10\n",
            "319347/319347 [==============================] - 526s 2ms/step - loss: 5.6548\n",
            "Epoch 5/10\n",
            "319347/319347 [==============================] - 525s 2ms/step - loss: 5.5495\n",
            "Epoch 6/10\n",
            "319347/319347 [==============================] - 532s 2ms/step - loss: 5.4284\n",
            "Epoch 7/10\n",
            "319347/319347 [==============================] - 534s 2ms/step - loss: 5.1458\n",
            "Epoch 8/10\n",
            "319347/319347 [==============================] - 526s 2ms/step - loss: 5.1444\n",
            "Epoch 9/10\n",
            "319347/319347 [==============================] - 522s 2ms/step - loss: 5.1417\n",
            "Epoch 10/10\n",
            "319347/319347 [==============================] - 522s 2ms/step - loss: 5.1388\n"
          ]
        },
        {
          "data": {
            "text/plain": "<keras.callbacks.History at 0x12932f220>"
          },
          "execution_count": 31,
          "metadata": {},
          "output_type": "execute_result"
        }
      ],
      "source": [
        "# Compile and train the autoencoder for dynamic features\n",
        "dynamic_autoencoder.compile(optimizer='adam', loss='mean_absolute_error')\n",
        "dynamic_autoencoder.fit(dynamic_train, dynamic_train, epochs=10, batch_size=32)"
      ],
      "metadata": {
        "ExecuteTime": {
          "end_time": "2023-10-22T15:29:53.204426200Z",
          "start_time": "2023-10-22T14:01:31.444187200Z"
        },
        "id": "3b9d34aa26a2bdc8",
        "outputId": "6410c894-3c52-4301-d404-b7bbb5e87866"
      },
      "id": "3b9d34aa26a2bdc8"
    },
    {
      "cell_type": "code",
      "execution_count": null,
      "outputs": [
        {
          "name": "stdout",
          "output_type": "stream",
          "text": [
            "319347/319347 [==============================] - 290s 909us/step\n",
            "70902/70902 [==============================] - 63s 889us/step\n",
            "70999/70999 [==============================] - 63s 889us/step\n"
          ]
        }
      ],
      "source": [
        "dynamic_train_autoencoder = dynamic_autoencoder.predict(dynamic_train)\n",
        "dynamic_validation_autoencoder = dynamic_autoencoder.predict(dynamic_valid)\n",
        "dynamic_test_autoencoder = dynamic_autoencoder.predict(dynamic_test)"
      ],
      "metadata": {
        "ExecuteTime": {
          "end_time": "2023-10-22T15:41:25.700496400Z",
          "start_time": "2023-10-22T15:29:53.125426700Z"
        },
        "id": "26f89cff45fba164",
        "outputId": "743d30ba-7522-4ae6-fb07-bd9a39ddd660"
      },
      "id": "26f89cff45fba164"
    },
    {
      "cell_type": "code",
      "execution_count": null,
      "outputs": [],
      "source": [
        "dynamic_validation_autoencoder"
      ],
      "metadata": {
        "ExecuteTime": {
          "start_time": "2023-10-23T16:28:06.976156900Z"
        },
        "id": "64b710de1151c55d"
      },
      "id": "64b710de1151c55d"
    },
    {
      "cell_type": "code",
      "execution_count": null,
      "outputs": [],
      "source": [
        "dynamic_test_autoencoder"
      ],
      "metadata": {
        "ExecuteTime": {
          "end_time": "2023-10-23T16:28:07.004682100Z",
          "start_time": "2023-10-23T16:28:06.978161100Z"
        },
        "id": "f97927c65176f09d"
      },
      "id": "f97927c65176f09d"
    },
    {
      "cell_type": "code",
      "execution_count": null,
      "outputs": [],
      "source": [
        "dynamic_train_df = pd.DataFrame(dynamic_train_autoencoder)\n",
        "dynamic_valid_df = pd.DataFrame(dynamic_validation_autoencoder)\n",
        "dynamic_test_df = pd.DataFrame(dynamic_test_autoencoder)"
      ],
      "metadata": {
        "ExecuteTime": {
          "end_time": "2023-10-22T16:38:28.379917700Z",
          "start_time": "2023-10-22T16:38:28.367912800Z"
        },
        "id": "219f085fc4ebccfe"
      },
      "id": "219f085fc4ebccfe"
    },
    {
      "cell_type": "code",
      "execution_count": null,
      "outputs": [
        {
          "data": {
            "text/plain": "                   0    1    2           3          4          5          6   \\\n0         2000.174683  0.0  0.0  100.509735  10.254373  14.775581  13.447180   \n1         2000.184570  0.0  0.0  100.549797  10.835546  16.675438  14.660075   \n2         2000.162476  0.0  0.0  100.140724  11.783827  18.464008  16.486208   \n3         2000.227539  0.0  0.0  100.311729   6.533755  11.376548   6.205066   \n4         2000.222534  0.0  0.0  101.153282   1.926449   3.218920   0.000000   \n...               ...  ...  ...         ...        ...        ...        ...   \n10219099  2008.199219  0.0  0.0   82.264557   0.000000   0.000000   0.000000   \n10219100  2008.154907  0.0  0.0   82.785217   1.666696   0.000000   0.000000   \n10219101  2008.197510  0.0  0.0   82.762589   3.050765   0.000000   0.000000   \n10219102  2008.245117  0.0  0.0   83.239700   0.000000   0.000000   0.000000   \n10219103  2008.196411  0.0  0.0   82.574135   0.912688   0.000000   0.000000   \n\n                 7    8    9    10         11   12   13   14   15   16   17  \\\n0         13.342274  0.0  0.0  0.0  14.521126  0.0  0.0  0.0  0.0  0.0  0.0   \n1         14.554793  0.0  0.0  0.0  16.497709  0.0  0.0  0.0  0.0  0.0  0.0   \n2         16.378775  0.0  0.0  0.0  18.322374  0.0  0.0  0.0  0.0  0.0  0.0   \n3          6.113139  0.0  0.0  0.0  11.236746  0.0  0.0  0.0  0.0  0.0  0.0   \n4          0.000000  0.0  0.0  0.0   2.944411  0.0  0.0  0.0  0.0  0.0  0.0   \n...             ...  ...  ...  ...        ...  ...  ...  ...  ...  ...  ...   \n10219099   0.000000  0.0  0.0  0.0   0.000000  0.0  0.0  0.0  0.0  0.0  0.0   \n10219100   0.000000  0.0  0.0  0.0   0.000000  0.0  0.0  0.0  0.0  0.0  0.0   \n10219101   0.000000  0.0  0.0  0.0   0.000000  0.0  0.0  0.0  0.0  0.0  0.0   \n10219102   0.000000  0.0  0.0  0.0   0.000000  0.0  0.0  0.0  0.0  0.0  0.0   \n10219103   0.000000  0.0  0.0  0.0   0.000000  0.0  0.0  0.0  0.0  0.0  0.0   \n\n           18        19  \n0         0.0  3.184565  \n1         0.0  3.192181  \n2         0.0  3.108471  \n3         0.0  3.846046  \n4         0.0  4.320693  \n...       ...       ...  \n10219099  0.0  4.451045  \n10219100  0.0  4.133389  \n10219101  0.0  4.065495  \n10219102  0.0  4.723710  \n10219103  0.0  4.351692  \n\n[10219104 rows x 20 columns]",
            "text/html": "<div>\n<style scoped>\n    .dataframe tbody tr th:only-of-type {\n        vertical-align: middle;\n    }\n\n    .dataframe tbody tr th {\n        vertical-align: top;\n    }\n\n    .dataframe thead th {\n        text-align: right;\n    }\n</style>\n<table border=\"1\" class=\"dataframe\">\n  <thead>\n    <tr style=\"text-align: right;\">\n      <th></th>\n      <th>0</th>\n      <th>1</th>\n      <th>2</th>\n      <th>3</th>\n      <th>4</th>\n      <th>5</th>\n      <th>6</th>\n      <th>7</th>\n      <th>8</th>\n      <th>9</th>\n      <th>10</th>\n      <th>11</th>\n      <th>12</th>\n      <th>13</th>\n      <th>14</th>\n      <th>15</th>\n      <th>16</th>\n      <th>17</th>\n      <th>18</th>\n      <th>19</th>\n    </tr>\n  </thead>\n  <tbody>\n    <tr>\n      <th>0</th>\n      <td>2000.174683</td>\n      <td>0.0</td>\n      <td>0.0</td>\n      <td>100.509735</td>\n      <td>10.254373</td>\n      <td>14.775581</td>\n      <td>13.447180</td>\n      <td>13.342274</td>\n      <td>0.0</td>\n      <td>0.0</td>\n      <td>0.0</td>\n      <td>14.521126</td>\n      <td>0.0</td>\n      <td>0.0</td>\n      <td>0.0</td>\n      <td>0.0</td>\n      <td>0.0</td>\n      <td>0.0</td>\n      <td>0.0</td>\n      <td>3.184565</td>\n    </tr>\n    <tr>\n      <th>1</th>\n      <td>2000.184570</td>\n      <td>0.0</td>\n      <td>0.0</td>\n      <td>100.549797</td>\n      <td>10.835546</td>\n      <td>16.675438</td>\n      <td>14.660075</td>\n      <td>14.554793</td>\n      <td>0.0</td>\n      <td>0.0</td>\n      <td>0.0</td>\n      <td>16.497709</td>\n      <td>0.0</td>\n      <td>0.0</td>\n      <td>0.0</td>\n      <td>0.0</td>\n      <td>0.0</td>\n      <td>0.0</td>\n      <td>0.0</td>\n      <td>3.192181</td>\n    </tr>\n    <tr>\n      <th>2</th>\n      <td>2000.162476</td>\n      <td>0.0</td>\n      <td>0.0</td>\n      <td>100.140724</td>\n      <td>11.783827</td>\n      <td>18.464008</td>\n      <td>16.486208</td>\n      <td>16.378775</td>\n      <td>0.0</td>\n      <td>0.0</td>\n      <td>0.0</td>\n      <td>18.322374</td>\n      <td>0.0</td>\n      <td>0.0</td>\n      <td>0.0</td>\n      <td>0.0</td>\n      <td>0.0</td>\n      <td>0.0</td>\n      <td>0.0</td>\n      <td>3.108471</td>\n    </tr>\n    <tr>\n      <th>3</th>\n      <td>2000.227539</td>\n      <td>0.0</td>\n      <td>0.0</td>\n      <td>100.311729</td>\n      <td>6.533755</td>\n      <td>11.376548</td>\n      <td>6.205066</td>\n      <td>6.113139</td>\n      <td>0.0</td>\n      <td>0.0</td>\n      <td>0.0</td>\n      <td>11.236746</td>\n      <td>0.0</td>\n      <td>0.0</td>\n      <td>0.0</td>\n      <td>0.0</td>\n      <td>0.0</td>\n      <td>0.0</td>\n      <td>0.0</td>\n      <td>3.846046</td>\n    </tr>\n    <tr>\n      <th>4</th>\n      <td>2000.222534</td>\n      <td>0.0</td>\n      <td>0.0</td>\n      <td>101.153282</td>\n      <td>1.926449</td>\n      <td>3.218920</td>\n      <td>0.000000</td>\n      <td>0.000000</td>\n      <td>0.0</td>\n      <td>0.0</td>\n      <td>0.0</td>\n      <td>2.944411</td>\n      <td>0.0</td>\n      <td>0.0</td>\n      <td>0.0</td>\n      <td>0.0</td>\n      <td>0.0</td>\n      <td>0.0</td>\n      <td>0.0</td>\n      <td>4.320693</td>\n    </tr>\n    <tr>\n      <th>...</th>\n      <td>...</td>\n      <td>...</td>\n      <td>...</td>\n      <td>...</td>\n      <td>...</td>\n      <td>...</td>\n      <td>...</td>\n      <td>...</td>\n      <td>...</td>\n      <td>...</td>\n      <td>...</td>\n      <td>...</td>\n      <td>...</td>\n      <td>...</td>\n      <td>...</td>\n      <td>...</td>\n      <td>...</td>\n      <td>...</td>\n      <td>...</td>\n      <td>...</td>\n    </tr>\n    <tr>\n      <th>10219099</th>\n      <td>2008.199219</td>\n      <td>0.0</td>\n      <td>0.0</td>\n      <td>82.264557</td>\n      <td>0.000000</td>\n      <td>0.000000</td>\n      <td>0.000000</td>\n      <td>0.000000</td>\n      <td>0.0</td>\n      <td>0.0</td>\n      <td>0.0</td>\n      <td>0.000000</td>\n      <td>0.0</td>\n      <td>0.0</td>\n      <td>0.0</td>\n      <td>0.0</td>\n      <td>0.0</td>\n      <td>0.0</td>\n      <td>0.0</td>\n      <td>4.451045</td>\n    </tr>\n    <tr>\n      <th>10219100</th>\n      <td>2008.154907</td>\n      <td>0.0</td>\n      <td>0.0</td>\n      <td>82.785217</td>\n      <td>1.666696</td>\n      <td>0.000000</td>\n      <td>0.000000</td>\n      <td>0.000000</td>\n      <td>0.0</td>\n      <td>0.0</td>\n      <td>0.0</td>\n      <td>0.000000</td>\n      <td>0.0</td>\n      <td>0.0</td>\n      <td>0.0</td>\n      <td>0.0</td>\n      <td>0.0</td>\n      <td>0.0</td>\n      <td>0.0</td>\n      <td>4.133389</td>\n    </tr>\n    <tr>\n      <th>10219101</th>\n      <td>2008.197510</td>\n      <td>0.0</td>\n      <td>0.0</td>\n      <td>82.762589</td>\n      <td>3.050765</td>\n      <td>0.000000</td>\n      <td>0.000000</td>\n      <td>0.000000</td>\n      <td>0.0</td>\n      <td>0.0</td>\n      <td>0.0</td>\n      <td>0.000000</td>\n      <td>0.0</td>\n      <td>0.0</td>\n      <td>0.0</td>\n      <td>0.0</td>\n      <td>0.0</td>\n      <td>0.0</td>\n      <td>0.0</td>\n      <td>4.065495</td>\n    </tr>\n    <tr>\n      <th>10219102</th>\n      <td>2008.245117</td>\n      <td>0.0</td>\n      <td>0.0</td>\n      <td>83.239700</td>\n      <td>0.000000</td>\n      <td>0.000000</td>\n      <td>0.000000</td>\n      <td>0.000000</td>\n      <td>0.0</td>\n      <td>0.0</td>\n      <td>0.0</td>\n      <td>0.000000</td>\n      <td>0.0</td>\n      <td>0.0</td>\n      <td>0.0</td>\n      <td>0.0</td>\n      <td>0.0</td>\n      <td>0.0</td>\n      <td>0.0</td>\n      <td>4.723710</td>\n    </tr>\n    <tr>\n      <th>10219103</th>\n      <td>2008.196411</td>\n      <td>0.0</td>\n      <td>0.0</td>\n      <td>82.574135</td>\n      <td>0.912688</td>\n      <td>0.000000</td>\n      <td>0.000000</td>\n      <td>0.000000</td>\n      <td>0.0</td>\n      <td>0.0</td>\n      <td>0.0</td>\n      <td>0.000000</td>\n      <td>0.0</td>\n      <td>0.0</td>\n      <td>0.0</td>\n      <td>0.0</td>\n      <td>0.0</td>\n      <td>0.0</td>\n      <td>0.0</td>\n      <td>4.351692</td>\n    </tr>\n  </tbody>\n</table>\n<p>10219104 rows × 20 columns</p>\n</div>"
          },
          "execution_count": 54,
          "metadata": {},
          "output_type": "execute_result"
        }
      ],
      "source": [
        "dynamic_train_df"
      ],
      "metadata": {
        "ExecuteTime": {
          "end_time": "2023-10-22T16:38:33.554766500Z",
          "start_time": "2023-10-22T16:38:33.502770400Z"
        },
        "id": "3b54a279407d50b1",
        "outputId": "54c830e9-cb24-47cc-af49-199b55055702"
      },
      "id": "3b54a279407d50b1"
    },
    {
      "cell_type": "code",
      "execution_count": null,
      "outputs": [
        {
          "data": {
            "text/plain": "                  0    1    2           3          4          5          6   \\\n0        2009.186401  0.0  0.0  100.702248   3.270509   3.793186   0.000000   \n1        2009.167358  0.0  0.0  100.162460   8.107534   9.654498   8.941561   \n2        2009.157104  0.0  0.0  100.118927  11.077809  15.389938  14.867801   \n3        2009.157837  0.0  0.0  100.367691  11.028543  15.549017  14.824337   \n4        2009.181763  0.0  0.0  100.167633  11.311935  16.268372  15.368044   \n...              ...  ...  ...         ...        ...        ...        ...   \n2268835  2010.165894  0.0  0.0   82.987556   0.061589   0.000000   0.000000   \n2268836  2010.168335  0.0  0.0   82.326515   0.373390   0.000000   0.000000   \n2268837  2010.168823  0.0  0.0   80.557564   2.292599   0.000000   0.000000   \n2268838  2010.207886  0.0  0.0   81.383995   0.000000   0.000000   0.000000   \n2268839  2010.164917  0.0  0.0   82.093727   0.000000   0.000000   0.000000   \n\n                7    8    9    10         11   12   13   14   15   16   17  \\\n0         0.000000  0.0  0.0  0.0   3.435192  0.0  0.0  0.0  0.0  0.0  0.0   \n1         8.840359  0.0  0.0  0.0   9.249921  0.0  0.0  0.0  0.0  0.0  0.0   \n2        14.759913  0.0  0.0  0.0  15.103436  0.0  0.0  0.0  0.0  0.0  0.0   \n3        14.716836  0.0  0.0  0.0  15.277278  0.0  0.0  0.0  0.0  0.0  0.0   \n4        15.260138  0.0  0.0  0.0  16.020477  0.0  0.0  0.0  0.0  0.0  0.0   \n...            ...  ...  ...  ...        ...  ...  ...  ...  ...  ...  ...   \n2268835   0.000000  0.0  0.0  0.0   0.000000  0.0  0.0  0.0  0.0  0.0  0.0   \n2268836   0.000000  0.0  0.0  0.0   0.000000  0.0  0.0  0.0  0.0  0.0  0.0   \n2268837   0.000000  0.0  0.0  0.0   0.000000  0.0  0.0  0.0  0.0  0.0  0.0   \n2268838   0.000000  0.0  0.0  0.0   0.000000  0.0  0.0  0.0  0.0  0.0  0.0   \n2268839   0.000000  0.0  0.0  0.0   0.000000  0.0  0.0  0.0  0.0  0.0  0.0   \n\n          18        19  \n0        0.0  4.071623  \n1        0.0  3.346355  \n2        0.0  3.068015  \n3        0.0  3.087821  \n4        0.0  3.079616  \n...      ...       ...  \n2268835  0.0  4.538682  \n2268836  0.0  4.421394  \n2268837  0.0  4.301843  \n2268838  0.0  4.725154  \n2268839  0.0  4.739464  \n\n[2268840 rows x 20 columns]",
            "text/html": "<div>\n<style scoped>\n    .dataframe tbody tr th:only-of-type {\n        vertical-align: middle;\n    }\n\n    .dataframe tbody tr th {\n        vertical-align: top;\n    }\n\n    .dataframe thead th {\n        text-align: right;\n    }\n</style>\n<table border=\"1\" class=\"dataframe\">\n  <thead>\n    <tr style=\"text-align: right;\">\n      <th></th>\n      <th>0</th>\n      <th>1</th>\n      <th>2</th>\n      <th>3</th>\n      <th>4</th>\n      <th>5</th>\n      <th>6</th>\n      <th>7</th>\n      <th>8</th>\n      <th>9</th>\n      <th>10</th>\n      <th>11</th>\n      <th>12</th>\n      <th>13</th>\n      <th>14</th>\n      <th>15</th>\n      <th>16</th>\n      <th>17</th>\n      <th>18</th>\n      <th>19</th>\n    </tr>\n  </thead>\n  <tbody>\n    <tr>\n      <th>0</th>\n      <td>2009.186401</td>\n      <td>0.0</td>\n      <td>0.0</td>\n      <td>100.702248</td>\n      <td>3.270509</td>\n      <td>3.793186</td>\n      <td>0.000000</td>\n      <td>0.000000</td>\n      <td>0.0</td>\n      <td>0.0</td>\n      <td>0.0</td>\n      <td>3.435192</td>\n      <td>0.0</td>\n      <td>0.0</td>\n      <td>0.0</td>\n      <td>0.0</td>\n      <td>0.0</td>\n      <td>0.0</td>\n      <td>0.0</td>\n      <td>4.071623</td>\n    </tr>\n    <tr>\n      <th>1</th>\n      <td>2009.167358</td>\n      <td>0.0</td>\n      <td>0.0</td>\n      <td>100.162460</td>\n      <td>8.107534</td>\n      <td>9.654498</td>\n      <td>8.941561</td>\n      <td>8.840359</td>\n      <td>0.0</td>\n      <td>0.0</td>\n      <td>0.0</td>\n      <td>9.249921</td>\n      <td>0.0</td>\n      <td>0.0</td>\n      <td>0.0</td>\n      <td>0.0</td>\n      <td>0.0</td>\n      <td>0.0</td>\n      <td>0.0</td>\n      <td>3.346355</td>\n    </tr>\n    <tr>\n      <th>2</th>\n      <td>2009.157104</td>\n      <td>0.0</td>\n      <td>0.0</td>\n      <td>100.118927</td>\n      <td>11.077809</td>\n      <td>15.389938</td>\n      <td>14.867801</td>\n      <td>14.759913</td>\n      <td>0.0</td>\n      <td>0.0</td>\n      <td>0.0</td>\n      <td>15.103436</td>\n      <td>0.0</td>\n      <td>0.0</td>\n      <td>0.0</td>\n      <td>0.0</td>\n      <td>0.0</td>\n      <td>0.0</td>\n      <td>0.0</td>\n      <td>3.068015</td>\n    </tr>\n    <tr>\n      <th>3</th>\n      <td>2009.157837</td>\n      <td>0.0</td>\n      <td>0.0</td>\n      <td>100.367691</td>\n      <td>11.028543</td>\n      <td>15.549017</td>\n      <td>14.824337</td>\n      <td>14.716836</td>\n      <td>0.0</td>\n      <td>0.0</td>\n      <td>0.0</td>\n      <td>15.277278</td>\n      <td>0.0</td>\n      <td>0.0</td>\n      <td>0.0</td>\n      <td>0.0</td>\n      <td>0.0</td>\n      <td>0.0</td>\n      <td>0.0</td>\n      <td>3.087821</td>\n    </tr>\n    <tr>\n      <th>4</th>\n      <td>2009.181763</td>\n      <td>0.0</td>\n      <td>0.0</td>\n      <td>100.167633</td>\n      <td>11.311935</td>\n      <td>16.268372</td>\n      <td>15.368044</td>\n      <td>15.260138</td>\n      <td>0.0</td>\n      <td>0.0</td>\n      <td>0.0</td>\n      <td>16.020477</td>\n      <td>0.0</td>\n      <td>0.0</td>\n      <td>0.0</td>\n      <td>0.0</td>\n      <td>0.0</td>\n      <td>0.0</td>\n      <td>0.0</td>\n      <td>3.079616</td>\n    </tr>\n    <tr>\n      <th>...</th>\n      <td>...</td>\n      <td>...</td>\n      <td>...</td>\n      <td>...</td>\n      <td>...</td>\n      <td>...</td>\n      <td>...</td>\n      <td>...</td>\n      <td>...</td>\n      <td>...</td>\n      <td>...</td>\n      <td>...</td>\n      <td>...</td>\n      <td>...</td>\n      <td>...</td>\n      <td>...</td>\n      <td>...</td>\n      <td>...</td>\n      <td>...</td>\n      <td>...</td>\n    </tr>\n    <tr>\n      <th>2268835</th>\n      <td>2010.165894</td>\n      <td>0.0</td>\n      <td>0.0</td>\n      <td>82.987556</td>\n      <td>0.061589</td>\n      <td>0.000000</td>\n      <td>0.000000</td>\n      <td>0.000000</td>\n      <td>0.0</td>\n      <td>0.0</td>\n      <td>0.0</td>\n      <td>0.000000</td>\n      <td>0.0</td>\n      <td>0.0</td>\n      <td>0.0</td>\n      <td>0.0</td>\n      <td>0.0</td>\n      <td>0.0</td>\n      <td>0.0</td>\n      <td>4.538682</td>\n    </tr>\n    <tr>\n      <th>2268836</th>\n      <td>2010.168335</td>\n      <td>0.0</td>\n      <td>0.0</td>\n      <td>82.326515</td>\n      <td>0.373390</td>\n      <td>0.000000</td>\n      <td>0.000000</td>\n      <td>0.000000</td>\n      <td>0.0</td>\n      <td>0.0</td>\n      <td>0.0</td>\n      <td>0.000000</td>\n      <td>0.0</td>\n      <td>0.0</td>\n      <td>0.0</td>\n      <td>0.0</td>\n      <td>0.0</td>\n      <td>0.0</td>\n      <td>0.0</td>\n      <td>4.421394</td>\n    </tr>\n    <tr>\n      <th>2268837</th>\n      <td>2010.168823</td>\n      <td>0.0</td>\n      <td>0.0</td>\n      <td>80.557564</td>\n      <td>2.292599</td>\n      <td>0.000000</td>\n      <td>0.000000</td>\n      <td>0.000000</td>\n      <td>0.0</td>\n      <td>0.0</td>\n      <td>0.0</td>\n      <td>0.000000</td>\n      <td>0.0</td>\n      <td>0.0</td>\n      <td>0.0</td>\n      <td>0.0</td>\n      <td>0.0</td>\n      <td>0.0</td>\n      <td>0.0</td>\n      <td>4.301843</td>\n    </tr>\n    <tr>\n      <th>2268838</th>\n      <td>2010.207886</td>\n      <td>0.0</td>\n      <td>0.0</td>\n      <td>81.383995</td>\n      <td>0.000000</td>\n      <td>0.000000</td>\n      <td>0.000000</td>\n      <td>0.000000</td>\n      <td>0.0</td>\n      <td>0.0</td>\n      <td>0.0</td>\n      <td>0.000000</td>\n      <td>0.0</td>\n      <td>0.0</td>\n      <td>0.0</td>\n      <td>0.0</td>\n      <td>0.0</td>\n      <td>0.0</td>\n      <td>0.0</td>\n      <td>4.725154</td>\n    </tr>\n    <tr>\n      <th>2268839</th>\n      <td>2010.164917</td>\n      <td>0.0</td>\n      <td>0.0</td>\n      <td>82.093727</td>\n      <td>0.000000</td>\n      <td>0.000000</td>\n      <td>0.000000</td>\n      <td>0.000000</td>\n      <td>0.0</td>\n      <td>0.0</td>\n      <td>0.0</td>\n      <td>0.000000</td>\n      <td>0.0</td>\n      <td>0.0</td>\n      <td>0.0</td>\n      <td>0.0</td>\n      <td>0.0</td>\n      <td>0.0</td>\n      <td>0.0</td>\n      <td>4.739464</td>\n    </tr>\n  </tbody>\n</table>\n<p>2268840 rows × 20 columns</p>\n</div>"
          },
          "execution_count": 55,
          "metadata": {},
          "output_type": "execute_result"
        }
      ],
      "source": [
        "dynamic_valid_df"
      ],
      "metadata": {
        "ExecuteTime": {
          "end_time": "2023-10-22T16:38:39.915111200Z",
          "start_time": "2023-10-22T16:38:39.871588500Z"
        },
        "id": "b3682d99af1699a",
        "outputId": "8e28ee41-0b37-4992-bb16-026c00b2c401"
      },
      "id": "b3682d99af1699a"
    },
    {
      "cell_type": "code",
      "execution_count": null,
      "outputs": [
        {
          "data": {
            "text/plain": "                  0    1    2           3         4          5          6   \\\n0        2011.183472  0.0  0.0  100.111565  9.651062  13.226196  12.027929   \n1        2011.170410  0.0  0.0  100.861252  2.623819   3.556155   0.000000   \n2        2011.218872  0.0  0.0  100.929390  1.204716   1.321236   0.000000   \n3        2011.194092  0.0  0.0  100.536331  3.348536   5.087414   0.000000   \n4        2011.181519  0.0  0.0   99.876945  6.579000   6.840798   5.827139   \n...              ...  ...  ...         ...       ...        ...        ...   \n2271943  2012.126831  0.0  0.0   82.198372  0.000000   0.000000   0.000000   \n2271944  2012.156128  0.0  0.0   82.756462  0.000000   0.000000   0.000000   \n2271945  2012.179688  0.0  0.0   82.875374  0.000000   0.000000   0.000000   \n2271946  2012.172729  0.0  0.0   82.784782  0.000000   0.000000   0.000000   \n2271947  2012.144775  0.0  0.0   82.789604  0.000000   0.000000   0.000000   \n\n                7    8    9    10         11   12   13   14   15   16   17  \\\n0        11.923978  0.0  0.0  0.0  12.924228  0.0  0.0  0.0  0.0  0.0  0.0   \n1         0.000000  0.0  0.0  0.0   3.242168  0.0  0.0  0.0  0.0  0.0  0.0   \n2         0.000000  0.0  0.0  0.0   0.985612  0.0  0.0  0.0  0.0  0.0  0.0   \n3         0.000000  0.0  0.0  0.0   4.812413  0.0  0.0  0.0  0.0  0.0  0.0   \n4         5.729600  0.0  0.0  0.0   6.386332  0.0  0.0  0.0  0.0  0.0  0.0   \n...            ...  ...  ...  ...        ...  ...  ...  ...  ...  ...  ...   \n2271943   0.000000  0.0  0.0  0.0   0.000000  0.0  0.0  0.0  0.0  0.0  0.0   \n2271944   0.000000  0.0  0.0  0.0   0.000000  0.0  0.0  0.0  0.0  0.0  0.0   \n2271945   0.000000  0.0  0.0  0.0   0.000000  0.0  0.0  0.0  0.0  0.0  0.0   \n2271946   0.000000  0.0  0.0  0.0   0.000000  0.0  0.0  0.0  0.0  0.0  0.0   \n2271947   0.000000  0.0  0.0  0.0   0.000000  0.0  0.0  0.0  0.0  0.0  0.0   \n\n          18        19  \n0        0.0  3.257389  \n1        0.0  4.217978  \n2        0.0  4.391076  \n3        0.0  4.167752  \n4        0.0  3.514565  \n...      ...       ...  \n2271943  0.0  4.403797  \n2271944  0.0  4.544276  \n2271945  0.0  4.603718  \n2271946  0.0  4.583138  \n2271947  0.0  4.457295  \n\n[2271948 rows x 20 columns]",
            "text/html": "<div>\n<style scoped>\n    .dataframe tbody tr th:only-of-type {\n        vertical-align: middle;\n    }\n\n    .dataframe tbody tr th {\n        vertical-align: top;\n    }\n\n    .dataframe thead th {\n        text-align: right;\n    }\n</style>\n<table border=\"1\" class=\"dataframe\">\n  <thead>\n    <tr style=\"text-align: right;\">\n      <th></th>\n      <th>0</th>\n      <th>1</th>\n      <th>2</th>\n      <th>3</th>\n      <th>4</th>\n      <th>5</th>\n      <th>6</th>\n      <th>7</th>\n      <th>8</th>\n      <th>9</th>\n      <th>10</th>\n      <th>11</th>\n      <th>12</th>\n      <th>13</th>\n      <th>14</th>\n      <th>15</th>\n      <th>16</th>\n      <th>17</th>\n      <th>18</th>\n      <th>19</th>\n    </tr>\n  </thead>\n  <tbody>\n    <tr>\n      <th>0</th>\n      <td>2011.183472</td>\n      <td>0.0</td>\n      <td>0.0</td>\n      <td>100.111565</td>\n      <td>9.651062</td>\n      <td>13.226196</td>\n      <td>12.027929</td>\n      <td>11.923978</td>\n      <td>0.0</td>\n      <td>0.0</td>\n      <td>0.0</td>\n      <td>12.924228</td>\n      <td>0.0</td>\n      <td>0.0</td>\n      <td>0.0</td>\n      <td>0.0</td>\n      <td>0.0</td>\n      <td>0.0</td>\n      <td>0.0</td>\n      <td>3.257389</td>\n    </tr>\n    <tr>\n      <th>1</th>\n      <td>2011.170410</td>\n      <td>0.0</td>\n      <td>0.0</td>\n      <td>100.861252</td>\n      <td>2.623819</td>\n      <td>3.556155</td>\n      <td>0.000000</td>\n      <td>0.000000</td>\n      <td>0.0</td>\n      <td>0.0</td>\n      <td>0.0</td>\n      <td>3.242168</td>\n      <td>0.0</td>\n      <td>0.0</td>\n      <td>0.0</td>\n      <td>0.0</td>\n      <td>0.0</td>\n      <td>0.0</td>\n      <td>0.0</td>\n      <td>4.217978</td>\n    </tr>\n    <tr>\n      <th>2</th>\n      <td>2011.218872</td>\n      <td>0.0</td>\n      <td>0.0</td>\n      <td>100.929390</td>\n      <td>1.204716</td>\n      <td>1.321236</td>\n      <td>0.000000</td>\n      <td>0.000000</td>\n      <td>0.0</td>\n      <td>0.0</td>\n      <td>0.0</td>\n      <td>0.985612</td>\n      <td>0.0</td>\n      <td>0.0</td>\n      <td>0.0</td>\n      <td>0.0</td>\n      <td>0.0</td>\n      <td>0.0</td>\n      <td>0.0</td>\n      <td>4.391076</td>\n    </tr>\n    <tr>\n      <th>3</th>\n      <td>2011.194092</td>\n      <td>0.0</td>\n      <td>0.0</td>\n      <td>100.536331</td>\n      <td>3.348536</td>\n      <td>5.087414</td>\n      <td>0.000000</td>\n      <td>0.000000</td>\n      <td>0.0</td>\n      <td>0.0</td>\n      <td>0.0</td>\n      <td>4.812413</td>\n      <td>0.0</td>\n      <td>0.0</td>\n      <td>0.0</td>\n      <td>0.0</td>\n      <td>0.0</td>\n      <td>0.0</td>\n      <td>0.0</td>\n      <td>4.167752</td>\n    </tr>\n    <tr>\n      <th>4</th>\n      <td>2011.181519</td>\n      <td>0.0</td>\n      <td>0.0</td>\n      <td>99.876945</td>\n      <td>6.579000</td>\n      <td>6.840798</td>\n      <td>5.827139</td>\n      <td>5.729600</td>\n      <td>0.0</td>\n      <td>0.0</td>\n      <td>0.0</td>\n      <td>6.386332</td>\n      <td>0.0</td>\n      <td>0.0</td>\n      <td>0.0</td>\n      <td>0.0</td>\n      <td>0.0</td>\n      <td>0.0</td>\n      <td>0.0</td>\n      <td>3.514565</td>\n    </tr>\n    <tr>\n      <th>...</th>\n      <td>...</td>\n      <td>...</td>\n      <td>...</td>\n      <td>...</td>\n      <td>...</td>\n      <td>...</td>\n      <td>...</td>\n      <td>...</td>\n      <td>...</td>\n      <td>...</td>\n      <td>...</td>\n      <td>...</td>\n      <td>...</td>\n      <td>...</td>\n      <td>...</td>\n      <td>...</td>\n      <td>...</td>\n      <td>...</td>\n      <td>...</td>\n      <td>...</td>\n    </tr>\n    <tr>\n      <th>2271943</th>\n      <td>2012.126831</td>\n      <td>0.0</td>\n      <td>0.0</td>\n      <td>82.198372</td>\n      <td>0.000000</td>\n      <td>0.000000</td>\n      <td>0.000000</td>\n      <td>0.000000</td>\n      <td>0.0</td>\n      <td>0.0</td>\n      <td>0.0</td>\n      <td>0.000000</td>\n      <td>0.0</td>\n      <td>0.0</td>\n      <td>0.0</td>\n      <td>0.0</td>\n      <td>0.0</td>\n      <td>0.0</td>\n      <td>0.0</td>\n      <td>4.403797</td>\n    </tr>\n    <tr>\n      <th>2271944</th>\n      <td>2012.156128</td>\n      <td>0.0</td>\n      <td>0.0</td>\n      <td>82.756462</td>\n      <td>0.000000</td>\n      <td>0.000000</td>\n      <td>0.000000</td>\n      <td>0.000000</td>\n      <td>0.0</td>\n      <td>0.0</td>\n      <td>0.0</td>\n      <td>0.000000</td>\n      <td>0.0</td>\n      <td>0.0</td>\n      <td>0.0</td>\n      <td>0.0</td>\n      <td>0.0</td>\n      <td>0.0</td>\n      <td>0.0</td>\n      <td>4.544276</td>\n    </tr>\n    <tr>\n      <th>2271945</th>\n      <td>2012.179688</td>\n      <td>0.0</td>\n      <td>0.0</td>\n      <td>82.875374</td>\n      <td>0.000000</td>\n      <td>0.000000</td>\n      <td>0.000000</td>\n      <td>0.000000</td>\n      <td>0.0</td>\n      <td>0.0</td>\n      <td>0.0</td>\n      <td>0.000000</td>\n      <td>0.0</td>\n      <td>0.0</td>\n      <td>0.0</td>\n      <td>0.0</td>\n      <td>0.0</td>\n      <td>0.0</td>\n      <td>0.0</td>\n      <td>4.603718</td>\n    </tr>\n    <tr>\n      <th>2271946</th>\n      <td>2012.172729</td>\n      <td>0.0</td>\n      <td>0.0</td>\n      <td>82.784782</td>\n      <td>0.000000</td>\n      <td>0.000000</td>\n      <td>0.000000</td>\n      <td>0.000000</td>\n      <td>0.0</td>\n      <td>0.0</td>\n      <td>0.0</td>\n      <td>0.000000</td>\n      <td>0.0</td>\n      <td>0.0</td>\n      <td>0.0</td>\n      <td>0.0</td>\n      <td>0.0</td>\n      <td>0.0</td>\n      <td>0.0</td>\n      <td>4.583138</td>\n    </tr>\n    <tr>\n      <th>2271947</th>\n      <td>2012.144775</td>\n      <td>0.0</td>\n      <td>0.0</td>\n      <td>82.789604</td>\n      <td>0.000000</td>\n      <td>0.000000</td>\n      <td>0.000000</td>\n      <td>0.000000</td>\n      <td>0.0</td>\n      <td>0.0</td>\n      <td>0.0</td>\n      <td>0.000000</td>\n      <td>0.0</td>\n      <td>0.0</td>\n      <td>0.0</td>\n      <td>0.0</td>\n      <td>0.0</td>\n      <td>0.0</td>\n      <td>0.0</td>\n      <td>4.457295</td>\n    </tr>\n  </tbody>\n</table>\n<p>2271948 rows × 20 columns</p>\n</div>"
          },
          "execution_count": 56,
          "metadata": {},
          "output_type": "execute_result"
        }
      ],
      "source": [
        "dynamic_test_df"
      ],
      "metadata": {
        "ExecuteTime": {
          "end_time": "2023-10-22T16:38:47.407914500Z",
          "start_time": "2023-10-22T16:38:47.360622500Z"
        },
        "id": "6dc73699399b29f5",
        "outputId": "b3315a30-5468-47ff-b4e0-4973aecb56f1"
      },
      "id": "6dc73699399b29f5"
    },
    {
      "cell_type": "code",
      "execution_count": null,
      "outputs": [],
      "source": [
        "#Combine static and dynamic features\n",
        "train_combined  = pd.concat([static_train, dynamic_train_df], axis=1)\n",
        "validation_combined  = pd.concat([static_valid, dynamic_valid_df], axis=1)\n",
        "test_combined = pd.concat([static_test, dynamic_test_df], axis=1)"
      ],
      "metadata": {
        "ExecuteTime": {
          "end_time": "2023-10-22T16:38:57.019641100Z",
          "start_time": "2023-10-22T16:38:54.327744100Z"
        },
        "id": "6b46125f711245e4"
      },
      "id": "6b46125f711245e4"
    },
    {
      "cell_type": "code",
      "execution_count": null,
      "outputs": [
        {
          "data": {
            "text/plain": "           fips        lat         lon  elevation  slope1  slope2  slope3  \\\n0          1001  32.536382  -86.644490         63  0.0419  0.2788  0.2984   \n1          1001  32.536382  -86.644490         63  0.0419  0.2788  0.2984   \n2          1001  32.536382  -86.644490         63  0.0419  0.2788  0.2984   \n3          1001  32.536382  -86.644490         63  0.0419  0.2788  0.2984   \n4          1001  32.536382  -86.644490         63  0.0419  0.2788  0.2984   \n...         ...        ...         ...        ...     ...     ...     ...   \n10219099  56043  43.878831 -107.669052       1417  0.0034  0.0470  0.2331   \n10219100  56043  43.878831 -107.669052       1417  0.0034  0.0470  0.2331   \n10219101  56043  43.878831 -107.669052       1417  0.0034  0.0470  0.2331   \n10219102  56043  43.878831 -107.669052       1417  0.0034  0.0470  0.2331   \n10219103  56043  43.878831 -107.669052       1417  0.0034  0.0470  0.2331   \n\n          slope4  slope5  slope6  ...   10         11   12   13   14   15  \\\n0         0.2497  0.1142  0.0170  ...  0.0  14.521126  0.0  0.0  0.0  0.0   \n1         0.2497  0.1142  0.0170  ...  0.0  16.497709  0.0  0.0  0.0  0.0   \n2         0.2497  0.1142  0.0170  ...  0.0  18.322374  0.0  0.0  0.0  0.0   \n3         0.2497  0.1142  0.0170  ...  0.0  11.236746  0.0  0.0  0.0  0.0   \n4         0.2497  0.1142  0.0170  ...  0.0   2.944411  0.0  0.0  0.0  0.0   \n...          ...     ...     ...  ...  ...        ...  ...  ...  ...  ...   \n10219099  0.4099  0.2064  0.0999  ...  0.0   0.000000  0.0  0.0  0.0  0.0   \n10219100  0.4099  0.2064  0.0999  ...  0.0   0.000000  0.0  0.0  0.0  0.0   \n10219101  0.4099  0.2064  0.0999  ...  0.0   0.000000  0.0  0.0  0.0  0.0   \n10219102  0.4099  0.2064  0.0999  ...  0.0   0.000000  0.0  0.0  0.0  0.0   \n10219103  0.4099  0.2064  0.0999  ...  0.0   0.000000  0.0  0.0  0.0  0.0   \n\n           16   17   18        19  \n0         0.0  0.0  0.0  3.184565  \n1         0.0  0.0  0.0  3.192181  \n2         0.0  0.0  0.0  3.108471  \n3         0.0  0.0  0.0  3.846046  \n4         0.0  0.0  0.0  4.320693  \n...       ...  ...  ...       ...  \n10219099  0.0  0.0  0.0  4.451045  \n10219100  0.0  0.0  0.0  4.133389  \n10219101  0.0  0.0  0.0  4.065495  \n10219102  0.0  0.0  0.0  4.723710  \n10219103  0.0  0.0  0.0  4.351692  \n\n[10219104 rows x 52 columns]",
            "text/html": "<div>\n<style scoped>\n    .dataframe tbody tr th:only-of-type {\n        vertical-align: middle;\n    }\n\n    .dataframe tbody tr th {\n        vertical-align: top;\n    }\n\n    .dataframe thead th {\n        text-align: right;\n    }\n</style>\n<table border=\"1\" class=\"dataframe\">\n  <thead>\n    <tr style=\"text-align: right;\">\n      <th></th>\n      <th>fips</th>\n      <th>lat</th>\n      <th>lon</th>\n      <th>elevation</th>\n      <th>slope1</th>\n      <th>slope2</th>\n      <th>slope3</th>\n      <th>slope4</th>\n      <th>slope5</th>\n      <th>slope6</th>\n      <th>...</th>\n      <th>10</th>\n      <th>11</th>\n      <th>12</th>\n      <th>13</th>\n      <th>14</th>\n      <th>15</th>\n      <th>16</th>\n      <th>17</th>\n      <th>18</th>\n      <th>19</th>\n    </tr>\n  </thead>\n  <tbody>\n    <tr>\n      <th>0</th>\n      <td>1001</td>\n      <td>32.536382</td>\n      <td>-86.644490</td>\n      <td>63</td>\n      <td>0.0419</td>\n      <td>0.2788</td>\n      <td>0.2984</td>\n      <td>0.2497</td>\n      <td>0.1142</td>\n      <td>0.0170</td>\n      <td>...</td>\n      <td>0.0</td>\n      <td>14.521126</td>\n      <td>0.0</td>\n      <td>0.0</td>\n      <td>0.0</td>\n      <td>0.0</td>\n      <td>0.0</td>\n      <td>0.0</td>\n      <td>0.0</td>\n      <td>3.184565</td>\n    </tr>\n    <tr>\n      <th>1</th>\n      <td>1001</td>\n      <td>32.536382</td>\n      <td>-86.644490</td>\n      <td>63</td>\n      <td>0.0419</td>\n      <td>0.2788</td>\n      <td>0.2984</td>\n      <td>0.2497</td>\n      <td>0.1142</td>\n      <td>0.0170</td>\n      <td>...</td>\n      <td>0.0</td>\n      <td>16.497709</td>\n      <td>0.0</td>\n      <td>0.0</td>\n      <td>0.0</td>\n      <td>0.0</td>\n      <td>0.0</td>\n      <td>0.0</td>\n      <td>0.0</td>\n      <td>3.192181</td>\n    </tr>\n    <tr>\n      <th>2</th>\n      <td>1001</td>\n      <td>32.536382</td>\n      <td>-86.644490</td>\n      <td>63</td>\n      <td>0.0419</td>\n      <td>0.2788</td>\n      <td>0.2984</td>\n      <td>0.2497</td>\n      <td>0.1142</td>\n      <td>0.0170</td>\n      <td>...</td>\n      <td>0.0</td>\n      <td>18.322374</td>\n      <td>0.0</td>\n      <td>0.0</td>\n      <td>0.0</td>\n      <td>0.0</td>\n      <td>0.0</td>\n      <td>0.0</td>\n      <td>0.0</td>\n      <td>3.108471</td>\n    </tr>\n    <tr>\n      <th>3</th>\n      <td>1001</td>\n      <td>32.536382</td>\n      <td>-86.644490</td>\n      <td>63</td>\n      <td>0.0419</td>\n      <td>0.2788</td>\n      <td>0.2984</td>\n      <td>0.2497</td>\n      <td>0.1142</td>\n      <td>0.0170</td>\n      <td>...</td>\n      <td>0.0</td>\n      <td>11.236746</td>\n      <td>0.0</td>\n      <td>0.0</td>\n      <td>0.0</td>\n      <td>0.0</td>\n      <td>0.0</td>\n      <td>0.0</td>\n      <td>0.0</td>\n      <td>3.846046</td>\n    </tr>\n    <tr>\n      <th>4</th>\n      <td>1001</td>\n      <td>32.536382</td>\n      <td>-86.644490</td>\n      <td>63</td>\n      <td>0.0419</td>\n      <td>0.2788</td>\n      <td>0.2984</td>\n      <td>0.2497</td>\n      <td>0.1142</td>\n      <td>0.0170</td>\n      <td>...</td>\n      <td>0.0</td>\n      <td>2.944411</td>\n      <td>0.0</td>\n      <td>0.0</td>\n      <td>0.0</td>\n      <td>0.0</td>\n      <td>0.0</td>\n      <td>0.0</td>\n      <td>0.0</td>\n      <td>4.320693</td>\n    </tr>\n    <tr>\n      <th>...</th>\n      <td>...</td>\n      <td>...</td>\n      <td>...</td>\n      <td>...</td>\n      <td>...</td>\n      <td>...</td>\n      <td>...</td>\n      <td>...</td>\n      <td>...</td>\n      <td>...</td>\n      <td>...</td>\n      <td>...</td>\n      <td>...</td>\n      <td>...</td>\n      <td>...</td>\n      <td>...</td>\n      <td>...</td>\n      <td>...</td>\n      <td>...</td>\n      <td>...</td>\n      <td>...</td>\n    </tr>\n    <tr>\n      <th>10219099</th>\n      <td>56043</td>\n      <td>43.878831</td>\n      <td>-107.669052</td>\n      <td>1417</td>\n      <td>0.0034</td>\n      <td>0.0470</td>\n      <td>0.2331</td>\n      <td>0.4099</td>\n      <td>0.2064</td>\n      <td>0.0999</td>\n      <td>...</td>\n      <td>0.0</td>\n      <td>0.000000</td>\n      <td>0.0</td>\n      <td>0.0</td>\n      <td>0.0</td>\n      <td>0.0</td>\n      <td>0.0</td>\n      <td>0.0</td>\n      <td>0.0</td>\n      <td>4.451045</td>\n    </tr>\n    <tr>\n      <th>10219100</th>\n      <td>56043</td>\n      <td>43.878831</td>\n      <td>-107.669052</td>\n      <td>1417</td>\n      <td>0.0034</td>\n      <td>0.0470</td>\n      <td>0.2331</td>\n      <td>0.4099</td>\n      <td>0.2064</td>\n      <td>0.0999</td>\n      <td>...</td>\n      <td>0.0</td>\n      <td>0.000000</td>\n      <td>0.0</td>\n      <td>0.0</td>\n      <td>0.0</td>\n      <td>0.0</td>\n      <td>0.0</td>\n      <td>0.0</td>\n      <td>0.0</td>\n      <td>4.133389</td>\n    </tr>\n    <tr>\n      <th>10219101</th>\n      <td>56043</td>\n      <td>43.878831</td>\n      <td>-107.669052</td>\n      <td>1417</td>\n      <td>0.0034</td>\n      <td>0.0470</td>\n      <td>0.2331</td>\n      <td>0.4099</td>\n      <td>0.2064</td>\n      <td>0.0999</td>\n      <td>...</td>\n      <td>0.0</td>\n      <td>0.000000</td>\n      <td>0.0</td>\n      <td>0.0</td>\n      <td>0.0</td>\n      <td>0.0</td>\n      <td>0.0</td>\n      <td>0.0</td>\n      <td>0.0</td>\n      <td>4.065495</td>\n    </tr>\n    <tr>\n      <th>10219102</th>\n      <td>56043</td>\n      <td>43.878831</td>\n      <td>-107.669052</td>\n      <td>1417</td>\n      <td>0.0034</td>\n      <td>0.0470</td>\n      <td>0.2331</td>\n      <td>0.4099</td>\n      <td>0.2064</td>\n      <td>0.0999</td>\n      <td>...</td>\n      <td>0.0</td>\n      <td>0.000000</td>\n      <td>0.0</td>\n      <td>0.0</td>\n      <td>0.0</td>\n      <td>0.0</td>\n      <td>0.0</td>\n      <td>0.0</td>\n      <td>0.0</td>\n      <td>4.723710</td>\n    </tr>\n    <tr>\n      <th>10219103</th>\n      <td>56043</td>\n      <td>43.878831</td>\n      <td>-107.669052</td>\n      <td>1417</td>\n      <td>0.0034</td>\n      <td>0.0470</td>\n      <td>0.2331</td>\n      <td>0.4099</td>\n      <td>0.2064</td>\n      <td>0.0999</td>\n      <td>...</td>\n      <td>0.0</td>\n      <td>0.000000</td>\n      <td>0.0</td>\n      <td>0.0</td>\n      <td>0.0</td>\n      <td>0.0</td>\n      <td>0.0</td>\n      <td>0.0</td>\n      <td>0.0</td>\n      <td>4.351692</td>\n    </tr>\n  </tbody>\n</table>\n<p>10219104 rows × 52 columns</p>\n</div>"
          },
          "execution_count": 58,
          "metadata": {},
          "output_type": "execute_result"
        }
      ],
      "source": [
        "train_combined"
      ],
      "metadata": {
        "ExecuteTime": {
          "end_time": "2023-10-22T16:39:08.543942Z",
          "start_time": "2023-10-22T16:39:07.524736300Z"
        },
        "id": "4e2b70d20d5694",
        "outputId": "3ee5273f-f8c0-4146-ec39-a620aa547751"
      },
      "id": "4e2b70d20d5694"
    },
    {
      "cell_type": "code",
      "execution_count": null,
      "outputs": [
        {
          "data": {
            "text/plain": "          fips        lat         lon  elevation  slope1  slope2  slope3  \\\n0         1001  32.536382  -86.644490         63  0.0419  0.2788  0.2984   \n1         1001  32.536382  -86.644490         63  0.0419  0.2788  0.2984   \n2         1001  32.536382  -86.644490         63  0.0419  0.2788  0.2984   \n3         1001  32.536382  -86.644490         63  0.0419  0.2788  0.2984   \n4         1001  32.536382  -86.644490         63  0.0419  0.2788  0.2984   \n...        ...        ...         ...        ...     ...     ...     ...   \n2268835  56043  43.878831 -107.669052       1417  0.0034  0.0470  0.2331   \n2268836  56043  43.878831 -107.669052       1417  0.0034  0.0470  0.2331   \n2268837  56043  43.878831 -107.669052       1417  0.0034  0.0470  0.2331   \n2268838  56043  43.878831 -107.669052       1417  0.0034  0.0470  0.2331   \n2268839  56043  43.878831 -107.669052       1417  0.0034  0.0470  0.2331   \n\n         slope4  slope5  slope6  ...   10         11   12   13   14   15   16  \\\n0        0.2497  0.1142  0.0170  ...  0.0   3.435192  0.0  0.0  0.0  0.0  0.0   \n1        0.2497  0.1142  0.0170  ...  0.0   9.249921  0.0  0.0  0.0  0.0  0.0   \n2        0.2497  0.1142  0.0170  ...  0.0  15.103436  0.0  0.0  0.0  0.0  0.0   \n3        0.2497  0.1142  0.0170  ...  0.0  15.277278  0.0  0.0  0.0  0.0  0.0   \n4        0.2497  0.1142  0.0170  ...  0.0  16.020477  0.0  0.0  0.0  0.0  0.0   \n...         ...     ...     ...  ...  ...        ...  ...  ...  ...  ...  ...   \n2268835  0.4099  0.2064  0.0999  ...  0.0   0.000000  0.0  0.0  0.0  0.0  0.0   \n2268836  0.4099  0.2064  0.0999  ...  0.0   0.000000  0.0  0.0  0.0  0.0  0.0   \n2268837  0.4099  0.2064  0.0999  ...  0.0   0.000000  0.0  0.0  0.0  0.0  0.0   \n2268838  0.4099  0.2064  0.0999  ...  0.0   0.000000  0.0  0.0  0.0  0.0  0.0   \n2268839  0.4099  0.2064  0.0999  ...  0.0   0.000000  0.0  0.0  0.0  0.0  0.0   \n\n          17   18        19  \n0        0.0  0.0  4.071623  \n1        0.0  0.0  3.346355  \n2        0.0  0.0  3.068015  \n3        0.0  0.0  3.087821  \n4        0.0  0.0  3.079616  \n...      ...  ...       ...  \n2268835  0.0  0.0  4.538682  \n2268836  0.0  0.0  4.421394  \n2268837  0.0  0.0  4.301843  \n2268838  0.0  0.0  4.725154  \n2268839  0.0  0.0  4.739464  \n\n[2268840 rows x 52 columns]",
            "text/html": "<div>\n<style scoped>\n    .dataframe tbody tr th:only-of-type {\n        vertical-align: middle;\n    }\n\n    .dataframe tbody tr th {\n        vertical-align: top;\n    }\n\n    .dataframe thead th {\n        text-align: right;\n    }\n</style>\n<table border=\"1\" class=\"dataframe\">\n  <thead>\n    <tr style=\"text-align: right;\">\n      <th></th>\n      <th>fips</th>\n      <th>lat</th>\n      <th>lon</th>\n      <th>elevation</th>\n      <th>slope1</th>\n      <th>slope2</th>\n      <th>slope3</th>\n      <th>slope4</th>\n      <th>slope5</th>\n      <th>slope6</th>\n      <th>...</th>\n      <th>10</th>\n      <th>11</th>\n      <th>12</th>\n      <th>13</th>\n      <th>14</th>\n      <th>15</th>\n      <th>16</th>\n      <th>17</th>\n      <th>18</th>\n      <th>19</th>\n    </tr>\n  </thead>\n  <tbody>\n    <tr>\n      <th>0</th>\n      <td>1001</td>\n      <td>32.536382</td>\n      <td>-86.644490</td>\n      <td>63</td>\n      <td>0.0419</td>\n      <td>0.2788</td>\n      <td>0.2984</td>\n      <td>0.2497</td>\n      <td>0.1142</td>\n      <td>0.0170</td>\n      <td>...</td>\n      <td>0.0</td>\n      <td>3.435192</td>\n      <td>0.0</td>\n      <td>0.0</td>\n      <td>0.0</td>\n      <td>0.0</td>\n      <td>0.0</td>\n      <td>0.0</td>\n      <td>0.0</td>\n      <td>4.071623</td>\n    </tr>\n    <tr>\n      <th>1</th>\n      <td>1001</td>\n      <td>32.536382</td>\n      <td>-86.644490</td>\n      <td>63</td>\n      <td>0.0419</td>\n      <td>0.2788</td>\n      <td>0.2984</td>\n      <td>0.2497</td>\n      <td>0.1142</td>\n      <td>0.0170</td>\n      <td>...</td>\n      <td>0.0</td>\n      <td>9.249921</td>\n      <td>0.0</td>\n      <td>0.0</td>\n      <td>0.0</td>\n      <td>0.0</td>\n      <td>0.0</td>\n      <td>0.0</td>\n      <td>0.0</td>\n      <td>3.346355</td>\n    </tr>\n    <tr>\n      <th>2</th>\n      <td>1001</td>\n      <td>32.536382</td>\n      <td>-86.644490</td>\n      <td>63</td>\n      <td>0.0419</td>\n      <td>0.2788</td>\n      <td>0.2984</td>\n      <td>0.2497</td>\n      <td>0.1142</td>\n      <td>0.0170</td>\n      <td>...</td>\n      <td>0.0</td>\n      <td>15.103436</td>\n      <td>0.0</td>\n      <td>0.0</td>\n      <td>0.0</td>\n      <td>0.0</td>\n      <td>0.0</td>\n      <td>0.0</td>\n      <td>0.0</td>\n      <td>3.068015</td>\n    </tr>\n    <tr>\n      <th>3</th>\n      <td>1001</td>\n      <td>32.536382</td>\n      <td>-86.644490</td>\n      <td>63</td>\n      <td>0.0419</td>\n      <td>0.2788</td>\n      <td>0.2984</td>\n      <td>0.2497</td>\n      <td>0.1142</td>\n      <td>0.0170</td>\n      <td>...</td>\n      <td>0.0</td>\n      <td>15.277278</td>\n      <td>0.0</td>\n      <td>0.0</td>\n      <td>0.0</td>\n      <td>0.0</td>\n      <td>0.0</td>\n      <td>0.0</td>\n      <td>0.0</td>\n      <td>3.087821</td>\n    </tr>\n    <tr>\n      <th>4</th>\n      <td>1001</td>\n      <td>32.536382</td>\n      <td>-86.644490</td>\n      <td>63</td>\n      <td>0.0419</td>\n      <td>0.2788</td>\n      <td>0.2984</td>\n      <td>0.2497</td>\n      <td>0.1142</td>\n      <td>0.0170</td>\n      <td>...</td>\n      <td>0.0</td>\n      <td>16.020477</td>\n      <td>0.0</td>\n      <td>0.0</td>\n      <td>0.0</td>\n      <td>0.0</td>\n      <td>0.0</td>\n      <td>0.0</td>\n      <td>0.0</td>\n      <td>3.079616</td>\n    </tr>\n    <tr>\n      <th>...</th>\n      <td>...</td>\n      <td>...</td>\n      <td>...</td>\n      <td>...</td>\n      <td>...</td>\n      <td>...</td>\n      <td>...</td>\n      <td>...</td>\n      <td>...</td>\n      <td>...</td>\n      <td>...</td>\n      <td>...</td>\n      <td>...</td>\n      <td>...</td>\n      <td>...</td>\n      <td>...</td>\n      <td>...</td>\n      <td>...</td>\n      <td>...</td>\n      <td>...</td>\n      <td>...</td>\n    </tr>\n    <tr>\n      <th>2268835</th>\n      <td>56043</td>\n      <td>43.878831</td>\n      <td>-107.669052</td>\n      <td>1417</td>\n      <td>0.0034</td>\n      <td>0.0470</td>\n      <td>0.2331</td>\n      <td>0.4099</td>\n      <td>0.2064</td>\n      <td>0.0999</td>\n      <td>...</td>\n      <td>0.0</td>\n      <td>0.000000</td>\n      <td>0.0</td>\n      <td>0.0</td>\n      <td>0.0</td>\n      <td>0.0</td>\n      <td>0.0</td>\n      <td>0.0</td>\n      <td>0.0</td>\n      <td>4.538682</td>\n    </tr>\n    <tr>\n      <th>2268836</th>\n      <td>56043</td>\n      <td>43.878831</td>\n      <td>-107.669052</td>\n      <td>1417</td>\n      <td>0.0034</td>\n      <td>0.0470</td>\n      <td>0.2331</td>\n      <td>0.4099</td>\n      <td>0.2064</td>\n      <td>0.0999</td>\n      <td>...</td>\n      <td>0.0</td>\n      <td>0.000000</td>\n      <td>0.0</td>\n      <td>0.0</td>\n      <td>0.0</td>\n      <td>0.0</td>\n      <td>0.0</td>\n      <td>0.0</td>\n      <td>0.0</td>\n      <td>4.421394</td>\n    </tr>\n    <tr>\n      <th>2268837</th>\n      <td>56043</td>\n      <td>43.878831</td>\n      <td>-107.669052</td>\n      <td>1417</td>\n      <td>0.0034</td>\n      <td>0.0470</td>\n      <td>0.2331</td>\n      <td>0.4099</td>\n      <td>0.2064</td>\n      <td>0.0999</td>\n      <td>...</td>\n      <td>0.0</td>\n      <td>0.000000</td>\n      <td>0.0</td>\n      <td>0.0</td>\n      <td>0.0</td>\n      <td>0.0</td>\n      <td>0.0</td>\n      <td>0.0</td>\n      <td>0.0</td>\n      <td>4.301843</td>\n    </tr>\n    <tr>\n      <th>2268838</th>\n      <td>56043</td>\n      <td>43.878831</td>\n      <td>-107.669052</td>\n      <td>1417</td>\n      <td>0.0034</td>\n      <td>0.0470</td>\n      <td>0.2331</td>\n      <td>0.4099</td>\n      <td>0.2064</td>\n      <td>0.0999</td>\n      <td>...</td>\n      <td>0.0</td>\n      <td>0.000000</td>\n      <td>0.0</td>\n      <td>0.0</td>\n      <td>0.0</td>\n      <td>0.0</td>\n      <td>0.0</td>\n      <td>0.0</td>\n      <td>0.0</td>\n      <td>4.725154</td>\n    </tr>\n    <tr>\n      <th>2268839</th>\n      <td>56043</td>\n      <td>43.878831</td>\n      <td>-107.669052</td>\n      <td>1417</td>\n      <td>0.0034</td>\n      <td>0.0470</td>\n      <td>0.2331</td>\n      <td>0.4099</td>\n      <td>0.2064</td>\n      <td>0.0999</td>\n      <td>...</td>\n      <td>0.0</td>\n      <td>0.000000</td>\n      <td>0.0</td>\n      <td>0.0</td>\n      <td>0.0</td>\n      <td>0.0</td>\n      <td>0.0</td>\n      <td>0.0</td>\n      <td>0.0</td>\n      <td>4.739464</td>\n    </tr>\n  </tbody>\n</table>\n<p>2268840 rows × 52 columns</p>\n</div>"
          },
          "execution_count": 59,
          "metadata": {},
          "output_type": "execute_result"
        }
      ],
      "source": [
        "validation_combined"
      ],
      "metadata": {
        "ExecuteTime": {
          "end_time": "2023-10-22T16:39:21.583074300Z",
          "start_time": "2023-10-22T16:39:21.303844600Z"
        },
        "id": "9d87b50352e93538",
        "outputId": "cfa51528-bd5f-474d-f365-1ff420cc6123"
      },
      "id": "9d87b50352e93538"
    },
    {
      "cell_type": "code",
      "execution_count": null,
      "outputs": [
        {
          "data": {
            "text/plain": "          fips        lat         lon  elevation  slope1  slope2  slope3  \\\n0         1001  32.536382  -86.644490         63  0.0419  0.2788  0.2984   \n1         1001  32.536382  -86.644490         63  0.0419  0.2788  0.2984   \n2         1001  32.536382  -86.644490         63  0.0419  0.2788  0.2984   \n3         1001  32.536382  -86.644490         63  0.0419  0.2788  0.2984   \n4         1001  32.536382  -86.644490         63  0.0419  0.2788  0.2984   \n...        ...        ...         ...        ...     ...     ...     ...   \n2271943  56043  43.878831 -107.669052       1417  0.0034  0.0470  0.2331   \n2271944  56043  43.878831 -107.669052       1417  0.0034  0.0470  0.2331   \n2271945  56043  43.878831 -107.669052       1417  0.0034  0.0470  0.2331   \n2271946  56043  43.878831 -107.669052       1417  0.0034  0.0470  0.2331   \n2271947  56043  43.878831 -107.669052       1417  0.0034  0.0470  0.2331   \n\n         slope4  slope5  slope6  ...   10         11   12   13   14   15   16  \\\n0        0.2497  0.1142  0.0170  ...  0.0  12.924228  0.0  0.0  0.0  0.0  0.0   \n1        0.2497  0.1142  0.0170  ...  0.0   3.242168  0.0  0.0  0.0  0.0  0.0   \n2        0.2497  0.1142  0.0170  ...  0.0   0.985612  0.0  0.0  0.0  0.0  0.0   \n3        0.2497  0.1142  0.0170  ...  0.0   4.812413  0.0  0.0  0.0  0.0  0.0   \n4        0.2497  0.1142  0.0170  ...  0.0   6.386332  0.0  0.0  0.0  0.0  0.0   \n...         ...     ...     ...  ...  ...        ...  ...  ...  ...  ...  ...   \n2271943  0.4099  0.2064  0.0999  ...  0.0   0.000000  0.0  0.0  0.0  0.0  0.0   \n2271944  0.4099  0.2064  0.0999  ...  0.0   0.000000  0.0  0.0  0.0  0.0  0.0   \n2271945  0.4099  0.2064  0.0999  ...  0.0   0.000000  0.0  0.0  0.0  0.0  0.0   \n2271946  0.4099  0.2064  0.0999  ...  0.0   0.000000  0.0  0.0  0.0  0.0  0.0   \n2271947  0.4099  0.2064  0.0999  ...  0.0   0.000000  0.0  0.0  0.0  0.0  0.0   \n\n          17   18        19  \n0        0.0  0.0  3.257389  \n1        0.0  0.0  4.217978  \n2        0.0  0.0  4.391076  \n3        0.0  0.0  4.167752  \n4        0.0  0.0  3.514565  \n...      ...  ...       ...  \n2271943  0.0  0.0  4.403797  \n2271944  0.0  0.0  4.544276  \n2271945  0.0  0.0  4.603718  \n2271946  0.0  0.0  4.583138  \n2271947  0.0  0.0  4.457295  \n\n[2271948 rows x 52 columns]",
            "text/html": "<div>\n<style scoped>\n    .dataframe tbody tr th:only-of-type {\n        vertical-align: middle;\n    }\n\n    .dataframe tbody tr th {\n        vertical-align: top;\n    }\n\n    .dataframe thead th {\n        text-align: right;\n    }\n</style>\n<table border=\"1\" class=\"dataframe\">\n  <thead>\n    <tr style=\"text-align: right;\">\n      <th></th>\n      <th>fips</th>\n      <th>lat</th>\n      <th>lon</th>\n      <th>elevation</th>\n      <th>slope1</th>\n      <th>slope2</th>\n      <th>slope3</th>\n      <th>slope4</th>\n      <th>slope5</th>\n      <th>slope6</th>\n      <th>...</th>\n      <th>10</th>\n      <th>11</th>\n      <th>12</th>\n      <th>13</th>\n      <th>14</th>\n      <th>15</th>\n      <th>16</th>\n      <th>17</th>\n      <th>18</th>\n      <th>19</th>\n    </tr>\n  </thead>\n  <tbody>\n    <tr>\n      <th>0</th>\n      <td>1001</td>\n      <td>32.536382</td>\n      <td>-86.644490</td>\n      <td>63</td>\n      <td>0.0419</td>\n      <td>0.2788</td>\n      <td>0.2984</td>\n      <td>0.2497</td>\n      <td>0.1142</td>\n      <td>0.0170</td>\n      <td>...</td>\n      <td>0.0</td>\n      <td>12.924228</td>\n      <td>0.0</td>\n      <td>0.0</td>\n      <td>0.0</td>\n      <td>0.0</td>\n      <td>0.0</td>\n      <td>0.0</td>\n      <td>0.0</td>\n      <td>3.257389</td>\n    </tr>\n    <tr>\n      <th>1</th>\n      <td>1001</td>\n      <td>32.536382</td>\n      <td>-86.644490</td>\n      <td>63</td>\n      <td>0.0419</td>\n      <td>0.2788</td>\n      <td>0.2984</td>\n      <td>0.2497</td>\n      <td>0.1142</td>\n      <td>0.0170</td>\n      <td>...</td>\n      <td>0.0</td>\n      <td>3.242168</td>\n      <td>0.0</td>\n      <td>0.0</td>\n      <td>0.0</td>\n      <td>0.0</td>\n      <td>0.0</td>\n      <td>0.0</td>\n      <td>0.0</td>\n      <td>4.217978</td>\n    </tr>\n    <tr>\n      <th>2</th>\n      <td>1001</td>\n      <td>32.536382</td>\n      <td>-86.644490</td>\n      <td>63</td>\n      <td>0.0419</td>\n      <td>0.2788</td>\n      <td>0.2984</td>\n      <td>0.2497</td>\n      <td>0.1142</td>\n      <td>0.0170</td>\n      <td>...</td>\n      <td>0.0</td>\n      <td>0.985612</td>\n      <td>0.0</td>\n      <td>0.0</td>\n      <td>0.0</td>\n      <td>0.0</td>\n      <td>0.0</td>\n      <td>0.0</td>\n      <td>0.0</td>\n      <td>4.391076</td>\n    </tr>\n    <tr>\n      <th>3</th>\n      <td>1001</td>\n      <td>32.536382</td>\n      <td>-86.644490</td>\n      <td>63</td>\n      <td>0.0419</td>\n      <td>0.2788</td>\n      <td>0.2984</td>\n      <td>0.2497</td>\n      <td>0.1142</td>\n      <td>0.0170</td>\n      <td>...</td>\n      <td>0.0</td>\n      <td>4.812413</td>\n      <td>0.0</td>\n      <td>0.0</td>\n      <td>0.0</td>\n      <td>0.0</td>\n      <td>0.0</td>\n      <td>0.0</td>\n      <td>0.0</td>\n      <td>4.167752</td>\n    </tr>\n    <tr>\n      <th>4</th>\n      <td>1001</td>\n      <td>32.536382</td>\n      <td>-86.644490</td>\n      <td>63</td>\n      <td>0.0419</td>\n      <td>0.2788</td>\n      <td>0.2984</td>\n      <td>0.2497</td>\n      <td>0.1142</td>\n      <td>0.0170</td>\n      <td>...</td>\n      <td>0.0</td>\n      <td>6.386332</td>\n      <td>0.0</td>\n      <td>0.0</td>\n      <td>0.0</td>\n      <td>0.0</td>\n      <td>0.0</td>\n      <td>0.0</td>\n      <td>0.0</td>\n      <td>3.514565</td>\n    </tr>\n    <tr>\n      <th>...</th>\n      <td>...</td>\n      <td>...</td>\n      <td>...</td>\n      <td>...</td>\n      <td>...</td>\n      <td>...</td>\n      <td>...</td>\n      <td>...</td>\n      <td>...</td>\n      <td>...</td>\n      <td>...</td>\n      <td>...</td>\n      <td>...</td>\n      <td>...</td>\n      <td>...</td>\n      <td>...</td>\n      <td>...</td>\n      <td>...</td>\n      <td>...</td>\n      <td>...</td>\n      <td>...</td>\n    </tr>\n    <tr>\n      <th>2271943</th>\n      <td>56043</td>\n      <td>43.878831</td>\n      <td>-107.669052</td>\n      <td>1417</td>\n      <td>0.0034</td>\n      <td>0.0470</td>\n      <td>0.2331</td>\n      <td>0.4099</td>\n      <td>0.2064</td>\n      <td>0.0999</td>\n      <td>...</td>\n      <td>0.0</td>\n      <td>0.000000</td>\n      <td>0.0</td>\n      <td>0.0</td>\n      <td>0.0</td>\n      <td>0.0</td>\n      <td>0.0</td>\n      <td>0.0</td>\n      <td>0.0</td>\n      <td>4.403797</td>\n    </tr>\n    <tr>\n      <th>2271944</th>\n      <td>56043</td>\n      <td>43.878831</td>\n      <td>-107.669052</td>\n      <td>1417</td>\n      <td>0.0034</td>\n      <td>0.0470</td>\n      <td>0.2331</td>\n      <td>0.4099</td>\n      <td>0.2064</td>\n      <td>0.0999</td>\n      <td>...</td>\n      <td>0.0</td>\n      <td>0.000000</td>\n      <td>0.0</td>\n      <td>0.0</td>\n      <td>0.0</td>\n      <td>0.0</td>\n      <td>0.0</td>\n      <td>0.0</td>\n      <td>0.0</td>\n      <td>4.544276</td>\n    </tr>\n    <tr>\n      <th>2271945</th>\n      <td>56043</td>\n      <td>43.878831</td>\n      <td>-107.669052</td>\n      <td>1417</td>\n      <td>0.0034</td>\n      <td>0.0470</td>\n      <td>0.2331</td>\n      <td>0.4099</td>\n      <td>0.2064</td>\n      <td>0.0999</td>\n      <td>...</td>\n      <td>0.0</td>\n      <td>0.000000</td>\n      <td>0.0</td>\n      <td>0.0</td>\n      <td>0.0</td>\n      <td>0.0</td>\n      <td>0.0</td>\n      <td>0.0</td>\n      <td>0.0</td>\n      <td>4.603718</td>\n    </tr>\n    <tr>\n      <th>2271946</th>\n      <td>56043</td>\n      <td>43.878831</td>\n      <td>-107.669052</td>\n      <td>1417</td>\n      <td>0.0034</td>\n      <td>0.0470</td>\n      <td>0.2331</td>\n      <td>0.4099</td>\n      <td>0.2064</td>\n      <td>0.0999</td>\n      <td>...</td>\n      <td>0.0</td>\n      <td>0.000000</td>\n      <td>0.0</td>\n      <td>0.0</td>\n      <td>0.0</td>\n      <td>0.0</td>\n      <td>0.0</td>\n      <td>0.0</td>\n      <td>0.0</td>\n      <td>4.583138</td>\n    </tr>\n    <tr>\n      <th>2271947</th>\n      <td>56043</td>\n      <td>43.878831</td>\n      <td>-107.669052</td>\n      <td>1417</td>\n      <td>0.0034</td>\n      <td>0.0470</td>\n      <td>0.2331</td>\n      <td>0.4099</td>\n      <td>0.2064</td>\n      <td>0.0999</td>\n      <td>...</td>\n      <td>0.0</td>\n      <td>0.000000</td>\n      <td>0.0</td>\n      <td>0.0</td>\n      <td>0.0</td>\n      <td>0.0</td>\n      <td>0.0</td>\n      <td>0.0</td>\n      <td>0.0</td>\n      <td>4.457295</td>\n    </tr>\n  </tbody>\n</table>\n<p>2271948 rows × 52 columns</p>\n</div>"
          },
          "execution_count": 60,
          "metadata": {},
          "output_type": "execute_result"
        }
      ],
      "source": [
        "test_combined"
      ],
      "metadata": {
        "ExecuteTime": {
          "end_time": "2023-10-22T16:39:21.847787600Z",
          "start_time": "2023-10-22T16:39:21.570076400Z"
        },
        "id": "60c938319dfe6a9b",
        "outputId": "d56c90f7-939b-4326-f9e4-4a961b72053a"
      },
      "id": "60c938319dfe6a9b"
    },
    {
      "cell_type": "code",
      "execution_count": null,
      "outputs": [],
      "source": [
        "#save combined file\n",
        "train_combined.to_csv('C:/Users/anon/Desktop/tensorflow_test/train_combined.csv', index=False)\n",
        "validation_combined.to_csv('C:/Users/anon/Desktop/tensorflow_test/validation_combined.csv', index=False)\n",
        "test_combined.to_csv('C:/Users/anon/Desktop/tensorflow_test/test_combined.csv' , index=False)"
      ],
      "metadata": {
        "ExecuteTime": {
          "end_time": "2023-10-22T16:47:02.051581Z",
          "start_time": "2023-10-22T16:40:44.160345900Z"
        },
        "id": "e9954f0903757a18"
      },
      "id": "e9954f0903757a18"
    },
    {
      "cell_type": "markdown",
      "source": [
        "**The futher implementation part of this in file encoder_next_file...**\n",
        "\n"
      ],
      "metadata": {
        "id": "uZfp8sBRsIFr"
      },
      "id": "uZfp8sBRsIFr"
    }
  ],
  "metadata": {
    "kernelspec": {
      "display_name": "Python 3",
      "language": "python",
      "name": "python3"
    },
    "language_info": {
      "codemirror_mode": {
        "name": "ipython",
        "version": 2
      },
      "file_extension": ".py",
      "mimetype": "text/x-python",
      "name": "python",
      "nbconvert_exporter": "python",
      "pygments_lexer": "ipython2",
      "version": "2.7.6"
    },
    "colab": {
      "provenance": []
    }
  },
  "nbformat": 4,
  "nbformat_minor": 5
}